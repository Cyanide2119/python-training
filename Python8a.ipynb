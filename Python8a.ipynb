{
  "nbformat": 4,
  "nbformat_minor": 0,
  "metadata": {
    "colab": {
      "provenance": [],
      "authorship_tag": "ABX9TyMO10B6LxbvC0guYWnIHc9r",
      "include_colab_link": true
    },
    "kernelspec": {
      "name": "python3",
      "display_name": "Python 3"
    },
    "language_info": {
      "name": "python"
    }
  },
  "cells": [
    {
      "cell_type": "markdown",
      "metadata": {
        "id": "view-in-github",
        "colab_type": "text"
      },
      "source": [
        "<a href=\"https://colab.research.google.com/github/Cyanide2119/python-training/blob/main/Python8a.ipynb\" target=\"_parent\"><img src=\"https://colab.research.google.com/assets/colab-badge.svg\" alt=\"Open In Colab\"/></a>"
      ]
    },
    {
      "cell_type": "code",
      "execution_count": null,
      "metadata": {
        "colab": {
          "base_uri": "https://localhost:8080/"
        },
        "id": "V9LJVri4FULx",
        "outputId": "4f5fd688-376f-4932-b9e3-a56811752275"
      },
      "outputs": [
        {
          "output_type": "stream",
          "name": "stdout",
          "text": [
            "Enter the string:hiewhui uhhuewu uwuhu fhu uerh 378124\n",
            "6\n",
            "6\n"
          ]
        }
      ],
      "source": [
        "s=input(\"Enter the string:\")\n",
        "\n",
        "lst1=[' ']\n",
        "lst2=[]\n",
        "for i in range(9):\n",
        "    lst2.append(str(i))\n",
        "wc=1\n",
        "dc=0\n",
        "for i in s:\n",
        "    if i in lst1:\n",
        "        wc+=1\n",
        "    if i in lst2:\n",
        "        dc+=1\n",
        "\n",
        "print(wc)\n",
        "print(dc)\n"
      ]
    },
    {
      "cell_type": "code",
      "source": [
        "import string\n",
        "sentence=input(\"Enter a sentence:\")\n",
        "wordlist=sentence.strip().split(\" \")\n",
        "\n",
        "print(f\"This sentence has {len(wordlist)} words\")\n",
        "\n",
        "digit_count=uppercase_count=lowercase_count=0\n",
        "\n",
        "for character in sentence:\n",
        "    if character in string.digits:\n",
        "        digit_count+=1\n",
        "\n",
        "    elif character in string.ascii_uppercase:\n",
        "        uppercase_count+=1\n",
        "    elif character in string.ascii_lowercase:\n",
        "        lowercase_count+=1\n",
        "\n",
        "print(\"Digit count: \",digit_count)\n",
        "print(\"Uppercase character count: \",uppercase_count)\n",
        "print(\"Lowercase character count: \",lowercase_count)"
      ],
      "metadata": {
        "colab": {
          "base_uri": "https://localhost:8080/"
        },
        "id": "Pnnjk07kFvs_",
        "outputId": "144f6086-59a6-400e-a48b-4d75953f497f"
      },
      "execution_count": null,
      "outputs": [
        {
          "output_type": "stream",
          "name": "stdout",
          "text": [
            "Enter a sentence:     this sentence has 345 plus words and more than 39 sentences\n",
            "This sentence has 11 words\n",
            "Digit count:  5\n",
            "Uppercase character count:  0\n",
            "Lowercase character count:  44\n"
          ]
        }
      ]
    },
    {
      "cell_type": "markdown",
      "source": [
        "Given an array of integers and a number k. Find the count of distinct elements in every window of size k in the array"
      ],
      "metadata": {
        "id": "FFxH5WeSKApg"
      }
    },
    {
      "cell_type": "code",
      "source": [],
      "metadata": {
        "id": "E-i74_KiMZKO"
      },
      "execution_count": null,
      "outputs": []
    },
    {
      "cell_type": "code",
      "source": [
        "n=int(input(\"Enter the array size:\"))\n",
        "\n",
        "lst=[]\n",
        "lst1=[]\n",
        "for i in range(n):\n",
        "    lst.append(int(input()))\n",
        "\n",
        "k=int(input(\"Enter the window size\"))\n",
        "lst2=[]\n",
        "for i in range(0,n-k+1):\n",
        "    lst1=[]\n",
        "    for j in range(i,k+i):\n",
        "        lst1.append(lst[j])\n",
        "\n",
        "    lst2.append(lst1)\n",
        "\n",
        "lst3=[]\n",
        "for i in lst2:\n",
        "    i=set(i)\n",
        "    lst3.append(len(i))\n",
        "\n",
        "print(lst3)\n"
      ],
      "metadata": {
        "colab": {
          "base_uri": "https://localhost:8080/"
        },
        "id": "0XhxZDHSLl9p",
        "outputId": "3473a1d4-603a-438c-d43e-f0c011d4da01"
      },
      "execution_count": null,
      "outputs": [
        {
          "output_type": "stream",
          "name": "stdout",
          "text": [
            "Enter the array size:7\n",
            "1\n",
            "2\n",
            "1\n",
            "3\n",
            "4\n",
            "2\n",
            "3\n",
            "Enter the window size4\n",
            "[3, 4, 4, 3]\n"
          ]
        }
      ]
    },
    {
      "cell_type": "markdown",
      "source": [
        "An equilibrium index is an index such that the sum of elements of lower indices is equal to sum of indices at higher indices\n",
        "\n",
        "arr=[-7,1,5,2,-4,3,0]\n",
        "o/p=3\n",
        "\n",
        "else if no such point exists return -1"
      ],
      "metadata": {
        "id": "8GQUyUCiPHL6"
      }
    },
    {
      "cell_type": "code",
      "source": [
        "def equilibriumPoint(A, N):\n",
        "    # Your code here\n",
        "    if N<3:\n",
        "        return 1\n",
        "\n",
        "    sum=sum1=0\n",
        "    for i in A:\n",
        "        sum+=i\n",
        "\n",
        "    x=sum\n",
        "\n",
        "    for i in range(len(A)-1):\n",
        "        sum=x\n",
        "        sum=sum-A[i+1]\n",
        "        sum1+=A[i]\n",
        "\n",
        "        if sum1==sum//2:\n",
        "            return i+2\n",
        "\n",
        "    return -1\n",
        "\n",
        "\n",
        "lst=[-7,1,5,2,-4,3,0]\n",
        "n=7\n",
        "y=equilibriumPoint(lst,n)\n",
        "print(y)"
      ],
      "metadata": {
        "colab": {
          "base_uri": "https://localhost:8080/"
        },
        "id": "hiUpPn1JUGKh",
        "outputId": "fd3908a9-3f17-43e6-ff79-4db8c9909ce2"
      },
      "execution_count": null,
      "outputs": [
        {
          "output_type": "stream",
          "name": "stdout",
          "text": [
            "4\n"
          ]
        }
      ]
    },
    {
      "cell_type": "code",
      "source": [
        "def equilibriumPoint(A, N):\n",
        "    # Your code here\n",
        "\n",
        "    for i in range(n):\n",
        "        lsum=sum(A[:i])\n",
        "        rsum=sum(A[i+1:])\n",
        "        if lsum==rsum:\n",
        "            return i\n",
        "\n",
        "    return -1\n",
        "\n",
        "\n",
        "lst=[-7,1,5,2,-4,3,0]\n",
        "n=7\n",
        "y=equilibriumPoint(lst,n)\n",
        "print(y)"
      ],
      "metadata": {
        "colab": {
          "base_uri": "https://localhost:8080/"
        },
        "id": "yu66Gy05b7IK",
        "outputId": "f5f4f945-2844-4cfd-be27-2fe0ee4bab5b"
      },
      "execution_count": null,
      "outputs": [
        {
          "output_type": "stream",
          "name": "stdout",
          "text": [
            "3\n"
          ]
        }
      ]
    },
    {
      "cell_type": "markdown",
      "source": [
        "You are given an mxn integer grid accounts, where account[i][j] is the amount of money the ith customer has in jth bank. The customers wealth is th amount of money they have in all their bank accounts. The richest customer is the customer that has the maximum wealth\n",
        "\n",
        "lst=[[1,5],[7,3],[3,5]]\n",
        "\n",
        "o/p=10\n",
        "\n"
      ],
      "metadata": {
        "id": "gAXZ48vQd8Kw"
      }
    },
    {
      "cell_type": "code",
      "source": [
        "lst=[[1,5],[7,3],[3,5]]\n",
        "lst1=[]\n",
        "for i,j in lst:\n",
        "    lst1.append(i+j)\n",
        "\n",
        "\n",
        "print(\"Customer\",lst1.index(max(lst1))+1,\"with wealth\",max(lst1))"
      ],
      "metadata": {
        "colab": {
          "base_uri": "https://localhost:8080/"
        },
        "id": "zACfHzHxgRBL",
        "outputId": "105b21e4-ec3c-4936-cf14-ef13e53a05d9"
      },
      "execution_count": null,
      "outputs": [
        {
          "output_type": "stream",
          "name": "stdout",
          "text": [
            "Customer 2 with wealth 10\n"
          ]
        }
      ]
    },
    {
      "cell_type": "markdown",
      "source": [
        "Given an array of size n-1, such that it only contains distinct integers in the range of 1 to n. Find the missing element\n",
        "\n",
        "n=10\n",
        "array=[6,1,2,8,3,4,7,10,5]"
      ],
      "metadata": {
        "id": "nnB4rW46gt98"
      }
    },
    {
      "cell_type": "code",
      "source": [
        "lst=[6,1,2,8,3,4,7,10,5,5,2,1,4]\n",
        "\n",
        "\n",
        "lst1=[1,2,3,4,5,6,7,8,9,10]\n",
        "flag=0\n",
        "for i in range(len(lst)):\n",
        "    flag=0\n",
        "    for j in range(len(lst1)):\n",
        "\n",
        "        if lst[i]==lst[j]:\n",
        "            flag=1\n",
        "\n",
        "\n",
        "        if j==9 and flag==0:\n",
        "            print(lst[i])\n",
        "\n",
        "\n",
        "\n",
        "\n"
      ],
      "metadata": {
        "id": "Dv51z6C9n76M"
      },
      "execution_count": null,
      "outputs": []
    },
    {
      "cell_type": "code",
      "source": [
        "import random\n",
        "def generate_random_number(low,high):\n",
        "    return random.randint(low,high)\n",
        "def check_guess(secret_number,guess):\n",
        "    if guess<secret_number:\n",
        "        return \"Too low\"\n",
        "    elif guess>secret_number:\n",
        "        return \"Too high\"\n",
        "    else:\n",
        "        return \"Correct!\"\n",
        "\n",
        "def main():\n",
        "    low=1\n",
        "    high=100\n",
        "    secret_number=generate_random_number(low,high)\n",
        "    print(\"Welcome to the Number guessing game\")\n",
        "    print(f\"Guess the number between {low} and {high}\")\n",
        "\n",
        "    guesses=0\n",
        "    while True:\n",
        "        guess=int(input(\"Enter your guess\"))\n",
        "        result=check_guess(secret_number,guess)\n",
        "        print(result)\n",
        "        guesses+=1\n",
        "        if result==\"Correct\":\n",
        "            print(f\"You guessed the number in {guesses} guesses\")\n",
        "\n",
        "            break\n",
        "\n",
        "if __name\n",
        "\n"
      ],
      "metadata": {
        "id": "ymYLUJEGobrg"
      },
      "execution_count": null,
      "outputs": []
    },
    {
      "cell_type": "code",
      "source": [
        "import random\n",
        "def demonstrate_random_module():\n",
        "    print(\"Random module demonstration:\")\n",
        "\n",
        "    # random.random() returns a random float in the range[0.0,1.0]\n",
        "    print(\"\\nrandom.random():\")\n",
        "    print(random.random())\n",
        "\n",
        "    # random.uniform(a,b) returns a random float in the range[a,b]\n",
        "    print(\"\\nrandom.uniform(1,10):\")\n",
        "    print(random.uniform(1,10))\n",
        "\n",
        "    # random.randint(a,b) -returns a random integer in the range[a,b],\n",
        "    print(\"\\nrandom.randint(1,10):\")\n",
        "\n",
        "    # random.randrange(start,stop,step)- returns a randomly selected elements\n",
        "    print(\"\\nrandom.randrange(1,10,2):\")\n",
        "    print(random.randrange(1,10,2))\n",
        "\n",
        "    # random.choice(seq) -returns a randomly selected element from a non-empty\n",
        "    my_list=[1,2,3,4,5]\n",
        "    print(\"\\nrandom.choice([1,2,3,4,5]):\")\n",
        "    print(random.choice(my_list))\n",
        "\n",
        "\n",
        "    print(\"\\nrandom.choices([1,2,3,4,5],k=3):\")\n",
        "    print(random.choices(my_list,k=3))\n",
        "\n",
        "\n",
        "    print(\"\\nrandom.sample([1,2,3,4,5],k=3):\")\n",
        "    print(random.sample(my_list,k=3))\n",
        "\n",
        "    print(\"\\nrandom.shuffle([1,2,3,4,5]):\")\n",
        "    random.shuffle(my_list)\n",
        "    print(my_list)\n",
        "\n",
        "    print(\"random.seed(10) and random.random():\")\n",
        "    random.seed(10)\n",
        "    print(random.random())\n",
        "\n",
        "\n",
        "    print(\"\\nrandom.getrandbits(5):\")\n",
        "    print(random.getrandbits(5))\n",
        "\n",
        "\n",
        "    print(\"\\nrandom.gauss(0,1):\")\n",
        "    print(random.gauss(0,1))\n",
        "\n",
        "if __name__==\"__main__\":\n",
        "    demonstrate_random_module()\n",
        "\n"
      ],
      "metadata": {
        "colab": {
          "base_uri": "https://localhost:8080/"
        },
        "id": "UvV1xu3VCicP",
        "outputId": "abd72c52-56a0-4c1a-e7bb-c6ccc840cd37"
      },
      "execution_count": null,
      "outputs": [
        {
          "output_type": "stream",
          "name": "stdout",
          "text": [
            "Random module demonstration:\n",
            "\n",
            "random.random():\n",
            "0.8190166667729847\n",
            "\n",
            "random.uniform(1,10):\n",
            "1.6846032457946207\n",
            "\n",
            "random.randint(1,10):\n",
            "\n",
            "random.randrange(1,10,2):\n",
            "7\n",
            "\n",
            "random.choice([1,2,3,4,5]):\n",
            "4\n",
            "\n",
            "random.choices([1,2,3,4,5],k=3):\n",
            "[3, 4, 5]\n",
            "\n",
            "random.sample([1,2,3,4,5],k=3):\n",
            "[2, 1, 4]\n",
            "\n",
            "random.shuffle([1,2,3,4,5]):\n",
            "[3, 1, 4, 2, 5]\n",
            "random.seed(10) and random.random():\n",
            "0.5714025946899135\n",
            "\n",
            "random.getrandbits(5):\n",
            "13\n",
            "\n",
            "random.gauss(0,1):\n",
            "-0.17184215581537432\n"
          ]
        }
      ]
    },
    {
      "cell_type": "markdown",
      "source": [
        "Create a python pgm to convert binary to decimal and decimal to octadecimal"
      ],
      "metadata": {
        "id": "XZ1gRQHBGsSC"
      }
    },
    {
      "cell_type": "markdown",
      "source": [
        "1. converting int to decimal\n",
        "2. string into decimal\n",
        "3. reversing string using slicing technique\n",
        "4. count vowels and\n",
        "fibonacci\n",
        "min and max no. of list without min and max func\n",
        "comparing two strings for anagrams\n",
        "checking for palindrome using extendecd slicing\n",
        "building a pyramid pattern in python"
      ],
      "metadata": {
        "id": "UDSMStr-J6Fy"
      }
    },
    {
      "cell_type": "markdown",
      "source": [
        "Develop a python pgm that analyzes the sentiment of a given text input. It involves determining whether a piece of text expresses positive, negative or neutral sentiments.\n",
        "Requirements: the pgm should promplt the user for sentimental analhysis\n",
        "it should analyse the sentiment of input using text blog\n",
        "The sentiment analysis should include determining the polarity and\n",
        "The pgm should categorize the statement as +ve,-ve or neutral based on the polarity. It should display the sentiment category which is +ve,-ve and neutral and polarity value in the range -1 to 1\n",
        "and subjectivity in the range -1 to 1"
      ],
      "metadata": {
        "id": "vA-9lhv-bvSw"
      }
    },
    {
      "cell_type": "code",
      "source": [
        "\n",
        "\"\"\"\n",
        "\n",
        "Develop a python pgm that analyzes the sentiment of a given text input. It involves determining whether a piece of text expresses positive, negative or neutral sentiments.\n",
        "\n",
        "Requirements:\n",
        "The pgm should promplt the user for sentimental analysis\n",
        "It should analyse the sentiment of input using text blog\n",
        "The sentiment analysis should include determining the polarity and\n",
        "The pgm should categorize the statement as +ve,-ve or neutral based on the polarity. It should display the sentiment category which is +ve,-ve and neutral and polarity value in the range -1 to 1\n",
        "and subjectivity in the range -1 to 1\n",
        "\n",
        "\"\"\""
      ],
      "metadata": {
        "id": "sW5-JmPpc869"
      },
      "execution_count": null,
      "outputs": []
    },
    {
      "cell_type": "code",
      "source": [
        "\"\"\"\n",
        "\n",
        "Given an array of strings words and the width max width. Format the text such that each line has exactly max width characters and is fully justified. You should pack your words in a greddy approach, i.e pack as many words as you can in each line, pad extra spaces when neccessary so that each line has exactly max width characters extra spaces b/w the words should be distributed as evenly as possible. If the number of spaces on a line does not divide evenly b/w the words, empty slots on the left will be assigned more spaces than the slots on the right. For the last line of text, it should be left justified and no space is inserted b/w words.\n",
        "\n",
        "\"\"\""
      ],
      "metadata": {
        "colab": {
          "base_uri": "https://localhost:8080/",
          "height": 104
        },
        "id": "K4vxEGgtdPHb",
        "outputId": "2f2f8cd5-8860-4ce7-ef2e-d5d3501cfe2e"
      },
      "execution_count": 4,
      "outputs": [
        {
          "output_type": "execute_result",
          "data": {
            "text/plain": [
              "'\\n\\nGiven an array of strings words and the width max width. Format the text such that each line has exactly max width characters and is fully justified. You should pack your words in a greddy approach, i.e pack as many words as you can in each line, pad extra spaces when neccessary so that each line has exactly max width characters extra spaces b/w the words should be distributed as evenly as possible. If the number of spaces on a line does not divide evenly b/w the words, empty slots on the left will be assigned more spaces than the slots on the right. For the last line of text, it should be left justified and no space is inserted b/w words.\\n\\n'"
            ],
            "application/vnd.google.colaboratory.intrinsic+json": {
              "type": "string"
            }
          },
          "metadata": {},
          "execution_count": 4
        }
      ]
    },
    {
      "cell_type": "code",
      "source": [],
      "metadata": {
        "id": "K8p_uFKweOyV"
      },
      "execution_count": null,
      "outputs": []
    }
  ]
}