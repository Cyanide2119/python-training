{
  "nbformat": 4,
  "nbformat_minor": 0,
  "metadata": {
    "colab": {
      "provenance": [],
      "authorship_tag": "ABX9TyPx23qM1hci/7vxDlF/xZVE",
      "include_colab_link": true
    },
    "kernelspec": {
      "name": "python3",
      "display_name": "Python 3"
    },
    "language_info": {
      "name": "python"
    }
  },
  "cells": [
    {
      "cell_type": "markdown",
      "metadata": {
        "id": "view-in-github",
        "colab_type": "text"
      },
      "source": [
        "<a href=\"https://colab.research.google.com/github/Cyanide2119/python-training/blob/main/Python6b.ipynb\" target=\"_parent\"><img src=\"https://colab.research.google.com/assets/colab-badge.svg\" alt=\"Open In Colab\"/></a>"
      ]
    },
    {
      "cell_type": "markdown",
      "source": [
        "# OOPS"
      ],
      "metadata": {
        "id": "fS37s4_E_EdS"
      }
    },
    {
      "cell_type": "markdown",
      "source": [],
      "metadata": {
        "id": "0PKOSDtP_KMi"
      }
    },
    {
      "cell_type": "code",
      "source": [
        "class Person(object):\n",
        "    def __init__(self,name,idnumber):\n",
        "        self.name=name\n",
        "        self.idnumber=idnumber\n",
        "\n",
        "    def display(self):\n",
        "        print(self.name)\n",
        "        print(self.idnumber)\n",
        "\n",
        "    def details(self):\n",
        "        print(f\"My name is {self.name}\")\n",
        "        print(\"IdNumber: {}\".format(self.idnumber))\n",
        "\n",
        "\n",
        "#child class\n",
        "\n",
        "class Employee(Person):\n",
        "    def __init__(self, name, idnumber, salary, post):\n",
        "        self.salary=salary\n",
        "        self.post=post\n",
        "        Person.__init__(self, name, idnumber)\n",
        "\n",
        "    def details(self):\n",
        "        print(\"My name is {}\".format(self.name))\n",
        "        print(\"IdNumber: {}\".format(self.idnumber))\n",
        "        print(\"Post: {}\".format(self.post))\n",
        "\n",
        "#creation of an object variableor an instance\n",
        "a=Employee('Rahul',886012,20000,'Intern')\n",
        "a.display()\n",
        "a.details()"
      ],
      "metadata": {
        "colab": {
          "base_uri": "https://localhost:8080/"
        },
        "id": "xsNPEWlXOJaL",
        "outputId": "871d7c3a-a0b5-462e-c89f-1d0614ec9953"
      },
      "execution_count": null,
      "outputs": [
        {
          "output_type": "stream",
          "name": "stdout",
          "text": [
            "Rahul\n",
            "886012\n",
            "My name is Rahul\n",
            "IdNumber: 886012\n",
            "Post: Intern\n"
          ]
        }
      ]
    },
    {
      "cell_type": "code",
      "source": [
        "class Bird:\n",
        "    def intro(self):\n",
        "        print(\"There are many types of birds\")\n",
        "    def flight(self):\n",
        "        print(\"Most of the birds can fly but some cannot\")\n",
        "\n",
        "class Sparrow(Bird):\n",
        "    def flight(self):\n",
        "        print(\"Sparrows can fly\")\n",
        "\n",
        "class Ostrich(Bird):\n",
        "    def flight(self):\n",
        "        print(\"Ostriches cannot fly\")\n",
        "\n",
        "\n",
        "obj_bird=Bird()\n",
        "obj_spr=Sparrow()\n",
        "obj_ost=Ostrich()\n",
        "\n",
        "obj_bird.intro()\n",
        "obj_bird.flight()\n",
        "\n",
        "obj_spr.intro()\n",
        "obj_spr.flight()\n",
        "\n",
        "obj_ost.intro()\n",
        "obj_ost.flight()"
      ],
      "metadata": {
        "id": "3emQh_FoQJFh",
        "colab": {
          "base_uri": "https://localhost:8080/"
        },
        "outputId": "2ceb632d-3a01-4681-fd1b-a01515ebc5d3"
      },
      "execution_count": null,
      "outputs": [
        {
          "output_type": "stream",
          "name": "stdout",
          "text": [
            "There are many types of birds\n",
            "Most of the birds can fly but some cannot\n",
            "There are many types of birds\n",
            "Sparrows can fly\n",
            "There are many types of birds\n",
            "Ostriches cannot fly\n"
          ]
        }
      ]
    },
    {
      "cell_type": "code",
      "source": [
        "class Super:\n",
        "\n",
        "    #public data member\n",
        "    var1=None\n",
        "\n",
        "    #protected data member\n",
        "    _var2=None\n",
        "\n",
        "    #private data member\n",
        "    __var3=None\n",
        "\n",
        "    #constructor\n",
        "    def __init__(self,var1,var2,var3):\n",
        "        self.var1=var1\n",
        "        self._var2=var2\n",
        "        self.__var3=var3\n",
        "\n",
        "\n",
        "    #public member function\n",
        "    def displayPublicMembers(self):\n",
        "\n",
        "        #accessing public data members\n",
        "        print(\"Public Data Member: \",self.var1)\n",
        "\n",
        "    #protected member function\n",
        "    def _displayProtectedMembers(self):\n",
        "\n",
        "        #accessing protected data members\n",
        "        print(\"Protected Data Member: \",self._var2)\n",
        "\n",
        "\n",
        "    def __displayPrivateMembers(self):\n",
        "\n",
        "        #accessing private data members\n",
        "        print(\"Private Data Member: \",self.__var3)\n",
        "\n",
        "\n",
        "    #public member function\n",
        "    def accessPrivateMembers(self):\n",
        "\n",
        "        #acessing private member function\n",
        "        self.__displayPrivateMembers()\n",
        "\n",
        "\n",
        "class Sub(Super):\n",
        "\n",
        "    #constructor\n",
        "    def __init__(self, var1, var2, var3):\n",
        "        Super.__init__(self,var1,var2,var3)\n",
        "\n",
        "    #public member function\n",
        "    def accessProtectedMembers(self):\n",
        "\n",
        "        #accessing protected member functions of super class\n",
        "        self._displayProtectedMembers()\n",
        "\n",
        "\n",
        "\n",
        "obj=Sub(\"Hello\",\"all\",\"people!\")\n",
        "\n",
        "#calling public member functions of the class\n",
        "obj.displayPublicMembers()\n",
        "obj.accessProtectedMembers()\n",
        "obj.accessPrivateMembers()\n",
        "\n",
        "#Object can access protectes member\n",
        "print(\"Object is accessing protected member:\",obj._var2)\n",
        "\n",
        "#object can not access private member, so it will generate Attribute\n",
        "#print(obj.__var3)"
      ],
      "metadata": {
        "colab": {
          "base_uri": "https://localhost:8080/"
        },
        "id": "Uu8UYMAM6U1a",
        "outputId": "2d20c774-21c8-49af-bf80-9e36afce19c5"
      },
      "execution_count": null,
      "outputs": [
        {
          "output_type": "stream",
          "name": "stdout",
          "text": [
            "Public Data Member:  Hello\n",
            "Protected Data Member:  all\n",
            "Private Data Member:  people!\n",
            "Object is accessing protected member: all\n"
          ]
        }
      ]
    },
    {
      "cell_type": "markdown",
      "source": [
        "Write a python a pgm to create a cart representing shopping cart. Include methods for adding and removing items and calculating total price"
      ],
      "metadata": {
        "id": "k8xgVhzE_nov"
      }
    },
    {
      "cell_type": "code",
      "source": [
        "\n",
        "class Cart:\n",
        "\n",
        "    def __init__(self):\n",
        "        self.lst = []\n",
        "\n",
        "    def additems(self, item_name, price):\n",
        "        self.lst.append([item_name,price])\n",
        "\n",
        "\n",
        "    def remitems(self, item_name):\n",
        "        for i in self.lst:\n",
        "            if i[0]==item_name:\n",
        "                self.lst.remove(i)\n",
        "\n",
        "\n",
        "\n",
        "    def calc(self):\n",
        "        total=0\n",
        "        for i in self.lst:\n",
        "            total+=i[1]\n",
        "\n",
        "        print(\"\\nTotal cost:\",total)\n",
        "\n",
        "\n",
        "\n",
        "cart=Cart()\n",
        "\n",
        "cart.additems(\"Apple\",350)\n",
        "cart.additems(\"Shampoo\",200)\n",
        "cart.additems(\"Bottle\",120)\n",
        "cart.additems(\"Rice\",75)\n",
        "\n",
        "\n",
        "for i in cart.lst:\n",
        "    print(i[0],end=\": \")\n",
        "    print(\"Rs\",end=\".\")\n",
        "    print(i[1])\n",
        "\n",
        "\n",
        "\n",
        "cart.calc()\n",
        "\n",
        "cart.remitems(\"Apple\")\n",
        "print(\"\\n\")\n",
        "\n",
        "print(\"List after removing items:-\")\n",
        "\n",
        "for i in cart.lst:\n",
        "    print(i[0],end=\": \")\n",
        "    print(\"Rs\",end=\".\")\n",
        "    print(i[1])\n",
        "\n",
        "\n",
        "cart.calc()"
      ],
      "metadata": {
        "colab": {
          "base_uri": "https://localhost:8080/"
        },
        "id": "IpQWxD_IDPRr",
        "outputId": "ca6b62b8-440b-46fd-a723-14ec2a027f33"
      },
      "execution_count": null,
      "outputs": [
        {
          "output_type": "stream",
          "name": "stdout",
          "text": [
            "Apple: Rs.350\n",
            "Shampoo: Rs.200\n",
            "Bottle: Rs.120\n",
            "Rice: Rs.75\n",
            "\n",
            "Total cost: 745\n",
            "\n",
            "\n",
            "List after removing items:-\n",
            "Shampoo: Rs.200\n",
            "Bottle: Rs.120\n",
            "Rice: Rs.75\n",
            "\n",
            "Total cost: 395\n"
          ]
        }
      ]
    },
    {
      "cell_type": "code",
      "source": [
        "class ShoppingCart:\n",
        "    def __init__(self):\n",
        "        self.items={}\n",
        "\n",
        "    def add_item(self,item_name,price, quantity=1):\n",
        "        if item_name in self.items:\n",
        "            self.items[item_name]['quantity']+=quantity\n",
        "        else:\n",
        "            self.items[item_name]={'price': price, 'quantity:': quantity}\n",
        "        print(f\"Added {quantity} of {item_name} to the cart\")\n",
        "\n",
        "    def remove_item(self,item_name,quantity):\n",
        "        #incase you try to remove more quantity than already present, the\n",
        "        if item_name in self.items:\n",
        "            if self.items[item_name]['quantity']<=quantity:\n",
        "                del self.itmes[item_name]\n",
        "                print(f\"Removed all {item_name} from the cart\")\n",
        "\n",
        "        #Decrement the qty after removal\n",
        "            else:\n",
        "                self.items[item_name]['quantity']-=quantity\n",
        "                print(f\"Removed {quantity} of {item_name} form the cart\")\n",
        "\n",
        "        else:\n",
        "            print(f\"{item_name} not found in the cart\")\n",
        "\n",
        "\n",
        "    def calculate_total(self):\n",
        "        total_price=0\n",
        "        for item in self.items.values():\n",
        "            total_price+=item['price']*item['quantity']\n",
        "\n",
        "        return total_price\n",
        "\n",
        "    def display_cart(self):\n",
        "        if not in self.items:\n",
        "            print(\"The cart is empty\")\n",
        "\n",
        "        else:\n",
        "            print(\"Shopping Cart:\")\n",
        "            for item_name, details in self.items.items():\n",
        "                print(f\"{item_name}: {details['price']} x {details['quantity']}\")\n",
        "\n",
        "            print(f\"Total:{self.calculate_total()}\")\n",
        "\n",
        "\n",
        "cart=ShoppingCart()\n",
        "cart.add_item(\"Apple\",99,5)\n",
        "cart.add_item(\"Banana\",59,3)\n",
        "cart.display_cart()\n",
        "\n",
        "cart.remove_item(\"Apple\",2)\n",
        "cart.display_cart()\n",
        "\n",
        "cart.add_item(\"Orange\",29,2)\n",
        "cart.display_cart()\n",
        "\n",
        "cart.remove_item(\"Banana\",3)\n",
        "cart.display_cart()\n",
        "\n",
        "\n"
      ],
      "metadata": {
        "id": "COt2pHO5HYZC",
        "colab": {
          "base_uri": "https://localhost:8080/",
          "height": 384
        },
        "outputId": "7cd7845e-f738-4238-a01c-9d5b4d8ed6a7"
      },
      "execution_count": null,
      "outputs": [
        {
          "output_type": "stream",
          "name": "stdout",
          "text": [
            "Added 5 of Apple to the cart\n",
            "Added 3 of Banana to the cart\n",
            "Shopping Cart:\n"
          ]
        },
        {
          "output_type": "error",
          "ename": "KeyError",
          "evalue": "'quantity'",
          "traceback": [
            "\u001b[0;31m---------------------------------------------------------------------------\u001b[0m",
            "\u001b[0;31mKeyError\u001b[0m                                  Traceback (most recent call last)",
            "\u001b[0;32m<ipython-input-21-47a2c736c393>\u001b[0m in \u001b[0;36m<cell line: 47>\u001b[0;34m()\u001b[0m\n\u001b[1;32m     45\u001b[0m \u001b[0mcart\u001b[0m\u001b[0;34m.\u001b[0m\u001b[0madd_item\u001b[0m\u001b[0;34m(\u001b[0m\u001b[0;34m\"Apple\"\u001b[0m\u001b[0;34m,\u001b[0m\u001b[0;36m99\u001b[0m\u001b[0;34m,\u001b[0m\u001b[0;36m5\u001b[0m\u001b[0;34m)\u001b[0m\u001b[0;34m\u001b[0m\u001b[0;34m\u001b[0m\u001b[0m\n\u001b[1;32m     46\u001b[0m \u001b[0mcart\u001b[0m\u001b[0;34m.\u001b[0m\u001b[0madd_item\u001b[0m\u001b[0;34m(\u001b[0m\u001b[0;34m\"Banana\"\u001b[0m\u001b[0;34m,\u001b[0m\u001b[0;36m59\u001b[0m\u001b[0;34m,\u001b[0m\u001b[0;36m3\u001b[0m\u001b[0;34m)\u001b[0m\u001b[0;34m\u001b[0m\u001b[0;34m\u001b[0m\u001b[0m\n\u001b[0;32m---> 47\u001b[0;31m \u001b[0mcart\u001b[0m\u001b[0;34m.\u001b[0m\u001b[0mdisplay_cart\u001b[0m\u001b[0;34m(\u001b[0m\u001b[0;34m)\u001b[0m\u001b[0;34m\u001b[0m\u001b[0;34m\u001b[0m\u001b[0m\n\u001b[0m\u001b[1;32m     48\u001b[0m \u001b[0;34m\u001b[0m\u001b[0m\n\u001b[1;32m     49\u001b[0m \u001b[0mcart\u001b[0m\u001b[0;34m.\u001b[0m\u001b[0mremove_item\u001b[0m\u001b[0;34m(\u001b[0m\u001b[0;34m\"Apple\"\u001b[0m\u001b[0;34m,\u001b[0m\u001b[0;36m2\u001b[0m\u001b[0;34m)\u001b[0m\u001b[0;34m\u001b[0m\u001b[0;34m\u001b[0m\u001b[0m\n",
            "\u001b[0;32m<ipython-input-21-47a2c736c393>\u001b[0m in \u001b[0;36mdisplay_cart\u001b[0;34m(self)\u001b[0m\n\u001b[1;32m     37\u001b[0m         \u001b[0mprint\u001b[0m\u001b[0;34m(\u001b[0m\u001b[0;34m\"Shopping Cart:\"\u001b[0m\u001b[0;34m)\u001b[0m\u001b[0;34m\u001b[0m\u001b[0;34m\u001b[0m\u001b[0m\n\u001b[1;32m     38\u001b[0m         \u001b[0;32mfor\u001b[0m \u001b[0mitem_name\u001b[0m\u001b[0;34m,\u001b[0m \u001b[0mdetails\u001b[0m \u001b[0;32min\u001b[0m \u001b[0mself\u001b[0m\u001b[0;34m.\u001b[0m\u001b[0mitems\u001b[0m\u001b[0;34m.\u001b[0m\u001b[0mitems\u001b[0m\u001b[0;34m(\u001b[0m\u001b[0;34m)\u001b[0m\u001b[0;34m:\u001b[0m\u001b[0;34m\u001b[0m\u001b[0;34m\u001b[0m\u001b[0m\n\u001b[0;32m---> 39\u001b[0;31m             \u001b[0mprint\u001b[0m\u001b[0;34m(\u001b[0m\u001b[0;34mf\"{item_name}: {details['price']} x {details['quantity']}\"\u001b[0m\u001b[0;34m)\u001b[0m\u001b[0;34m\u001b[0m\u001b[0;34m\u001b[0m\u001b[0m\n\u001b[0m\u001b[1;32m     40\u001b[0m \u001b[0;34m\u001b[0m\u001b[0m\n\u001b[1;32m     41\u001b[0m         \u001b[0mprint\u001b[0m\u001b[0;34m(\u001b[0m\u001b[0;34mf\"Total:{self.calculate_total()}\"\u001b[0m\u001b[0;34m)\u001b[0m\u001b[0;34m\u001b[0m\u001b[0;34m\u001b[0m\u001b[0m\n",
            "\u001b[0;31mKeyError\u001b[0m: 'quantity'"
          ]
        }
      ]
    },
    {
      "cell_type": "code",
      "source": [],
      "metadata": {
        "id": "fsDScdBjVaLV"
      },
      "execution_count": null,
      "outputs": []
    }
  ]
}