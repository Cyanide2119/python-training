{
  "nbformat": 4,
  "nbformat_minor": 0,
  "metadata": {
    "colab": {
      "provenance": [],
      "authorship_tag": "ABX9TyP46VnMa1tSePrqUMto22pH",
      "include_colab_link": true
    },
    "kernelspec": {
      "name": "python3",
      "display_name": "Python 3"
    },
    "language_info": {
      "name": "python"
    }
  },
  "cells": [
    {
      "cell_type": "markdown",
      "metadata": {
        "id": "view-in-github",
        "colab_type": "text"
      },
      "source": [
        "<a href=\"https://colab.research.google.com/github/Cyanide2119/python-training/blob/main/Python5b.ipynb\" target=\"_parent\"><img src=\"https://colab.research.google.com/assets/colab-badge.svg\" alt=\"Open In Colab\"/></a>"
      ]
    },
    {
      "cell_type": "markdown",
      "source": [
        "# Recursion"
      ],
      "metadata": {
        "id": "4NZpFvgZOicM"
      }
    },
    {
      "cell_type": "code",
      "source": [
        "def pow(n,p):\n",
        "    if p==1: #edge case\n",
        "        return n\n",
        "\n",
        "    return n*pow(n,p-1)\n",
        "\n",
        "x=pow(5,3)\n",
        "print(x)"
      ],
      "metadata": {
        "id": "u2a_fZHCOoIn",
        "colab": {
          "base_uri": "https://localhost:8080/"
        },
        "outputId": "2c9a0619-a21b-4384-8821-6d66145ff181"
      },
      "execution_count": null,
      "outputs": [
        {
          "output_type": "stream",
          "name": "stdout",
          "text": [
            "125\n"
          ]
        }
      ]
    },
    {
      "cell_type": "markdown",
      "source": [
        "time complexity: O(p)"
      ],
      "metadata": {
        "id": "W86XcZXouwft"
      }
    },
    {
      "cell_type": "markdown",
      "source": [
        "or"
      ],
      "metadata": {
        "id": "B_IOUrSmQuNL"
      }
    },
    {
      "cell_type": "code",
      "source": [
        "def pow(n,p):\n",
        "    if p==0:\n",
        "        return 1\n",
        "    p-=1\n",
        "    return n*pow(n,p)\n",
        "\n",
        "x=pow(5,3)\n",
        "print(x)"
      ],
      "metadata": {
        "colab": {
          "base_uri": "https://localhost:8080/"
        },
        "id": "R3kSqYieQmOZ",
        "outputId": "64533ed1-552c-417e-f584-23f2b0a6800f"
      },
      "execution_count": null,
      "outputs": [
        {
          "output_type": "stream",
          "name": "stdout",
          "text": [
            "125\n"
          ]
        }
      ]
    },
    {
      "cell_type": "code",
      "source": [
        "def pow(n,p):\n",
        "    if(p==1):\n",
        "        return n\n",
        "\n",
        "\n",
        "    if p%2!=0:\n",
        "        return n*pow(n,p//2)*pow(n,p//2)\n",
        "    else:\n",
        "        return pow(n,p//2)*pow(n,p//2)\n",
        "\n",
        "\n",
        "\n",
        "x=pow(2,7)\n",
        "print(x)"
      ],
      "metadata": {
        "colab": {
          "base_uri": "https://localhost:8080/"
        },
        "id": "FGBpcHAjwcko",
        "outputId": "5bc54a7d-3a02-436f-be9f-54e5a3ebaf67"
      },
      "execution_count": null,
      "outputs": [
        {
          "output_type": "stream",
          "name": "stdout",
          "text": [
            "128\n"
          ]
        }
      ]
    },
    {
      "cell_type": "markdown",
      "source": [
        "time complexity: O(log(n))"
      ],
      "metadata": {
        "id": "zLtCPvmW3P48"
      }
    },
    {
      "cell_type": "markdown",
      "source": [
        "Print\n",
        "54321\n",
        "5432\n",
        "543\n",
        "54\n",
        "5\n"
      ],
      "metadata": {
        "id": "VgDmZpo63ZRv"
      }
    },
    {
      "cell_type": "code",
      "source": [
        "\"\"\"\n",
        "Print\n",
        "54321\n",
        "5432\n",
        "543\n",
        "54\n",
        "5\n",
        "\n",
        "\"\"\"\n",
        "\n",
        "\n",
        "def rec1(m):\n",
        "    if m==1:\n",
        "        print(m)\n",
        "        return\n",
        "    print(m,end=\" \")\n",
        "\n",
        "    return rec1(m-1)\n",
        "\n",
        "def rec(n):\n",
        "\n",
        "    if n==1:\n",
        "\n",
        "        return 1\n",
        "\n",
        "    print(n,end=\" \")\n",
        "    m=n\n",
        "    rec1(m-1)\n",
        "\n",
        "    return rec(n-1)\n",
        "\n",
        "n=5\n",
        "\n",
        "print(rec(n))"
      ],
      "metadata": {
        "colab": {
          "base_uri": "https://localhost:8080/"
        },
        "id": "2xYXmcOCPtNY",
        "outputId": "564bf03b-b650-40d5-af60-fd976471b709"
      },
      "execution_count": null,
      "outputs": [
        {
          "output_type": "stream",
          "name": "stdout",
          "text": [
            "5 4 3 2 1\n",
            "4 3 2 1\n",
            "3 2 1\n",
            "2 1\n",
            "1\n"
          ]
        }
      ]
    },
    {
      "cell_type": "code",
      "source": [
        "def rec1(m,x):\n",
        "    if m==1:\n",
        "        print(x)\n",
        "        return\n",
        "\n",
        "    print(x-1,end=\" \")\n",
        "\n",
        "    return rec1(m-1,x-1)\n",
        "\n",
        "def rec(n,x):\n",
        "\n",
        "    if x==1:\n",
        "        print(n)\n",
        "        return\n",
        "\n",
        "\n",
        "    print(n,end=\" \")\n",
        "    m=x-1\n",
        "    rec1(m,x)\n",
        "\n",
        "    return rec(n,x-1)\n",
        "\n",
        "n=5\n",
        "x=n\n",
        "print(rec(n,x))"
      ],
      "metadata": {
        "colab": {
          "base_uri": "https://localhost:8080/"
        },
        "id": "yEVStsCQo_a5",
        "outputId": "01e89550-f3d3-42c2-dd82-2441564414ca"
      },
      "execution_count": null,
      "outputs": [
        {
          "output_type": "stream",
          "name": "stdout",
          "text": [
            "5 4 3 2 2\n",
            "5 3 2 2\n",
            "5 2 2\n",
            "5 2\n",
            "5\n",
            "None\n"
          ]
        }
      ]
    },
    {
      "cell_type": "code",
      "source": [
        "def print_pattern(n,m):\n",
        "    if n==0:\n",
        "        return\n",
        "    for i in range(5,m-1,-1):\n",
        "        print(i,end=\" \")\n",
        "    print()\n",
        "    print_pattern(n-1,m+1)\n",
        "\n",
        "n=5\n",
        "print_pattern(n,1)"
      ],
      "metadata": {
        "colab": {
          "base_uri": "https://localhost:8080/"
        },
        "id": "iiBHe2YulHci",
        "outputId": "264270be-b492-4d0f-e3d8-c3f93821459d"
      },
      "execution_count": null,
      "outputs": [
        {
          "output_type": "stream",
          "name": "stdout",
          "text": [
            "5 4 3 2 1 \n",
            "5 4 3 2 \n",
            "5 4 3 \n",
            "5 4 \n",
            "5 \n"
          ]
        }
      ]
    },
    {
      "cell_type": "markdown",
      "source": [
        "Write a pgm to convert a decimal number to binary\n"
      ],
      "metadata": {
        "id": "LF1L-S3-rLKh"
      }
    },
    {
      "cell_type": "code",
      "source": [
        "def rec(n):\n",
        "    if n==1:\n",
        "        return\n",
        "    if n%2==0:\n",
        "        print(1,end=\"\")\n",
        "    else:\n",
        "        print(0,end=\"\")\n",
        "\n",
        "    return rec(n//2)\n",
        "\n",
        "rec(22)"
      ],
      "metadata": {
        "colab": {
          "base_uri": "https://localhost:8080/"
        },
        "id": "G2YMx5UorlUl",
        "outputId": "7fc0cae7-1e0c-42bb-d34f-4ce91ec5a11e"
      },
      "execution_count": null,
      "outputs": [
        {
          "output_type": "stream",
          "name": "stdout",
          "text": [
            "1001"
          ]
        }
      ]
    },
    {
      "cell_type": "markdown",
      "source": [
        "Write a pgm to convert any base to decimal number"
      ],
      "metadata": {
        "id": "ZuS3WAoysal6"
      }
    },
    {
      "cell_type": "markdown",
      "source": [
        "direct function - int()"
      ],
      "metadata": {
        "id": "X4RVbvVQwxn3"
      }
    },
    {
      "cell_type": "code",
      "source": [
        "x='1A'\n",
        "base=16\n",
        "print(int(x,base))\n",
        "\n",
        "print()\n",
        "\n",
        "print(int('5E',16))"
      ],
      "metadata": {
        "colab": {
          "base_uri": "https://localhost:8080/"
        },
        "id": "y3Cp5vhhwZKT",
        "outputId": "92271a69-a2ec-4a23-b69f-c94bc4ac3c89"
      },
      "execution_count": null,
      "outputs": [
        {
          "output_type": "stream",
          "name": "stdout",
          "text": [
            "26\n",
            "\n",
            "94\n"
          ]
        }
      ]
    },
    {
      "cell_type": "markdown",
      "source": [
        "## 2nd Lowest Score Student"
      ],
      "metadata": {
        "id": "3Sqvm-Jv7iCN"
      }
    },
    {
      "cell_type": "code",
      "source": [
        "if __name__ == '__main__':\n",
        "    from collections import defaultdict\n",
        "    m=defaultdict(int)\n",
        "\n",
        "    for _ in range(int(input())):\n",
        "        name = input()\n",
        "        score = float(input())\n",
        "\n",
        "        m[name]=score\n",
        "\n",
        "\n",
        "    lst=[]\n",
        "    for i in m.values():\n",
        "        lst.append(i)\n",
        "\n",
        "    lst.sort()\n",
        "\n",
        "    lst2=[]\n",
        "    for i in lst:\n",
        "        if i not in lst2:\n",
        "            lst2.append(i)\n",
        "\n",
        "    k=lst2[1]\n",
        "\n",
        "    lst1=[]\n",
        "    for i,j in m.items():\n",
        "        if j==k:\n",
        "\n",
        "            lst1.append(i)\n",
        "\n",
        "    lst1.sort()\n",
        "    for i in lst1:\n",
        "        print(i)\n"
      ],
      "metadata": {
        "id": "G7cKIBEqGRFk"
      },
      "execution_count": null,
      "outputs": []
    },
    {
      "cell_type": "code",
      "source": [
        "if __name__ == '__main__':\n",
        "\n",
        "    students=[]\n",
        "\n",
        "    for _ in range(int(input())):\n",
        "        name = input()\n",
        "        score = float(input())\n",
        "        students.append([name,score])\n",
        "    scores=set(student[1] for student in students)\n",
        "    second_lowest_grade=sorted(scores)[1]\n",
        "    second_lowest_students=[student[0] for student in students in ]"
      ],
      "metadata": {
        "id": "Dm0Yx2F4GYOr"
      },
      "execution_count": null,
      "outputs": []
    }
  ]
}