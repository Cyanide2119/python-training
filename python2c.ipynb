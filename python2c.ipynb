{
  "nbformat": 4,
  "nbformat_minor": 0,
  "metadata": {
    "colab": {
      "provenance": [],
      "authorship_tag": "ABX9TyO/ly1LVdbCYhhpzEep5txH",
      "include_colab_link": true
    },
    "kernelspec": {
      "name": "python3",
      "display_name": "Python 3"
    },
    "language_info": {
      "name": "python"
    }
  },
  "cells": [
    {
      "cell_type": "markdown",
      "metadata": {
        "id": "view-in-github",
        "colab_type": "text"
      },
      "source": [
        "<a href=\"https://colab.research.google.com/github/Cyanide2119/python-training/blob/main/python2c.ipynb\" target=\"_parent\"><img src=\"https://colab.research.google.com/assets/colab-badge.svg\" alt=\"Open In Colab\"/></a>"
      ]
    },
    {
      "cell_type": "markdown",
      "source": [
        "# Dictionary"
      ],
      "metadata": {
        "id": "IWPyT6qS1dlO"
      }
    },
    {
      "cell_type": "code",
      "source": [
        "dct={\n",
        "    \"brand\": \"Ford\",\n",
        "    \"color\": \"green\",\n",
        "    \"year\": 1987\n",
        "}\n",
        "\n",
        "print(dct.keys())\n",
        "print(dct.values())\n",
        "print(dct.items())\n",
        "\n",
        "for i in dct:\n",
        "    print(i)\n",
        "for i in dct:\n",
        "    print(dct[i])\n"
      ],
      "metadata": {
        "colab": {
          "base_uri": "https://localhost:8080/"
        },
        "id": "imKz5R6J1tlh",
        "outputId": "36c91f9f-d1eb-469f-9ee9-8043240e2f9f"
      },
      "execution_count": null,
      "outputs": [
        {
          "output_type": "stream",
          "name": "stdout",
          "text": [
            "dict_keys(['brand', 'color', 'year'])\n",
            "dict_values(['Ford', 'green', 1987])\n",
            "dict_items([('brand', 'Ford'), ('color', 'green'), ('year', 1987)])\n",
            "brand\n",
            "color\n",
            "year\n",
            "Ford\n",
            "green\n",
            "1987\n"
          ]
        }
      ]
    },
    {
      "cell_type": "code",
      "source": [
        "dct={\n",
        "    \"brand\": \"Ford\",\n",
        "    \"color\": \"green\",\n",
        "    \"year\": 1987\n",
        "}\n",
        "dct2=dict(name=\"John\",age=36,country=\"India\")\n",
        "print(dct)\n",
        "\n",
        "mydct={}\n",
        "mydct['name']=\"Alice\"\n",
        "mydct['age']=30\n",
        "mydct['city']='New York'\n",
        "\n",
        "print(\"Name: \",mydct['name'])\n",
        "print(\"Age:\",mydct['age'])\n",
        "x=mydct.keys()\n",
        "print(x)\n",
        "y=mydct.values()\n",
        "print(y)\n",
        "z=mydct.items()\n",
        "print(z)\n",
        "m=mydct.get(\"city\")\n",
        "print(m)"
      ],
      "metadata": {
        "id": "jXaS_i033Jsl",
        "colab": {
          "base_uri": "https://localhost:8080/"
        },
        "outputId": "30c450e1-4716-4c60-8c9a-052a33fca54b"
      },
      "execution_count": 12,
      "outputs": [
        {
          "output_type": "stream",
          "name": "stdout",
          "text": [
            "{'brand': 'Ford', 'color': 'green', 'year': 1987}\n",
            "Name:  Alice\n",
            "Age: 30\n",
            "dict_keys(['name', 'age', 'city'])\n",
            "dict_values(['Alice', 30, 'New York'])\n",
            "dict_items([('name', 'Alice'), ('age', 30), ('city', 'New York')])\n",
            "New York\n"
          ]
        }
      ]
    },
    {
      "cell_type": "code",
      "source": [],
      "metadata": {
        "id": "grf8KP5a6ySU"
      },
      "execution_count": null,
      "outputs": []
    }
  ]
}