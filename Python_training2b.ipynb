{
  "nbformat": 4,
  "nbformat_minor": 0,
  "metadata": {
    "colab": {
      "provenance": [],
      "authorship_tag": "ABX9TyOzX6+63HUmpE+t0ieYgXRf",
      "include_colab_link": true
    },
    "kernelspec": {
      "name": "python3",
      "display_name": "Python 3"
    },
    "language_info": {
      "name": "python"
    }
  },
  "cells": [
    {
      "cell_type": "markdown",
      "metadata": {
        "id": "view-in-github",
        "colab_type": "text"
      },
      "source": [
        "<a href=\"https://colab.research.google.com/github/Cyanide2119/python-training/blob/main/Python_training2b.ipynb\" target=\"_parent\"><img src=\"https://colab.research.google.com/assets/colab-badge.svg\" alt=\"Open In Colab\"/></a>"
      ]
    },
    {
      "cell_type": "markdown",
      "source": [
        "# Sets"
      ],
      "metadata": {
        "id": "6uDB0IbWeZDY"
      }
    },
    {
      "cell_type": "markdown",
      "source": [
        "\n",
        "\n",
        "1. add()\n",
        "2. update()\n",
        "3. remove()\n",
        "4. discard()\n",
        "5. clear()\n",
        "6. del\n",
        "7. pop()\n",
        "\n"
      ],
      "metadata": {
        "id": "xfN1RwuufvDY"
      }
    },
    {
      "cell_type": "markdown",
      "source": [
        "```\n",
        "1. | union()\n",
        "2. & intersection()\n",
        "3. - difference()\n",
        "4. ^ symmetric_difference()\n",
        "\n",
        "\n",
        "5. intersection_update()\n",
        "6. difference_update()\n",
        "7. symmetric_difference_update()\n",
        "\n",
        "```\n",
        "\n"
      ],
      "metadata": {
        "id": "8k1qIk6rgMoF"
      }
    },
    {
      "cell_type": "code",
      "source": [
        "s1={10,20,30,50,80}\n",
        "# s1.remove(100)\n",
        "s1.discard(100)\n",
        "s1.pop()\n",
        "print(s1)\n",
        "s1.clear()\n",
        "#del(s1)\n",
        "print(s1)"
      ],
      "metadata": {
        "colab": {
          "base_uri": "https://localhost:8080/"
        },
        "id": "Ze83vw8afBMm",
        "outputId": "f6f2ba90-eb55-4d6b-f570-4372b11a6ac0"
      },
      "execution_count": null,
      "outputs": [
        {
          "output_type": "stream",
          "name": "stdout",
          "text": [
            "{50, 20, 10, 30}\n",
            "set()\n"
          ]
        }
      ]
    },
    {
      "cell_type": "code",
      "source": [
        "s1={10,20,30,50,80}\n",
        "s2={30,25,65,55,75}\n",
        "\n",
        "s3=s1.union(s2)\n",
        "print(s3)\n",
        "s3=s1.intersection(s2)\n",
        "print(s3)\n",
        "s3=s1.difference(s2)\n",
        "print(s3)\n",
        "s3=s1.symmetric_difference(s2)\n",
        "print(s3)"
      ],
      "metadata": {
        "colab": {
          "base_uri": "https://localhost:8080/"
        },
        "id": "0uuJxCi5h2E7",
        "outputId": "f818fcf9-3e9c-479e-bbf1-d1c341866640"
      },
      "execution_count": null,
      "outputs": [
        {
          "output_type": "stream",
          "name": "stdout",
          "text": [
            "{65, 10, 75, 80, 50, 20, 55, 25, 30}\n",
            "{30}\n",
            "{80, 50, 10, 20}\n",
            "{65, 10, 75, 80, 20, 25, 50, 55}\n"
          ]
        }
      ]
    },
    {
      "cell_type": "code",
      "source": [
        "s1.intersection_update(s2)\n",
        "print(s1)"
      ],
      "metadata": {
        "colab": {
          "base_uri": "https://localhost:8080/"
        },
        "id": "XDtIVGZtifz9",
        "outputId": "bdf6b2a0-495f-4c2e-f131-bd412bd88de7"
      },
      "execution_count": null,
      "outputs": [
        {
          "output_type": "stream",
          "name": "stdout",
          "text": [
            "{30}\n"
          ]
        }
      ]
    },
    {
      "cell_type": "code",
      "source": [
        "thisset={\"apple\",\"banana\",\"cherry\"}\n",
        "thisset.add(\"orange\")\n",
        "print(thisset)\n"
      ],
      "metadata": {
        "colab": {
          "base_uri": "https://localhost:8080/"
        },
        "id": "1VkRucy6jxfp",
        "outputId": "87a33fc4-bc17-4250-cc26-3be668070c8a"
      },
      "execution_count": null,
      "outputs": [
        {
          "output_type": "stream",
          "name": "stdout",
          "text": [
            "{'cherry', 'orange', 'banana', 'apple'}\n"
          ]
        }
      ]
    },
    {
      "cell_type": "code",
      "source": [
        "\n",
        "thisset={'apple','banana','cherry'}\n",
        "tropical={'pineapple',\"mango\",\"papaya\"}\n",
        "\n",
        "thisset.update(tropical)"
      ],
      "metadata": {
        "id": "zHDa--KkkklB"
      },
      "execution_count": null,
      "outputs": []
    },
    {
      "cell_type": "code",
      "source": [
        "thisset={'apple','banana','cherry'}\n",
        "mylist=['kiwi',\"orange\"]\n",
        "thisset.update(mylist)\n",
        "print(thisset)\n"
      ],
      "metadata": {
        "id": "7OgVR2a6klNF",
        "colab": {
          "base_uri": "https://localhost:8080/"
        },
        "outputId": "df6c158a-61c2-48b6-9866-76e7f33e859b"
      },
      "execution_count": null,
      "outputs": [
        {
          "output_type": "stream",
          "name": "stdout",
          "text": [
            "{'cherry', 'apple', 'banana', 'kiwi', 'orange'}\n"
          ]
        }
      ]
    },
    {
      "cell_type": "code",
      "source": [
        "thisset={'apple','banana','cherry'}\n",
        "thisset.discard(\"banana\")\n",
        "print(thisset)"
      ],
      "metadata": {
        "colab": {
          "base_uri": "https://localhost:8080/"
        },
        "id": "W44N4ww3mCPC",
        "outputId": "734fedb8-498f-4466-89e6-f03e7836cec8"
      },
      "execution_count": null,
      "outputs": [
        {
          "output_type": "stream",
          "name": "stdout",
          "text": [
            "{'cherry', 'apple'}\n"
          ]
        }
      ]
    },
    {
      "cell_type": "code",
      "source": [
        "thisset={'apple','banana','cherry'}\n",
        "x=thisset.pop()\n",
        "print(x)\n",
        "print(thisset)"
      ],
      "metadata": {
        "colab": {
          "base_uri": "https://localhost:8080/"
        },
        "id": "Ae0knU03mWFC",
        "outputId": "80257fdc-20b5-4ccf-9eba-1d1601e21429"
      },
      "execution_count": null,
      "outputs": [
        {
          "output_type": "stream",
          "name": "stdout",
          "text": [
            "cherry\n",
            "{'banana', 'apple'}\n"
          ]
        }
      ]
    },
    {
      "cell_type": "code",
      "source": [
        "thisset={'apple','banana','cherry'}\n",
        "thisset.clear()\n",
        "print(thisset)"
      ],
      "metadata": {
        "colab": {
          "base_uri": "https://localhost:8080/"
        },
        "id": "49rq8K8ImdEC",
        "outputId": "876eacf5-c2f9-468e-d6b2-af24943ef18a"
      },
      "execution_count": null,
      "outputs": [
        {
          "output_type": "stream",
          "name": "stdout",
          "text": [
            "set()\n"
          ]
        }
      ]
    },
    {
      "cell_type": "code",
      "source": [
        "thisset={'apple','banana','cherry'}\n",
        "del thisset\n",
        "print(thisset)"
      ],
      "metadata": {
        "id": "qtfIzFQUnWkv"
      },
      "execution_count": null,
      "outputs": []
    },
    {
      "cell_type": "code",
      "source": [
        "def power_set(s):\n",
        "    result=[[]]\n",
        "    for elem in s:\n",
        "        result.extend([subset + [elem] for subset in result])\n",
        "\n",
        "    return [set(subset) for subset in result]\n",
        "\n",
        "input_set={1,2,3}\n",
        "powerset=power_set(input_set)\n",
        "print(\"Power set: \",powerset)\n",
        "\n"
      ],
      "metadata": {
        "colab": {
          "base_uri": "https://localhost:8080/"
        },
        "id": "fXX_ZrVQncvZ",
        "outputId": "61978c37-276d-485c-86de-bc190ea78544"
      },
      "execution_count": null,
      "outputs": [
        {
          "output_type": "stream",
          "name": "stdout",
          "text": [
            "Power set:  [set(), {1}, {2}, {1, 2}, {3}, {1, 3}, {2, 3}, {1, 2, 3}]\n"
          ]
        }
      ]
    },
    {
      "cell_type": "code",
      "source": [],
      "metadata": {
        "id": "10zL4VFdtyDk"
      },
      "execution_count": null,
      "outputs": []
    }
  ]
}