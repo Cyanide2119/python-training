{
  "nbformat": 4,
  "nbformat_minor": 0,
  "metadata": {
    "colab": {
      "provenance": [],
      "authorship_tag": "ABX9TyOvsPxChYXbMIypbGvp3AZf",
      "include_colab_link": true
    },
    "kernelspec": {
      "name": "python3",
      "display_name": "Python 3"
    },
    "language_info": {
      "name": "python"
    }
  },
  "cells": [
    {
      "cell_type": "markdown",
      "metadata": {
        "id": "view-in-github",
        "colab_type": "text"
      },
      "source": [
        "<a href=\"https://colab.research.google.com/github/Cyanide2119/python-training/blob/main/Python_Training2.ipynb\" target=\"_parent\"><img src=\"https://colab.research.google.com/assets/colab-badge.svg\" alt=\"Open In Colab\"/></a>"
      ]
    },
    {
      "cell_type": "markdown",
      "source": [
        "# Tuple\n"
      ],
      "metadata": {
        "id": "wkOY5Xtd2rbi"
      }
    },
    {
      "cell_type": "code",
      "source": [
        "t=(10,20,30)\n",
        "(a,*b)=t\n",
        "print(a,b)"
      ],
      "metadata": {
        "colab": {
          "base_uri": "https://localhost:8080/"
        },
        "id": "zu4tOce_24J_",
        "outputId": "00ba409f-11ef-4ccb-83ac-b89d510c4fbe"
      },
      "execution_count": null,
      "outputs": [
        {
          "output_type": "stream",
          "name": "stdout",
          "text": [
            "10 [20, 30]\n"
          ]
        }
      ]
    },
    {
      "cell_type": "code",
      "source": [
        "def create_tuples():\n",
        "    tuple1=(1,2,3,4,5)\n",
        "    tuple2=('a','b','c','d','e')\n",
        "    tuple3=(\"apple\",\"banana\",\"cherry\")\n",
        "\n",
        "    return tuple1, tuple2, tuple3\n",
        "\n",
        "def access_tuple_items(tuple1,tuple2):\n",
        "    print(\"Tuple 1: \",tuple1)\n",
        "    print(\"First element of tuple1: \", tuple1[0])\n",
        "    print(\"Last element of tuple1: \", tuple1[-1])\n",
        "    print(\"Tuple 2: \", tuple2)\n",
        "    print(\"Second element of tuple 2: \", tuple2[1])\n",
        "    print(\"Second last element of tuple2: \", tuple2[-2])\n",
        "\n",
        "    print(tuple1[0:5])\n",
        "\n",
        "def unpacking_tuple1(tuple3):\n",
        "    (green, yellow, red)=tuple3\n",
        "    print(green)\n",
        "    print(yellow)\n",
        "    print(red)\n",
        "\n",
        "def unpacking_tuple2(fruits):\n",
        "    fruits=(\"apple\",\"banana\",\"cherry\",\"strawberry\",\"raspberry\")\n",
        "    (green,yellow,*red)=fruits\n",
        "    print(green)\n",
        "    print(yellow)\n",
        "    print(red)\n",
        "\n",
        "\n",
        "def change_tuples(tuple1,tuple2):\n",
        "    list1=list(tuple1)\n",
        "    list2=list(tuple2)\n",
        "    list1.append(6)\n",
        "    list2.remove('c')\n",
        "    tuple1=tuple(list1)\n",
        "    tuple2=tuple(list2)\n",
        "    return tuple1,tuple2\n",
        "\n",
        "def loop_through_tuple(tuple1):\n",
        "    print(\"Looping through tuple1 using for loop: \")\n",
        "    for item in tuple1:\n",
        "        print(item)\n",
        "\n",
        "    print(\"\\nLooping using while loop and index numbers: \")\n",
        "    index=0\n",
        "    while index<len(tuple1):\n",
        "        print(tuple1[index])\n",
        "        index+=1\n",
        "\n",
        "def join_tuples(tuple1,tuple2):\n",
        "    tuple3=tuple1+tuple2\n",
        "    return tuple3\n",
        "\n",
        "tuple1,tuple2,tuple3=create_tuples()\n",
        "access_tuple_items(tuple1,tuple2)\n",
        "\n",
        "unpacking_tuple1(tuple3)\n",
        "print()\n",
        "\n",
        "fruits=(\"apple\",\"banana\",\"cherry\",\"strawberry\",\"raspberry\")\n",
        "unpacking_tuple2(fruits)\n",
        "\n",
        "print()\n",
        "\n",
        "tuple1,tuple2=change_tuples(tuple1,tuple2)\n",
        "print(\"After making changes: \")\n",
        "access_tuple_items(tuple1,tuple2)\n",
        "print()\n",
        "\n",
        "tuple3=join_tuples(tuple1, tuple2)\n",
        "print(\"Joined tuple: \",tuple3)\n",
        "\n"
      ],
      "metadata": {
        "colab": {
          "base_uri": "https://localhost:8080/"
        },
        "id": "4ONhclBC4E8s",
        "outputId": "27b78c15-9d6f-4672-8921-f2e9e95487a5"
      },
      "execution_count": null,
      "outputs": [
        {
          "output_type": "stream",
          "name": "stdout",
          "text": [
            "Tuple 1:  (1, 2, 3, 4, 5)\n",
            "First element of tuple1:  1\n",
            "Last element of tuple1:  5\n",
            "Tuple 2:  ('a', 'b', 'c', 'd', 'e')\n",
            "Second element of tuple 2:  b\n",
            "Second last element of tuple2:  d\n",
            "(1, 2, 3, 4, 5)\n",
            "apple\n",
            "banana\n",
            "cherry\n",
            "\n",
            "apple\n",
            "banana\n",
            "['cherry', 'strawberry', 'raspberry']\n",
            "\n",
            "After making changes: \n",
            "Tuple 1:  (1, 2, 3, 4, 5, 6)\n",
            "First element of tuple1:  1\n",
            "Last element of tuple1:  6\n",
            "Tuple 2:  ('a', 'b', 'd', 'e')\n",
            "Second element of tuple 2:  b\n",
            "Second last element of tuple2:  d\n",
            "(1, 2, 3, 4, 5)\n",
            "\n",
            "Joined tuple:  (1, 2, 3, 4, 5, 6, 'a', 'b', 'd', 'e')\n"
          ]
        }
      ]
    },
    {
      "cell_type": "code",
      "source": [
        "my_tuple=(1,2,3)\n",
        "another_tuple=tuple([4,5,6])\n",
        "print(my_tuple[0])\n",
        "print(my_tuple[-1])\n",
        "print(my_tuple[1:3])\n",
        "combined_tuple=my_tuple+another_tuple\n",
        "print(combined_tuple)\n",
        "repeated_tuple=my_tuple*3\n",
        "print(repeated_tuple)\n",
        "print(2 in my_tuple)\n",
        "print(4 not in my_tuple)\n",
        "print(len(my_tuple))\n",
        "for item in my_tuple:\n",
        "    print(item)\n",
        "\n",
        "string_to_tuple=tuple(\"Hello\")\n",
        "print(string_to_tuple)\n",
        "list_to_tuple=tuple([1,2,3])\n",
        "print(list_to_tuple)\n",
        "\n",
        "print(my_tuple.count(2))\n",
        "print(my_tuple.index(3))"
      ],
      "metadata": {
        "colab": {
          "base_uri": "https://localhost:8080/"
        },
        "id": "8dboeP6f4etG",
        "outputId": "186e160d-9afa-4a96-e6fc-2ea6a864fc00"
      },
      "execution_count": null,
      "outputs": [
        {
          "output_type": "stream",
          "name": "stdout",
          "text": [
            "1\n",
            "3\n",
            "(2, 3)\n",
            "(1, 2, 3, 4, 5, 6)\n",
            "(1, 2, 3, 1, 2, 3, 1, 2, 3)\n",
            "True\n",
            "True\n",
            "3\n",
            "1\n",
            "2\n",
            "3\n",
            "('H', 'e', 'l', 'l', 'o')\n",
            "(1, 2, 3)\n",
            "1\n",
            "2\n"
          ]
        }
      ]
    },
    {
      "cell_type": "code",
      "source": [
        "tuple_of_integers=(5,2,8,1,3)\n",
        "sorted_tuple=tuple(sorted(tuple_of_integers))\n",
        "print(\"Sorted tuple: \",sorted_tuple)"
      ],
      "metadata": {
        "colab": {
          "base_uri": "https://localhost:8080/"
        },
        "id": "Fp7W8X66-edJ",
        "outputId": "0aab592e-d34b-4de6-f105-d81fbd4dd6b4"
      },
      "execution_count": null,
      "outputs": [
        {
          "output_type": "stream",
          "name": "stdout",
          "text": [
            "Sorted tuple:  (1, 2, 3, 5, 8)\n"
          ]
        }
      ]
    },
    {
      "cell_type": "markdown",
      "source": [
        "## Customized sort\n",
        "\n"
      ],
      "metadata": {
        "id": "tJPkujFvAHco"
      }
    },
    {
      "cell_type": "code",
      "source": [
        "tuple_of_tuples=((1,'apple'),(2,'orange'),(3,'banana'))\n",
        "sorted_tuple=sorted(tuple_of_tuples, key=lambda x: x[1])\n",
        "print(\"Sorted tuples: \",sorted_tuple)"
      ],
      "metadata": {
        "colab": {
          "base_uri": "https://localhost:8080/"
        },
        "id": "GTUSZDP0CRkI",
        "outputId": "8778b553-abce-478e-f026-74b6a98f457d"
      },
      "execution_count": null,
      "outputs": [
        {
          "output_type": "stream",
          "name": "stdout",
          "text": [
            "Sorted tuples:  [(1, 'apple'), (3, 'banana'), (2, 'orange')]\n"
          ]
        }
      ]
    },
    {
      "cell_type": "markdown",
      "source": [
        "## Tuple comprehension"
      ],
      "metadata": {
        "id": "zY_3BIzcDbaq"
      }
    },
    {
      "cell_type": "code",
      "source": [
        "s=tuple(x**2 for x in range(1,6))\n",
        "print(s)"
      ],
      "metadata": {
        "colab": {
          "base_uri": "https://localhost:8080/"
        },
        "id": "vmzhzyHhCdw7",
        "outputId": "2f5d1e95-6070-45cf-bc4b-7896e0d8ca2a"
      },
      "execution_count": null,
      "outputs": [
        {
          "output_type": "stream",
          "name": "stdout",
          "text": [
            "(1, 4, 9, 16, 25)\n"
          ]
        }
      ]
    },
    {
      "cell_type": "markdown",
      "source": [
        "## Zipping of tuples/lists"
      ],
      "metadata": {
        "id": "OBBBb0LDDZcS"
      }
    },
    {
      "cell_type": "code",
      "source": [
        "l1=[1,2,3]\n",
        "l2=['a','b','c','d']\n",
        "\n",
        "print(tuple(zip(l1,l2)))"
      ],
      "metadata": {
        "colab": {
          "base_uri": "https://localhost:8080/"
        },
        "id": "gL8p2a6cD4cr",
        "outputId": "8a1531ae-5efe-442b-b864-66bac3bce891"
      },
      "execution_count": null,
      "outputs": [
        {
          "output_type": "stream",
          "name": "stdout",
          "text": [
            "((1, 'a'), (2, 'b'), (3, 'c'))\n"
          ]
        }
      ]
    },
    {
      "cell_type": "code",
      "source": [],
      "metadata": {
        "id": "OCogiPd8EtQ9"
      },
      "execution_count": null,
      "outputs": []
    },
    {
      "cell_type": "markdown",
      "source": [
        "## Named tuple"
      ],
      "metadata": {
        "id": "2pqCGTkLENEm"
      }
    },
    {
      "cell_type": "code",
      "source": [
        "from collections import namedtuple\n",
        "import math\n",
        "\n",
        "Point=namedtuple('Point',['x','y'])\n",
        "point1=Point(1,2)\n",
        "point2=Point(4,6)\n",
        "\n",
        "distance=math.sqrt((point2.x-point1.x)**2 + (point2.y-point1.y)**2)\n",
        "print(\"Distance between point1 and point2: \",distance)"
      ],
      "metadata": {
        "colab": {
          "base_uri": "https://localhost:8080/"
        },
        "id": "9Wkt6HbPExBn",
        "outputId": "79c1fed6-246d-4d2f-9bca-eab04cbed647"
      },
      "execution_count": null,
      "outputs": [
        {
          "output_type": "stream",
          "name": "stdout",
          "text": [
            "Distance between point1 and point2:  5.0\n"
          ]
        }
      ]
    },
    {
      "cell_type": "markdown",
      "source": [
        "## Filter and Reduce functions"
      ],
      "metadata": {
        "id": "dMEs8VcrFaqc"
      }
    },
    {
      "cell_type": "code",
      "source": [
        "t=(1,2,4,6,8,7,3,10)\n",
        "t1=tuple(filter(lambda x: x%2==0,t))\n",
        "print(t1)"
      ],
      "metadata": {
        "colab": {
          "base_uri": "https://localhost:8080/"
        },
        "id": "HPdezF0SHWaH",
        "outputId": "a93c6dc8-2073-4181-b343-a102f7b85441"
      },
      "execution_count": null,
      "outputs": [
        {
          "output_type": "stream",
          "name": "stdout",
          "text": [
            "(2, 4, 6, 8, 10)\n"
          ]
        }
      ]
    },
    {
      "cell_type": "code",
      "source": [
        "t=(1,2,4,6,8,7,3,10)\n",
        "\n",
        "from functools import reduce\n",
        "\n",
        "def add(x,y):\n",
        "    return x+y\n",
        "\n",
        "result=reduce(add,t)\n",
        "print(\"Result of reducing tuple: \",result)\n"
      ],
      "metadata": {
        "id": "a6oVk96RH2bw",
        "colab": {
          "base_uri": "https://localhost:8080/"
        },
        "outputId": "19bd6abe-bff2-4bbc-efd1-df0d2a9fe543"
      },
      "execution_count": 2,
      "outputs": [
        {
          "output_type": "stream",
          "name": "stdout",
          "text": [
            "Result of reducing tuple:  41\n"
          ]
        }
      ]
    },
    {
      "cell_type": "code",
      "source": [],
      "metadata": {
        "id": "mABKEX0gdYBn"
      },
      "execution_count": null,
      "outputs": []
    }
  ]
}