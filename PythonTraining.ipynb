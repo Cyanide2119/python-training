{
  "nbformat": 4,
  "nbformat_minor": 0,
  "metadata": {
    "colab": {
      "provenance": [],
      "authorship_tag": "ABX9TyMLfCR2HsMIDTnjvrjJz+2S",
      "include_colab_link": true
    },
    "kernelspec": {
      "name": "python3",
      "display_name": "Python 3"
    },
    "language_info": {
      "name": "python"
    }
  },
  "cells": [
    {
      "cell_type": "markdown",
      "metadata": {
        "id": "view-in-github",
        "colab_type": "text"
      },
      "source": [
        "<a href=\"https://colab.research.google.com/github/Cyanide2119/python-training/blob/main/PythonTraining.ipynb\" target=\"_parent\"><img src=\"https://colab.research.google.com/assets/colab-badge.svg\" alt=\"Open In Colab\"/></a>"
      ]
    },
    {
      "cell_type": "markdown",
      "source": [
        "# Marks\n"
      ],
      "metadata": {
        "id": "GhPrpdl2MM_c"
      }
    },
    {
      "cell_type": "code",
      "execution_count": null,
      "metadata": {
        "colab": {
          "base_uri": "https://localhost:8080/"
        },
        "id": "kEzrXhJ0LEsM",
        "outputId": "02e7a0c4-a405-45db-c910-cd3d2590931d"
      },
      "outputs": [
        {
          "output_type": "stream",
          "name": "stdout",
          "text": [
            "Enter the marks 80\n",
            "Pass\n"
          ]
        }
      ],
      "source": [
        "x=int(input(\"Enter the marks \"))\n",
        "\n",
        "if x>80 and x<=100:\n",
        "    print(\"Distinction\")\n",
        "elif x>60 and x<=80:\n",
        "    print(\"Pass\")\n",
        "\n",
        "elif x<60:\n",
        "    print(\"Fail\")\n",
        "\n",
        "else:\n",
        "    print(\"Invlaid marks\")"
      ]
    },
    {
      "cell_type": "markdown",
      "source": [
        "# prime"
      ],
      "metadata": {
        "id": "P-cBAucFTFlS"
      }
    },
    {
      "cell_type": "code",
      "source": [
        "x=int(input())\n",
        "\n",
        "for i in range(2,x):\n",
        "    if x%i==0:\n",
        "        print(\"Not prime\")\n",
        "        break;\n",
        "\n",
        "if i==x-1:\n",
        "\n",
        "    print(\"Prime\")"
      ],
      "metadata": {
        "id": "hDX0e4avLIjt",
        "colab": {
          "base_uri": "https://localhost:8080/"
        },
        "outputId": "a6485f8a-3519-42e7-df12-7704ebefbbb8"
      },
      "execution_count": null,
      "outputs": [
        {
          "output_type": "stream",
          "name": "stdout",
          "text": [
            "6\n",
            "Not prime\n"
          ]
        }
      ]
    },
    {
      "cell_type": "markdown",
      "source": [
        "# Armstrong number"
      ],
      "metadata": {
        "id": "BYWRfZjIGoTK"
      }
    },
    {
      "cell_type": "code",
      "source": [
        "n=input()\n",
        "\n",
        "y=list(n)\n",
        "\n",
        "x=0\n",
        "for i in y:\n",
        "    i=int(i)\n",
        "    x+=i**len(y)\n",
        "\n",
        "print(x)\n",
        "print(n)\n",
        "\n",
        "n=int(n)\n",
        "if x==n:\n",
        "    print(\"Armstroong\")\n",
        "else:\n",
        "    print(\"NOT ARMSTRONG\")"
      ],
      "metadata": {
        "colab": {
          "base_uri": "https://localhost:8080/"
        },
        "id": "dZAl1jfCLY0E",
        "outputId": "6ef22fb1-ef30-4949-dac8-fa0107be49f0"
      },
      "execution_count": null,
      "outputs": [
        {
          "output_type": "stream",
          "name": "stdout",
          "text": [
            "370\n",
            "370\n",
            "370\n",
            "Armstroong\n"
          ]
        }
      ]
    },
    {
      "cell_type": "markdown",
      "source": [
        "# Strong number"
      ],
      "metadata": {
        "id": "F9J3tyQkGq8A"
      }
    },
    {
      "cell_type": "code",
      "source": [
        "\n",
        "n=input(\"Enter the number\")\n",
        "\n",
        "y=list(n)\n",
        "\n",
        "x=0\n",
        "for i in y:\n",
        "    m=1\n",
        "    i=int(i)\n",
        "    for j in range(1,i+1):\n",
        "        m=m*j\n",
        "\n",
        "    x+=m\n",
        "\n",
        "print(x)\n",
        "print(n)\n",
        "\n",
        "n=int(n)\n",
        "if x==n:\n",
        "    print(\"strong\")\n",
        "else:\n",
        "    print(\"NOT STRONG\")"
      ],
      "metadata": {
        "colab": {
          "base_uri": "https://localhost:8080/"
        },
        "id": "zTHGhCfCLw1m",
        "outputId": "d6e3a4f4-62d8-434b-bf31-9d7579459169"
      },
      "execution_count": null,
      "outputs": [
        {
          "output_type": "stream",
          "name": "stdout",
          "text": [
            "Enter the number145\n",
            "145\n",
            "145\n",
            "strong\n"
          ]
        }
      ]
    },
    {
      "cell_type": "markdown",
      "source": [
        "# Spy number"
      ],
      "metadata": {
        "id": "dXbicwApGkCI"
      }
    },
    {
      "cell_type": "code",
      "source": [
        "\n",
        "n=input(\"Enter the number\")\n",
        "\n",
        "y=list(n)\n",
        "\n",
        "sum=0\n",
        "pro=1\n",
        "for i in y:\n",
        "    i=int(i)\n",
        "    sum+=i\n",
        "    pro*=i\n",
        "\n",
        "if sum==pro:\n",
        "    print(\"spy number\")\n",
        "\n",
        "else:\n",
        "    print(\"Not a spy number\")"
      ],
      "metadata": {
        "id": "TfR1O_rsL_Yf"
      },
      "execution_count": null,
      "outputs": []
    },
    {
      "cell_type": "markdown",
      "source": [
        "# Neon number"
      ],
      "metadata": {
        "id": "R43r9c8VGheK"
      }
    },
    {
      "cell_type": "code",
      "source": [
        "\n",
        "n=input(\"Enter the number\")\n",
        "\n",
        "m=int(n)\n",
        "m=m*m\n",
        "m=str(m)\n",
        "m=list(m)\n",
        "\n",
        "\n",
        "sum=0\n",
        "pro=1\n",
        "for i in m:\n",
        "    i=int(i)\n",
        "    sum+=i\n",
        "\n",
        "if sum==int(n):\n",
        "    print(\"NEon\")\n",
        "\n",
        "else:\n",
        "    print(\"not neon\")"
      ],
      "metadata": {
        "id": "zR3BTR-OMC6e"
      },
      "execution_count": null,
      "outputs": []
    },
    {
      "cell_type": "markdown",
      "source": [
        "# Prime numbers in a given range"
      ],
      "metadata": {
        "id": "qwF9vccAGcYN"
      }
    },
    {
      "cell_type": "code",
      "source": [
        "x=int(input(\"Enter the starting range \"))\n",
        "y=int(input(\"Enter the ending range \"))\n",
        "\n",
        "lst=[]\n",
        "for i in range(x,y):\n",
        "    lst.append(i)\n",
        "\n",
        "\n",
        "for i in range(x+1,y):\n",
        "    for j in range(2,i//2):\n",
        "        if i%j==0:\n",
        "            lst.remove(i)\n",
        "            break\n",
        "\n",
        "print(lst)\n",
        "print(\"Number of prime numbers:\",len(lst))"
      ],
      "metadata": {
        "colab": {
          "base_uri": "https://localhost:8080/"
        },
        "id": "kd2bAeBkMFhU",
        "outputId": "040d3b65-6ec3-4b66-c41c-f2e83f3e07df"
      },
      "execution_count": null,
      "outputs": [
        {
          "output_type": "stream",
          "name": "stdout",
          "text": [
            "Enter the starting range 5\n",
            "Enter the ending range 30\n",
            "[5, 7, 11, 13, 17, 19, 23, 29]\n",
            "Number of prime numbers 8\n"
          ]
        }
      ]
    },
    {
      "cell_type": "markdown",
      "source": [
        "# Palindrome number"
      ],
      "metadata": {
        "id": "aOrH6GvYG-P0"
      }
    },
    {
      "cell_type": "code",
      "source": [
        "n=input()\n",
        "n=list(n)\n",
        "\n",
        "i=0\n",
        "j=len(n)-1\n",
        "while(i<j):\n",
        "    if n[i]==n[j]:\n",
        "        i+=1\n",
        "        j-=1\n",
        "\n",
        "    else:\n",
        "        print(\"Not palindrome\")\n",
        "\n",
        "        exit(0)\n",
        "        break\n",
        "\n",
        "\n",
        "print(\"Palindrome\")\n",
        "\n",
        "\n"
      ],
      "metadata": {
        "id": "J9x45NCZTWtW",
        "colab": {
          "base_uri": "https://localhost:8080/"
        },
        "outputId": "fee0ab8b-1a12-4357-b5f0-019f036a4bf3"
      },
      "execution_count": null,
      "outputs": [
        {
          "output_type": "stream",
          "name": "stdout",
          "text": [
            "121121\n",
            "Palindrome\n"
          ]
        }
      ]
    },
    {
      "cell_type": "markdown",
      "source": [
        "# Happy Number"
      ],
      "metadata": {
        "id": "3SccxVYq7AAX"
      }
    },
    {
      "cell_type": "code",
      "source": [
        "n=input()\n",
        "\n",
        "y=list(n)\n",
        "\n",
        "print(y)\n",
        "\n",
        "x=0\n",
        "while(1):\n",
        "    x=0\n",
        "    y=list(y)\n",
        "    print(y)\n",
        "\n",
        "    for i in y:\n",
        "        i=int(i)\n",
        "        x+=i**2\n",
        "\n",
        "    if x==4:\n",
        "        print(\"False\")\n",
        "        break\n",
        "\n",
        "\n",
        "    elif x==1:\n",
        "        print(\"True\")\n",
        "        break\n",
        "\n",
        "\n",
        "    elif x!=1:\n",
        "        y=x\n",
        "        y=str(y)\n",
        "\n",
        "\n",
        "\n"
      ],
      "metadata": {
        "colab": {
          "base_uri": "https://localhost:8080/"
        },
        "id": "bplENRW57Eno",
        "outputId": "b2238d53-79f5-4157-e636-ca6511c20617"
      },
      "execution_count": null,
      "outputs": [
        {
          "output_type": "stream",
          "name": "stdout",
          "text": [
            "4\n",
            "['4']\n",
            "['4']\n",
            "['1', '6']\n",
            "['3', '7']\n",
            "['5', '8']\n",
            "['8', '9']\n",
            "['1', '4', '5']\n",
            "['4', '2']\n",
            "['2', '0']\n",
            "False\n"
          ]
        }
      ]
    },
    {
      "cell_type": "code",
      "source": [
        "num=int(input())\n",
        "res=num\n",
        "\n",
        "while res!=1 and res!=4:\n",
        "    res=ishappy(res)\n",
        "\n",
        "\n",
        "def ishappy(n):\n",
        "    sum=0\n",
        "    while(n!=0):\n",
        "        r=n%10\n",
        "        sum=sum+r**2\n",
        "        n=n//10\n",
        "\n",
        "    return sum\n",
        "\n",
        "if res==1:\n",
        "    print(\"Happy\")\n",
        "elif res==4:\n",
        "    print(\"Not happy\")\n"
      ],
      "metadata": {
        "colab": {
          "base_uri": "https://localhost:8080/"
        },
        "id": "JfM_KjZA97kE",
        "outputId": "342f64e1-d66d-425e-ff38-34bfe574a2a9"
      },
      "execution_count": null,
      "outputs": [
        {
          "output_type": "stream",
          "name": "stdout",
          "text": [
            "4\n",
            "Not happy\n"
          ]
        }
      ]
    },
    {
      "cell_type": "markdown",
      "source": [
        "# Factorial"
      ],
      "metadata": {
        "id": "fUKK3sSbO9pQ"
      }
    },
    {
      "cell_type": "code",
      "source": [
        "n=int(input())\n",
        "\n",
        "x=1\n",
        "for i in range(1,n+1):\n",
        "    x=x*i\n",
        "\n",
        "print(x)"
      ],
      "metadata": {
        "colab": {
          "base_uri": "https://localhost:8080/"
        },
        "id": "0XXF_CscGGY5",
        "outputId": "bc798621-f41e-44a4-d200-7617b54d05fa"
      },
      "execution_count": null,
      "outputs": [
        {
          "output_type": "stream",
          "name": "stdout",
          "text": [
            "4\n",
            "24\n"
          ]
        }
      ]
    },
    {
      "cell_type": "code",
      "source": [
        "n=int(input())\n",
        "\n",
        "def fact(n):\n",
        "    if n==1:\n",
        "        return 1\n",
        "    return fact(n-1)*n\n",
        "\n",
        "x=fact(n)\n",
        "print(x)"
      ],
      "metadata": {
        "colab": {
          "base_uri": "https://localhost:8080/"
        },
        "id": "IH4TjMzpHnjt",
        "outputId": "4d9c104d-24eb-4353-f9e2-3d4c53ff6e37"
      },
      "execution_count": null,
      "outputs": [
        {
          "output_type": "stream",
          "name": "stdout",
          "text": [
            "4\n",
            "24\n"
          ]
        }
      ]
    },
    {
      "cell_type": "markdown",
      "source": [
        "# Fibonacci"
      ],
      "metadata": {
        "id": "AfFlB4HkP2Fv"
      }
    },
    {
      "cell_type": "code",
      "source": [
        "n=int(input(\"Enter the range: \"))\n",
        "x=0\n",
        "y=1\n",
        "\n",
        "while x<=n:\n",
        "\n",
        "    print(x,end=\" \")\n",
        "    z=y\n",
        "    y=x+y\n",
        "    x=z\n"
      ],
      "metadata": {
        "colab": {
          "base_uri": "https://localhost:8080/"
        },
        "id": "vUST-ggaPd9P",
        "outputId": "c883dd6e-a1c1-4956-ee7f-58140c727b58"
      },
      "execution_count": null,
      "outputs": [
        {
          "output_type": "stream",
          "name": "stdout",
          "text": [
            "Enter the range: 20\n",
            "0 1 1 2 3 5 8 13 "
          ]
        }
      ]
    },
    {
      "cell_type": "markdown",
      "source": [
        "Python pgm to find the best of two test avg marks out of 3 test marks accepted from the user"
      ],
      "metadata": {
        "id": "cBUFjxk4X49d"
      }
    },
    {
      "cell_type": "code",
      "source": [],
      "metadata": {
        "id": "OcUOvCHSQp5R"
      },
      "execution_count": null,
      "outputs": []
    },
    {
      "cell_type": "markdown",
      "source": [
        "Develop a pyhton pgm to convert a binary number into decimal, octal and hexadecimal numbers using functions"
      ],
      "metadata": {
        "id": "FBC1Pqy9X_Kc"
      }
    },
    {
      "cell_type": "code",
      "source": [],
      "metadata": {
        "id": "55TA60-1Yvq6"
      },
      "execution_count": null,
      "outputs": []
    },
    {
      "cell_type": "markdown",
      "source": [
        "Define a function F as Fn=Fn-1 + Fn-2. Write a python pgm which accepts a value for N(where N>0) as input and pass this value to the function. Display error message if the  condition for input value is not allowed"
      ],
      "metadata": {
        "id": "1SHUKz4HYTaG"
      }
    },
    {
      "cell_type": "code",
      "source": [],
      "metadata": {
        "id": "cbNbekEuYuiZ"
      },
      "execution_count": null,
      "outputs": []
    },
    {
      "cell_type": "markdown",
      "source": [
        "Write a python pgm to find the string similarity between 2 given strings"
      ],
      "metadata": {
        "id": "TK6QETUgY1WW"
      }
    },
    {
      "cell_type": "code",
      "source": [],
      "metadata": {
        "id": "HdebVuiBY-_N"
      },
      "execution_count": null,
      "outputs": []
    },
    {
      "cell_type": "markdown",
      "source": [
        "Write a python pgm that accepts a sentence and finds the number of words, digits, uppercase letters and lowercase letters"
      ],
      "metadata": {
        "id": "Gnnh06dTY65H"
      }
    },
    {
      "cell_type": "code",
      "source": [],
      "metadata": {
        "id": "3eEs4D9hZbMw"
      },
      "execution_count": null,
      "outputs": []
    },
    {
      "cell_type": "code",
      "source": [
        "for i in range(5):\n",
        "    for j in range(5):\n",
        "        print(\"*\",end=\" \")\n",
        "\n",
        "    print()"
      ],
      "metadata": {
        "colab": {
          "base_uri": "https://localhost:8080/"
        },
        "id": "qbjOpe2idg70",
        "outputId": "cbacc206-2f27-476f-8732-d7d020ba303e"
      },
      "execution_count": null,
      "outputs": [
        {
          "output_type": "stream",
          "name": "stdout",
          "text": [
            "* * * * * \n",
            "* * * * * \n",
            "* * * * * \n",
            "* * * * * \n",
            "* * * * * \n"
          ]
        }
      ]
    },
    {
      "cell_type": "code",
      "source": [
        "for i in range(5):\n",
        "    for j in range(5):\n",
        "        if j<=i:\n",
        "            print(\"*\",end=\" \")\n",
        "\n",
        "    print()"
      ],
      "metadata": {
        "colab": {
          "base_uri": "https://localhost:8080/"
        },
        "id": "5Xsi2GXndesC",
        "outputId": "6d77116f-5ca6-4668-a6cc-54a926435551"
      },
      "execution_count": null,
      "outputs": [
        {
          "output_type": "stream",
          "name": "stdout",
          "text": [
            "* \n",
            "* * \n",
            "* * * \n",
            "* * * * \n",
            "* * * * * \n"
          ]
        }
      ]
    },
    {
      "cell_type": "code",
      "source": [
        "for i in range(5):\n",
        "    for j in range(5):\n",
        "        if i<=j:\n",
        "            print(\"*\",end=\" \")\n",
        "\n",
        "    print()"
      ],
      "metadata": {
        "colab": {
          "base_uri": "https://localhost:8080/"
        },
        "id": "jpvqrVJFhGR6",
        "outputId": "b52a62cc-b313-4925-e4f8-c25fcc36de52"
      },
      "execution_count": null,
      "outputs": [
        {
          "output_type": "stream",
          "name": "stdout",
          "text": [
            "* * * * * \n",
            "* * * * \n",
            "* * * \n",
            "* * \n",
            "* \n"
          ]
        }
      ]
    },
    {
      "cell_type": "code",
      "source": [
        "for i in range(5):\n",
        "    for j in range(5):\n",
        "        if i+j>=4:\n",
        "            print(\"*\",end=\" \")\n",
        "\n",
        "        else:\n",
        "            print(\" \",end=\" \")\n",
        "\n",
        "    print(\"\\n\")"
      ],
      "metadata": {
        "colab": {
          "base_uri": "https://localhost:8080/"
        },
        "id": "m72d6bxGmiD1",
        "outputId": "6db65d4b-772c-4eea-dc46-e53ccac331e4"
      },
      "execution_count": null,
      "outputs": [
        {
          "output_type": "stream",
          "name": "stdout",
          "text": [
            "        * \n",
            "\n",
            "      * * \n",
            "\n",
            "    * * * \n",
            "\n",
            "  * * * * \n",
            "\n",
            "* * * * * \n",
            "\n"
          ]
        }
      ]
    },
    {
      "cell_type": "code",
      "source": [
        "for i in range(5,0,-1):\n",
        "    for j in range(7):\n",
        "        if j<=i:\n",
        "            print(\" \",end=\" \")\n",
        "\n",
        "        else:\n",
        "            print(\"*\",end=\" \")\n",
        "\n",
        "    print(\"\\n\")"
      ],
      "metadata": {
        "colab": {
          "base_uri": "https://localhost:8080/"
        },
        "id": "WYlyf95ym6zS",
        "outputId": "bb1652f1-e917-4448-ec42-d48ba1d7d05f"
      },
      "execution_count": null,
      "outputs": [
        {
          "output_type": "stream",
          "name": "stdout",
          "text": [
            "            * \n",
            "\n",
            "          * * \n",
            "\n",
            "        * * * \n",
            "\n",
            "      * * * * \n",
            "\n",
            "    * * * * * \n",
            "\n"
          ]
        }
      ]
    },
    {
      "cell_type": "code",
      "source": [
        "for i in range(5):\n",
        "    for j in range(6):\n",
        "        if j<=i:\n",
        "            print(\" \",end=\" \")\n",
        "\n",
        "        else:\n",
        "            print(\"*\",end=\" \")\n",
        "\n",
        "    print()"
      ],
      "metadata": {
        "colab": {
          "base_uri": "https://localhost:8080/"
        },
        "id": "6jtee39dhQqg",
        "outputId": "f0d36be2-fbbd-4bf9-9d41-5eb5c267e956"
      },
      "execution_count": null,
      "outputs": [
        {
          "output_type": "stream",
          "name": "stdout",
          "text": [
            "  * * * * * \n",
            "    * * * * \n",
            "      * * * \n",
            "        * * \n",
            "          * \n"
          ]
        }
      ]
    },
    {
      "cell_type": "code",
      "source": [
        "for i in range(5):\n",
        "    x=1\n",
        "    for j in range(5):\n",
        "        if j<=i:\n",
        "            print(x,end=\" \")\n",
        "            x+=1\n",
        "    print()"
      ],
      "metadata": {
        "colab": {
          "base_uri": "https://localhost:8080/"
        },
        "id": "fYik-hplneA5",
        "outputId": "14b2bcba-5b0d-439c-f34a-a3ebd5d49902"
      },
      "execution_count": null,
      "outputs": [
        {
          "output_type": "stream",
          "name": "stdout",
          "text": [
            "1 \n",
            "1 2 \n",
            "1 2 3 \n",
            "1 2 3 4 \n",
            "1 2 3 4 5 \n"
          ]
        }
      ]
    },
    {
      "cell_type": "code",
      "source": [
        "x=1\n",
        "for i in range(5):\n",
        "\n",
        "    for j in range(5):\n",
        "        if j<=i:\n",
        "            print(x,end=\" \")\n",
        "    x+=1\n",
        "    print()"
      ],
      "metadata": {
        "colab": {
          "base_uri": "https://localhost:8080/"
        },
        "id": "fh0UuApuoVu9",
        "outputId": "c298e399-808d-40e2-c76b-f0b3e4079756"
      },
      "execution_count": null,
      "outputs": [
        {
          "output_type": "stream",
          "name": "stdout",
          "text": [
            "1 \n",
            "2 2 \n",
            "3 3 3 \n",
            "4 4 4 4 \n",
            "5 5 5 5 5 \n"
          ]
        }
      ]
    },
    {
      "cell_type": "code",
      "source": [],
      "metadata": {
        "id": "bkHsi48jImBc"
      },
      "execution_count": null,
      "outputs": []
    },
    {
      "cell_type": "markdown",
      "source": [
        "rectangle"
      ],
      "metadata": {
        "id": "wR2Dq1OybgkS"
      }
    },
    {
      "cell_type": "code",
      "source": [
        "for i in range(5):\n",
        "    for j in range(5):\n",
        "        if i>0 and i<4:\n",
        "            if j==0 or j==4:\n",
        "                print(\"*\",end=\" \")\n",
        "            else:\n",
        "                print( \" \",end=\" \")\n",
        "        else:\n",
        "            print(\"*\",end=\" \")\n",
        "\n",
        "\n",
        "\n",
        "    print()"
      ],
      "metadata": {
        "colab": {
          "base_uri": "https://localhost:8080/"
        },
        "id": "7NOZWs2jolke",
        "outputId": "8f19659f-6ac0-4f48-c2fb-d3ff5c968812"
      },
      "execution_count": null,
      "outputs": [
        {
          "output_type": "stream",
          "name": "stdout",
          "text": [
            "* * * * * \n",
            "*       * \n",
            "*       * \n",
            "*       * \n",
            "* * * * * \n"
          ]
        }
      ]
    },
    {
      "cell_type": "markdown",
      "source": [
        "Rectangle with two diagonals"
      ],
      "metadata": {
        "id": "SrzHmZuEb4Yz"
      }
    },
    {
      "cell_type": "code",
      "source": [
        "n=int(input())\n",
        "\n",
        "for i in range(n):\n",
        "    for j in range(n):\n",
        "        if i==0 or i==n-1 or j==0 or j==n-1 or i==j or i+j==n-1:\n",
        "\n",
        "            print(\"*\",end=\" \")\n",
        "\n",
        "        else:\n",
        "            print(\" \",end=\" \")\n",
        "\n",
        "\n",
        "\n",
        "    print()"
      ],
      "metadata": {
        "colab": {
          "base_uri": "https://localhost:8080/"
        },
        "id": "TICJ3X1srcMX",
        "outputId": "3ce2971a-7770-45e8-a983-fe9f451506cb"
      },
      "execution_count": null,
      "outputs": [
        {
          "output_type": "stream",
          "name": "stdout",
          "text": [
            "11\n",
            "* * * * * * * * * * * \n",
            "* *               * * \n",
            "*   *           *   * \n",
            "*     *       *     * \n",
            "*       *   *       * \n",
            "*         *         * \n",
            "*       *   *       * \n",
            "*     *       *     * \n",
            "*   *           *   * \n",
            "* *               * * \n",
            "* * * * * * * * * * * \n"
          ]
        }
      ]
    },
    {
      "cell_type": "markdown",
      "source": [
        "1 2 3 4\n",
        "5 6 7 8\n",
        "9 10 11 12\n",
        "13 14 15 16"
      ],
      "metadata": {
        "id": "O3DtChPwcFag"
      }
    },
    {
      "cell_type": "code",
      "source": [
        "n=int(input())\n",
        "m=int(input())\n",
        "\n",
        "x=0\n",
        "for i in range(n):\n",
        "    for j in range(m):\n",
        "        x+=1\n",
        "        print(x,end=\"            \")\n",
        "    print(\"\\n\")"
      ],
      "metadata": {
        "colab": {
          "base_uri": "https://localhost:8080/"
        },
        "id": "D6alEDpJDrzq",
        "outputId": "a3e6a364-6fca-49af-ed83-d03fe42e018e"
      },
      "execution_count": null,
      "outputs": [
        {
          "output_type": "stream",
          "name": "stdout",
          "text": [
            "6\n",
            "7\n",
            "1            2            3            4            5            6            7            \n",
            "\n",
            "8            9            10            11            12            13            14            \n",
            "\n",
            "15            16            17            18            19            20            21            \n",
            "\n",
            "22            23            24            25            26            27            28            \n",
            "\n",
            "29            30            31            32            33            34            35            \n",
            "\n",
            "36            37            38            39            40            41            42            \n",
            "\n"
          ]
        }
      ]
    },
    {
      "cell_type": "markdown",
      "source": [
        "Write a pgm to read a string from user and implement the logic to remove the characters which are at the odd  numbers of the index"
      ],
      "metadata": {
        "id": "GP9CyPnvJUc9"
      }
    },
    {
      "cell_type": "code",
      "source": [
        "st=input(\"Enter the string: \")\n",
        "\n",
        "y=''\n",
        "for i in range(0,len(st),2):\n",
        "    y=y+st[i]\n",
        "\n",
        "print(y)"
      ],
      "metadata": {
        "colab": {
          "base_uri": "https://localhost:8080/"
        },
        "id": "p5KFXe_XJYKf",
        "outputId": "382c09b8-e508-4f33-b795-05b650e85486"
      },
      "execution_count": null,
      "outputs": [
        {
          "output_type": "stream",
          "name": "stdout",
          "text": [
            "Enter the string: bghjguy\n",
            "bhgy\n"
          ]
        }
      ]
    },
    {
      "cell_type": "markdown",
      "source": [
        "Write a pgm to swap 2 nos using a third variable"
      ],
      "metadata": {
        "id": "eTX9eOg6JZxx"
      }
    },
    {
      "cell_type": "code",
      "source": [
        "a=int(input())\n",
        "b=int(input())\n",
        "x=a\n",
        "a=b\n",
        "b=x\n",
        "\n",
        "print(a,b)"
      ],
      "metadata": {
        "id": "y3veBRMzMmAP"
      },
      "execution_count": null,
      "outputs": []
    },
    {
      "cell_type": "code",
      "source": [
        "a=int(input())\n",
        "b=int(input())\n",
        "\n",
        "a=a+b\n",
        "b=a-b\n",
        "a=a-b\n",
        "\n",
        "print(a,b)"
      ],
      "metadata": {
        "colab": {
          "base_uri": "https://localhost:8080/"
        },
        "id": "TSkySB6lO1xM",
        "outputId": "a8a8f582-d7ff-499b-ee09-872445872188"
      },
      "execution_count": null,
      "outputs": [
        {
          "output_type": "stream",
          "name": "stdout",
          "text": [
            "7\n",
            "10\n",
            "10 7\n"
          ]
        }
      ]
    },
    {
      "cell_type": "markdown",
      "source": [
        "## Collections"
      ],
      "metadata": {
        "id": "mLXZgD3RTCE9"
      }
    },
    {
      "cell_type": "code",
      "source": [
        "l1=[1,2,3,4,2,3,7]\n",
        "print(type(l1))\n",
        "print(type(l1[3]))\n",
        "print(len(l1))\n",
        "print(l1[0:5])\n",
        "print(l1[-3:])"
      ],
      "metadata": {
        "id": "psPWKybSPaQ9",
        "colab": {
          "base_uri": "https://localhost:8080/",
          "height": 0
        },
        "outputId": "78a6c27d-46fa-4b17-e673-57f35ce3266f"
      },
      "execution_count": 14,
      "outputs": [
        {
          "output_type": "stream",
          "name": "stdout",
          "text": [
            "<class 'list'>\n",
            "<class 'int'>\n",
            "7\n",
            "[1, 2, 3, 4, 2]\n",
            "[2, 3, 7]\n"
          ]
        }
      ]
    },
    {
      "cell_type": "code",
      "source": [
        "li=[\"cat\",\"dog\",\"pig\",\"duck\"]\n",
        "li[0:3]=[]\n",
        "print(li)\n",
        "\n",
        "li=[\"cat\",\"dog\",\"pig\",\"duck\"]\n",
        "li[0:3]=[\"camel\"]\n",
        "print(li)\n",
        "\n",
        "li=[\"cat\",\"dog\",\"pig\",\"duck\"]\n",
        "li[1:2]=[\"elephant\",\"monkey\",\"crow\",\"eagle\"]\n",
        "print(li)"
      ],
      "metadata": {
        "colab": {
          "base_uri": "https://localhost:8080/",
          "height": 0
        },
        "id": "MjfHxR7aS5Fp",
        "outputId": "58f691ed-ec38-4fc7-ea8f-86da28d2a642"
      },
      "execution_count": 27,
      "outputs": [
        {
          "output_type": "stream",
          "name": "stdout",
          "text": [
            "['duck']\n",
            "['camel', 'duck']\n",
            "['cat', 'elephant', 'monkey', 'crow', 'eagle', 'pig', 'duck']\n"
          ]
        }
      ]
    },
    {
      "cell_type": "markdown",
      "source": [
        "list - append, insert, extend"
      ],
      "metadata": {
        "id": "q23nueXPX5n-"
      }
    },
    {
      "cell_type": "code",
      "source": [
        "li=[\"cat\",\"dog\",\"pig\",\"duck\"]\n",
        "li.insert(2,\"camel\")\n",
        "print(li)\n",
        "\n",
        "lj=[\"cow\",\"parrot\"]\n",
        "li.extend(lj)\n",
        "print(li)"
      ],
      "metadata": {
        "colab": {
          "base_uri": "https://localhost:8080/",
          "height": 0
        },
        "id": "6EIhuwwXVmF8",
        "outputId": "c8b4f615-49f6-4f53-ae81-5c9367afa49f"
      },
      "execution_count": 30,
      "outputs": [
        {
          "output_type": "stream",
          "name": "stdout",
          "text": [
            "['cat', 'dog', 'camel', 'pig', 'duck']\n",
            "['cat', 'dog', 'camel', 'pig', 'duck', 'cow', 'parrot']\n"
          ]
        }
      ]
    },
    {
      "cell_type": "markdown",
      "source": [
        "list- remove, pop, clear, del"
      ],
      "metadata": {
        "id": "OLleUwsGZdOI"
      }
    },
    {
      "cell_type": "code",
      "source": [
        "li=[\"cat\",\"dog\",\"pig\",\"duck\"]\n",
        "li.remove(\"dog\")\n",
        "print(li)\n",
        "\n",
        "li=[\"cat\",\"dog\",\"pig\",\"duck\"]\n",
        "li.pop(2)\n",
        "print(li)\n",
        "\n",
        "li=[\"cat\",\"dog\",\"pig\",\"duck\"]\n",
        "li.clear()\n",
        "print(li)\n",
        "\n",
        "li=[\"cat\",\"dog\",\"pig\",\"duck\"]\n",
        "del(li[2])\n",
        "print(li)\n",
        "del(li)\n",
        "print(li)\n"
      ],
      "metadata": {
        "colab": {
          "base_uri": "https://localhost:8080/",
          "height": 245
        },
        "id": "39_DQ8kXZcnn",
        "outputId": "48c6cd04-823e-4930-c447-6ccdecaaaa55"
      },
      "execution_count": 37,
      "outputs": [
        {
          "output_type": "stream",
          "name": "stdout",
          "text": [
            "['cat', 'pig', 'duck']\n",
            "['cat', 'dog', 'duck']\n",
            "[]\n",
            "['cat', 'dog', 'duck']\n"
          ]
        },
        {
          "output_type": "error",
          "ename": "NameError",
          "evalue": "name 'li' is not defined",
          "traceback": [
            "\u001b[0;31m---------------------------------------------------------------------------\u001b[0m",
            "\u001b[0;31mNameError\u001b[0m                                 Traceback (most recent call last)",
            "\u001b[0;32m<ipython-input-37-1734d44ca16c>\u001b[0m in \u001b[0;36m<cell line: 17>\u001b[0;34m()\u001b[0m\n\u001b[1;32m     15\u001b[0m \u001b[0mprint\u001b[0m\u001b[0;34m(\u001b[0m\u001b[0mli\u001b[0m\u001b[0;34m)\u001b[0m\u001b[0;34m\u001b[0m\u001b[0;34m\u001b[0m\u001b[0m\n\u001b[1;32m     16\u001b[0m \u001b[0;32mdel\u001b[0m\u001b[0;34m(\u001b[0m\u001b[0mli\u001b[0m\u001b[0;34m)\u001b[0m\u001b[0;34m\u001b[0m\u001b[0;34m\u001b[0m\u001b[0m\n\u001b[0;32m---> 17\u001b[0;31m \u001b[0mprint\u001b[0m\u001b[0;34m(\u001b[0m\u001b[0mli\u001b[0m\u001b[0;34m)\u001b[0m\u001b[0;34m\u001b[0m\u001b[0;34m\u001b[0m\u001b[0m\n\u001b[0m",
            "\u001b[0;31mNameError\u001b[0m: name 'li' is not defined"
          ]
        }
      ]
    },
    {
      "cell_type": "markdown",
      "source": [
        "in"
      ],
      "metadata": {
        "id": "q8mWF82MbmQS"
      }
    },
    {
      "cell_type": "code",
      "source": [
        "li=[\"cat\",\"dog\",\"pig\",\"duck\"]\n",
        "if \"pig\" in li:\n",
        "    print(\"Exists\")"
      ],
      "metadata": {
        "colab": {
          "base_uri": "https://localhost:8080/",
          "height": 0
        },
        "id": "1gn4PRpfZ_66",
        "outputId": "d3a23fde-3c54-41f4-a96e-e07204b370bd"
      },
      "execution_count": 40,
      "outputs": [
        {
          "output_type": "stream",
          "name": "stdout",
          "text": [
            "Exists\n"
          ]
        }
      ]
    },
    {
      "cell_type": "code",
      "source": [
        "l1=[\"apple\"]\n",
        "print(l1)"
      ],
      "metadata": {
        "colab": {
          "base_uri": "https://localhost:8080/"
        },
        "id": "tCbiQyeWa8dk",
        "outputId": "877c2471-ed98-4ff1-c262-557c32cfd62e"
      },
      "execution_count": 42,
      "outputs": [
        {
          "output_type": "stream",
          "name": "stdout",
          "text": [
            "['apple']\n"
          ]
        }
      ]
    },
    {
      "cell_type": "code",
      "source": [
        "l1=[\"apple\",\"banana\",\"cherry\",\"mango\"]\n",
        "l2=[10,20,30,40]\n",
        "l3=[True, False]\n",
        "l4=list((\"Jack\"))\n",
        "\n",
        "l6=list([\"Jack\"])\n",
        "l5=list([\"Jack\",\"John\"])\n",
        "\n",
        "\n",
        "print(l4)\n",
        "print(l6)\n",
        "print(l5)\n",
        "print(l1[0])\n",
        "print(l1[0:4])\n",
        "print(l1[:4])\n",
        "print(l1[0:])\n",
        "print(l1[:])\n",
        "print(l1[-4:-1])\n",
        "\n",
        "print(l1[-1:-4])\n",
        "x=len(l1)\n",
        "print(x)\n",
        "print(type(l1))\n",
        "print(type(l1[0]))\n",
        "\n",
        "if \"apple\" in l1:\n",
        "    print(\"Exists\")\n",
        "\n",
        "l1[1]=\"Kiwi\"\n",
        "print(l1)\n",
        "l1[1:3]=[\"Pineapple\",\"Dates\",\"x\"]\n",
        "print(l1)\n",
        "\n",
        "lst=[\"apple\",\"banana\",\"cherry\"]\n",
        "lst[1:2]=[\"blackcurrant\",\"watermelon\"]\n",
        "print(lst)"
      ],
      "metadata": {
        "colab": {
          "base_uri": "https://localhost:8080/"
        },
        "id": "IB21diK8eOSR",
        "outputId": "e6c9ca17-8096-48c5-82c3-96276ae5c74a"
      },
      "execution_count": 59,
      "outputs": [
        {
          "output_type": "stream",
          "name": "stdout",
          "text": [
            "['J', 'a', 'c', 'k']\n",
            "['Jack']\n",
            "['Jack', 'John']\n",
            "apple\n",
            "['apple', 'banana', 'cherry', 'mango']\n",
            "['apple', 'banana', 'cherry', 'mango']\n",
            "['apple', 'banana', 'cherry', 'mango']\n",
            "['apple', 'banana', 'cherry', 'mango']\n",
            "['apple', 'banana', 'cherry']\n",
            "[]\n",
            "4\n",
            "<class 'list'>\n",
            "<class 'str'>\n",
            "Exists\n",
            "['apple', 'Kiwi', 'cherry', 'mango']\n",
            "['apple', 'Pineapple', 'Dates', 'x', 'mango']\n",
            "['apple', 'blackcurrant', 'watermelon', 'cherry']\n"
          ]
        }
      ]
    },
    {
      "cell_type": "code",
      "source": [],
      "metadata": {
        "id": "QDIwbZdnfYra"
      },
      "execution_count": null,
      "outputs": []
    }
  ]
}