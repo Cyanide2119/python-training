{
  "nbformat": 4,
  "nbformat_minor": 0,
  "metadata": {
    "colab": {
      "provenance": [],
      "authorship_tag": "ABX9TyOUJ9KwUSfFhpY1gmUoMpT3",
      "include_colab_link": true
    },
    "kernelspec": {
      "name": "python3",
      "display_name": "Python 3"
    },
    "language_info": {
      "name": "python"
    }
  },
  "cells": [
    {
      "cell_type": "markdown",
      "metadata": {
        "id": "view-in-github",
        "colab_type": "text"
      },
      "source": [
        "<a href=\"https://colab.research.google.com/github/Cyanide2119/python-training/blob/main/PythonTraining.ipynb\" target=\"_parent\"><img src=\"https://colab.research.google.com/assets/colab-badge.svg\" alt=\"Open In Colab\"/></a>"
      ]
    },
    {
      "cell_type": "markdown",
      "source": [
        "# Marks\n"
      ],
      "metadata": {
        "id": "GhPrpdl2MM_c"
      }
    },
    {
      "cell_type": "code",
      "execution_count": null,
      "metadata": {
        "colab": {
          "base_uri": "https://localhost:8080/"
        },
        "id": "kEzrXhJ0LEsM",
        "outputId": "02e7a0c4-a405-45db-c910-cd3d2590931d"
      },
      "outputs": [
        {
          "output_type": "stream",
          "name": "stdout",
          "text": [
            "Enter the marks 80\n",
            "Pass\n"
          ]
        }
      ],
      "source": [
        "x=int(input(\"Enter the marks \"))\n",
        "\n",
        "if x>80 and x<=100:\n",
        "    print(\"Distinction\")\n",
        "elif x>60 and x<=80:\n",
        "    print(\"Pass\")\n",
        "\n",
        "elif x<60:\n",
        "    print(\"Fail\")\n",
        "\n",
        "else:\n",
        "    print(\"Invlaid marks\")"
      ]
    },
    {
      "cell_type": "markdown",
      "source": [
        "# prime"
      ],
      "metadata": {
        "id": "P-cBAucFTFlS"
      }
    },
    {
      "cell_type": "code",
      "source": [
        "x=int(input())\n",
        "\n",
        "for i in range(2,x):\n",
        "    if x%i==0:\n",
        "        print(\"Not prime\")\n",
        "        break;\n",
        "\n",
        "if i==x-1:\n",
        "\n",
        "    print(\"Prime\")"
      ],
      "metadata": {
        "id": "hDX0e4avLIjt",
        "colab": {
          "base_uri": "https://localhost:8080/"
        },
        "outputId": "a6485f8a-3519-42e7-df12-7704ebefbbb8"
      },
      "execution_count": null,
      "outputs": [
        {
          "output_type": "stream",
          "name": "stdout",
          "text": [
            "6\n",
            "Not prime\n"
          ]
        }
      ]
    },
    {
      "cell_type": "markdown",
      "source": [
        "# Armstrong number"
      ],
      "metadata": {
        "id": "BYWRfZjIGoTK"
      }
    },
    {
      "cell_type": "code",
      "source": [
        "n=input()\n",
        "\n",
        "y=list(n)\n",
        "\n",
        "x=0\n",
        "for i in y:\n",
        "    i=int(i)\n",
        "    x+=i**len(y)\n",
        "\n",
        "print(x)\n",
        "print(n)\n",
        "\n",
        "n=int(n)\n",
        "if x==n:\n",
        "    print(\"Armstroong\")\n",
        "else:\n",
        "    print(\"NOT ARMSTRONG\")"
      ],
      "metadata": {
        "colab": {
          "base_uri": "https://localhost:8080/"
        },
        "id": "dZAl1jfCLY0E",
        "outputId": "6ef22fb1-ef30-4949-dac8-fa0107be49f0"
      },
      "execution_count": null,
      "outputs": [
        {
          "output_type": "stream",
          "name": "stdout",
          "text": [
            "370\n",
            "370\n",
            "370\n",
            "Armstroong\n"
          ]
        }
      ]
    },
    {
      "cell_type": "markdown",
      "source": [
        "# Strong number"
      ],
      "metadata": {
        "id": "F9J3tyQkGq8A"
      }
    },
    {
      "cell_type": "code",
      "source": [
        "\n",
        "n=input(\"Enter the number\")\n",
        "\n",
        "y=list(n)\n",
        "\n",
        "x=0\n",
        "for i in y:\n",
        "    m=1\n",
        "    i=int(i)\n",
        "    for j in range(1,i+1):\n",
        "        m=m*j\n",
        "\n",
        "    x+=m\n",
        "\n",
        "print(x)\n",
        "print(n)\n",
        "\n",
        "n=int(n)\n",
        "if x==n:\n",
        "    print(\"strong\")\n",
        "else:\n",
        "    print(\"NOT STRONG\")"
      ],
      "metadata": {
        "colab": {
          "base_uri": "https://localhost:8080/"
        },
        "id": "zTHGhCfCLw1m",
        "outputId": "d6e3a4f4-62d8-434b-bf31-9d7579459169"
      },
      "execution_count": null,
      "outputs": [
        {
          "output_type": "stream",
          "name": "stdout",
          "text": [
            "Enter the number145\n",
            "145\n",
            "145\n",
            "strong\n"
          ]
        }
      ]
    },
    {
      "cell_type": "markdown",
      "source": [
        "# Spy number"
      ],
      "metadata": {
        "id": "dXbicwApGkCI"
      }
    },
    {
      "cell_type": "code",
      "source": [
        "\n",
        "n=input(\"Enter the number\")\n",
        "\n",
        "y=list(n)\n",
        "\n",
        "sum=0\n",
        "pro=1\n",
        "for i in y:\n",
        "    i=int(i)\n",
        "    sum+=i\n",
        "    pro*=i\n",
        "\n",
        "if sum==pro:\n",
        "    print(\"spy number\")\n",
        "\n",
        "else:\n",
        "    print(\"Not a spy number\")"
      ],
      "metadata": {
        "id": "TfR1O_rsL_Yf"
      },
      "execution_count": null,
      "outputs": []
    },
    {
      "cell_type": "markdown",
      "source": [
        "# Neon number"
      ],
      "metadata": {
        "id": "R43r9c8VGheK"
      }
    },
    {
      "cell_type": "code",
      "source": [
        "\n",
        "n=input(\"Enter the number\")\n",
        "\n",
        "m=int(n)\n",
        "m=m*m\n",
        "m=str(m)\n",
        "m=list(m)\n",
        "\n",
        "\n",
        "sum=0\n",
        "pro=1\n",
        "for i in m:\n",
        "    i=int(i)\n",
        "    sum+=i\n",
        "\n",
        "if sum==int(n):\n",
        "    print(\"NEon\")\n",
        "\n",
        "else:\n",
        "    print(\"not neon\")"
      ],
      "metadata": {
        "id": "zR3BTR-OMC6e"
      },
      "execution_count": null,
      "outputs": []
    },
    {
      "cell_type": "markdown",
      "source": [
        "# Prime numbers in a given range"
      ],
      "metadata": {
        "id": "qwF9vccAGcYN"
      }
    },
    {
      "cell_type": "code",
      "source": [
        "x=int(input(\"Enter the starting range \"))\n",
        "y=int(input(\"Enter the ending range \"))\n",
        "\n",
        "lst=[]\n",
        "for i in range(x,y):\n",
        "    lst.append(i)\n",
        "\n",
        "\n",
        "for i in range(x+1,y):\n",
        "    for j in range(2,i//2):\n",
        "        if i%j==0:\n",
        "            lst.remove(i)\n",
        "            break\n",
        "\n",
        "print(lst)\n",
        "print(\"Number of prime numbers:\",len(lst))"
      ],
      "metadata": {
        "colab": {
          "base_uri": "https://localhost:8080/"
        },
        "id": "kd2bAeBkMFhU",
        "outputId": "040d3b65-6ec3-4b66-c41c-f2e83f3e07df"
      },
      "execution_count": null,
      "outputs": [
        {
          "output_type": "stream",
          "name": "stdout",
          "text": [
            "Enter the starting range 5\n",
            "Enter the ending range 30\n",
            "[5, 7, 11, 13, 17, 19, 23, 29]\n",
            "Number of prime numbers 8\n"
          ]
        }
      ]
    },
    {
      "cell_type": "markdown",
      "source": [
        "# Palindrome number"
      ],
      "metadata": {
        "id": "aOrH6GvYG-P0"
      }
    },
    {
      "cell_type": "code",
      "source": [
        "n=input()\n",
        "n=list(n)\n",
        "\n",
        "i=0\n",
        "j=len(n)-1\n",
        "while(i<j):\n",
        "    if n[i]==n[j]:\n",
        "        i+=1\n",
        "        j-=1\n",
        "\n",
        "    else:\n",
        "        print(\"Not palindrome\")\n",
        "\n",
        "        exit(0)\n",
        "        break\n",
        "\n",
        "\n",
        "print(\"Palindrome\")\n",
        "\n",
        "\n"
      ],
      "metadata": {
        "id": "J9x45NCZTWtW",
        "colab": {
          "base_uri": "https://localhost:8080/"
        },
        "outputId": "fee0ab8b-1a12-4357-b5f0-019f036a4bf3"
      },
      "execution_count": null,
      "outputs": [
        {
          "output_type": "stream",
          "name": "stdout",
          "text": [
            "121121\n",
            "Palindrome\n"
          ]
        }
      ]
    },
    {
      "cell_type": "markdown",
      "source": [
        "# Happy Number"
      ],
      "metadata": {
        "id": "3SccxVYq7AAX"
      }
    },
    {
      "cell_type": "code",
      "source": [
        "n=input()\n",
        "\n",
        "y=list(n)\n",
        "\n",
        "print(y)\n",
        "\n",
        "x=0\n",
        "while(1):\n",
        "    x=0\n",
        "    y=list(y)\n",
        "    print(y)\n",
        "\n",
        "    for i in y:\n",
        "        i=int(i)\n",
        "        x+=i**2\n",
        "\n",
        "    if x==4:\n",
        "        print(\"False\")\n",
        "        break\n",
        "\n",
        "\n",
        "    elif x==1:\n",
        "        print(\"True\")\n",
        "        break\n",
        "\n",
        "\n",
        "    elif x!=1:\n",
        "        y=x\n",
        "        y=str(y)\n",
        "\n",
        "\n",
        "\n"
      ],
      "metadata": {
        "colab": {
          "base_uri": "https://localhost:8080/"
        },
        "id": "bplENRW57Eno",
        "outputId": "b2238d53-79f5-4157-e636-ca6511c20617"
      },
      "execution_count": null,
      "outputs": [
        {
          "output_type": "stream",
          "name": "stdout",
          "text": [
            "4\n",
            "['4']\n",
            "['4']\n",
            "['1', '6']\n",
            "['3', '7']\n",
            "['5', '8']\n",
            "['8', '9']\n",
            "['1', '4', '5']\n",
            "['4', '2']\n",
            "['2', '0']\n",
            "False\n"
          ]
        }
      ]
    },
    {
      "cell_type": "code",
      "source": [
        "num=int(input())\n",
        "res=num\n",
        "\n",
        "while res!=1 and res!=4:\n",
        "    res=ishappy(res)\n",
        "\n",
        "\n",
        "def ishappy(n):\n",
        "    sum=0\n",
        "    while(n!=0):\n",
        "        r=n%10\n",
        "        sum=sum+r**2\n",
        "        n=n//10\n",
        "\n",
        "    return sum\n",
        "\n",
        "if res==1:\n",
        "    print(\"Happy\")\n",
        "elif res==4:\n",
        "    print(\"Not happy\")\n"
      ],
      "metadata": {
        "colab": {
          "base_uri": "https://localhost:8080/"
        },
        "id": "JfM_KjZA97kE",
        "outputId": "342f64e1-d66d-425e-ff38-34bfe574a2a9"
      },
      "execution_count": null,
      "outputs": [
        {
          "output_type": "stream",
          "name": "stdout",
          "text": [
            "4\n",
            "Not happy\n"
          ]
        }
      ]
    },
    {
      "cell_type": "markdown",
      "source": [
        "# Factorial"
      ],
      "metadata": {
        "id": "fUKK3sSbO9pQ"
      }
    },
    {
      "cell_type": "code",
      "source": [
        "n=int(input())\n",
        "\n",
        "x=1\n",
        "for i in range(1,n+1):\n",
        "    x=x*i\n",
        "\n",
        "print(x)"
      ],
      "metadata": {
        "colab": {
          "base_uri": "https://localhost:8080/"
        },
        "id": "0XXF_CscGGY5",
        "outputId": "bc798621-f41e-44a4-d200-7617b54d05fa"
      },
      "execution_count": null,
      "outputs": [
        {
          "output_type": "stream",
          "name": "stdout",
          "text": [
            "4\n",
            "24\n"
          ]
        }
      ]
    },
    {
      "cell_type": "code",
      "source": [
        "n=int(input())\n",
        "\n",
        "def fact(n):\n",
        "    if n==1:\n",
        "        return 1\n",
        "    return fact(n-1)*n\n",
        "\n",
        "x=fact(n)\n",
        "print(x)"
      ],
      "metadata": {
        "colab": {
          "base_uri": "https://localhost:8080/"
        },
        "id": "IH4TjMzpHnjt",
        "outputId": "4d9c104d-24eb-4353-f9e2-3d4c53ff6e37"
      },
      "execution_count": null,
      "outputs": [
        {
          "output_type": "stream",
          "name": "stdout",
          "text": [
            "4\n",
            "24\n"
          ]
        }
      ]
    },
    {
      "cell_type": "markdown",
      "source": [
        "# Fibonacci"
      ],
      "metadata": {
        "id": "AfFlB4HkP2Fv"
      }
    },
    {
      "cell_type": "code",
      "source": [
        "n=int(input(\"Enter the range: \"))\n",
        "x=0\n",
        "y=1\n",
        "\n",
        "while x<=n:\n",
        "\n",
        "    print(x,end=\" \")\n",
        "    z=y\n",
        "    y=x+y\n",
        "    x=z\n"
      ],
      "metadata": {
        "colab": {
          "base_uri": "https://localhost:8080/"
        },
        "id": "vUST-ggaPd9P",
        "outputId": "c883dd6e-a1c1-4956-ee7f-58140c727b58"
      },
      "execution_count": null,
      "outputs": [
        {
          "output_type": "stream",
          "name": "stdout",
          "text": [
            "Enter the range: 20\n",
            "0 1 1 2 3 5 8 13 "
          ]
        }
      ]
    },
    {
      "cell_type": "markdown",
      "source": [
        "Python pgm to find the best of two test avg marks out of 3 test marks accepted from the user"
      ],
      "metadata": {
        "id": "cBUFjxk4X49d"
      }
    },
    {
      "cell_type": "code",
      "source": [],
      "metadata": {
        "id": "OcUOvCHSQp5R"
      },
      "execution_count": null,
      "outputs": []
    },
    {
      "cell_type": "markdown",
      "source": [
        "Develop a pyhton pgm to convert a binary number into decimal, octal and hexadecimal numbers using functions"
      ],
      "metadata": {
        "id": "FBC1Pqy9X_Kc"
      }
    },
    {
      "cell_type": "code",
      "source": [],
      "metadata": {
        "id": "55TA60-1Yvq6"
      },
      "execution_count": null,
      "outputs": []
    },
    {
      "cell_type": "markdown",
      "source": [
        "Define a function F as Fn=Fn-1 + Fn-2. Write a python pgm which accepts a value for N(where N>0) as input and pass this value to the function. Display error message if the  condition for input value is not allowed"
      ],
      "metadata": {
        "id": "1SHUKz4HYTaG"
      }
    },
    {
      "cell_type": "code",
      "source": [],
      "metadata": {
        "id": "cbNbekEuYuiZ"
      },
      "execution_count": null,
      "outputs": []
    },
    {
      "cell_type": "markdown",
      "source": [
        "Write a python pgm to find the string similarity between 2 given strings"
      ],
      "metadata": {
        "id": "TK6QETUgY1WW"
      }
    },
    {
      "cell_type": "code",
      "source": [],
      "metadata": {
        "id": "HdebVuiBY-_N"
      },
      "execution_count": null,
      "outputs": []
    },
    {
      "cell_type": "markdown",
      "source": [
        "Write a python pgm that accepts a sentence and finds the number of words, digits, uppercase letters and lowercase letters"
      ],
      "metadata": {
        "id": "Gnnh06dTY65H"
      }
    },
    {
      "cell_type": "code",
      "source": [],
      "metadata": {
        "id": "3eEs4D9hZbMw"
      },
      "execution_count": null,
      "outputs": []
    },
    {
      "cell_type": "code",
      "source": [
        "for i in range(5):\n",
        "    for j in range(5):\n",
        "        print(\"*\",end=\" \")\n",
        "\n",
        "    print()"
      ],
      "metadata": {
        "colab": {
          "base_uri": "https://localhost:8080/"
        },
        "id": "qbjOpe2idg70",
        "outputId": "cbacc206-2f27-476f-8732-d7d020ba303e"
      },
      "execution_count": null,
      "outputs": [
        {
          "output_type": "stream",
          "name": "stdout",
          "text": [
            "* * * * * \n",
            "* * * * * \n",
            "* * * * * \n",
            "* * * * * \n",
            "* * * * * \n"
          ]
        }
      ]
    },
    {
      "cell_type": "code",
      "source": [
        "for i in range(5):\n",
        "    for j in range(5):\n",
        "        if j<=i:\n",
        "            print(\"*\",end=\" \")\n",
        "\n",
        "    print()"
      ],
      "metadata": {
        "colab": {
          "base_uri": "https://localhost:8080/"
        },
        "id": "5Xsi2GXndesC",
        "outputId": "6d77116f-5ca6-4668-a6cc-54a926435551"
      },
      "execution_count": null,
      "outputs": [
        {
          "output_type": "stream",
          "name": "stdout",
          "text": [
            "* \n",
            "* * \n",
            "* * * \n",
            "* * * * \n",
            "* * * * * \n"
          ]
        }
      ]
    },
    {
      "cell_type": "code",
      "source": [
        "for i in range(5):\n",
        "    for j in range(5):\n",
        "        if i<=j:\n",
        "            print(\"*\",end=\" \")\n",
        "\n",
        "    print()"
      ],
      "metadata": {
        "colab": {
          "base_uri": "https://localhost:8080/"
        },
        "id": "jpvqrVJFhGR6",
        "outputId": "b52a62cc-b313-4925-e4f8-c25fcc36de52"
      },
      "execution_count": null,
      "outputs": [
        {
          "output_type": "stream",
          "name": "stdout",
          "text": [
            "* * * * * \n",
            "* * * * \n",
            "* * * \n",
            "* * \n",
            "* \n"
          ]
        }
      ]
    },
    {
      "cell_type": "code",
      "source": [
        "for i in range(5):\n",
        "    for j in range(5):\n",
        "        if i+j>=4:\n",
        "            print(\"*\",end=\" \")\n",
        "\n",
        "        else:\n",
        "            print(\" \",end=\" \")\n",
        "\n",
        "    print(\"\\n\")"
      ],
      "metadata": {
        "colab": {
          "base_uri": "https://localhost:8080/"
        },
        "id": "m72d6bxGmiD1",
        "outputId": "6db65d4b-772c-4eea-dc46-e53ccac331e4"
      },
      "execution_count": null,
      "outputs": [
        {
          "output_type": "stream",
          "name": "stdout",
          "text": [
            "        * \n",
            "\n",
            "      * * \n",
            "\n",
            "    * * * \n",
            "\n",
            "  * * * * \n",
            "\n",
            "* * * * * \n",
            "\n"
          ]
        }
      ]
    },
    {
      "cell_type": "code",
      "source": [
        "for i in range(5,0,-1):\n",
        "    for j in range(7):\n",
        "        if j<=i:\n",
        "            print(\" \",end=\" \")\n",
        "\n",
        "        else:\n",
        "            print(\"*\",end=\" \")\n",
        "\n",
        "    print(\"\\n\")"
      ],
      "metadata": {
        "colab": {
          "base_uri": "https://localhost:8080/"
        },
        "id": "WYlyf95ym6zS",
        "outputId": "bb1652f1-e917-4448-ec42-d48ba1d7d05f"
      },
      "execution_count": null,
      "outputs": [
        {
          "output_type": "stream",
          "name": "stdout",
          "text": [
            "            * \n",
            "\n",
            "          * * \n",
            "\n",
            "        * * * \n",
            "\n",
            "      * * * * \n",
            "\n",
            "    * * * * * \n",
            "\n"
          ]
        }
      ]
    },
    {
      "cell_type": "code",
      "source": [
        "for i in range(5):\n",
        "    for j in range(6):\n",
        "        if j<=i:\n",
        "            print(\" \",end=\" \")\n",
        "\n",
        "        else:\n",
        "            print(\"*\",end=\" \")\n",
        "\n",
        "    print()"
      ],
      "metadata": {
        "colab": {
          "base_uri": "https://localhost:8080/"
        },
        "id": "6jtee39dhQqg",
        "outputId": "f0d36be2-fbbd-4bf9-9d41-5eb5c267e956"
      },
      "execution_count": null,
      "outputs": [
        {
          "output_type": "stream",
          "name": "stdout",
          "text": [
            "  * * * * * \n",
            "    * * * * \n",
            "      * * * \n",
            "        * * \n",
            "          * \n"
          ]
        }
      ]
    },
    {
      "cell_type": "code",
      "source": [
        "for i in range(5):\n",
        "    x=1\n",
        "    for j in range(5):\n",
        "        if j<=i:\n",
        "            print(x,end=\" \")\n",
        "            x+=1\n",
        "    print()"
      ],
      "metadata": {
        "colab": {
          "base_uri": "https://localhost:8080/"
        },
        "id": "fYik-hplneA5",
        "outputId": "14b2bcba-5b0d-439c-f34a-a3ebd5d49902"
      },
      "execution_count": null,
      "outputs": [
        {
          "output_type": "stream",
          "name": "stdout",
          "text": [
            "1 \n",
            "1 2 \n",
            "1 2 3 \n",
            "1 2 3 4 \n",
            "1 2 3 4 5 \n"
          ]
        }
      ]
    },
    {
      "cell_type": "code",
      "source": [
        "x=1\n",
        "for i in range(5):\n",
        "\n",
        "    for j in range(5):\n",
        "        if j<=i:\n",
        "            print(x,end=\" \")\n",
        "    x+=1\n",
        "    print()"
      ],
      "metadata": {
        "colab": {
          "base_uri": "https://localhost:8080/"
        },
        "id": "fh0UuApuoVu9",
        "outputId": "c298e399-808d-40e2-c76b-f0b3e4079756"
      },
      "execution_count": null,
      "outputs": [
        {
          "output_type": "stream",
          "name": "stdout",
          "text": [
            "1 \n",
            "2 2 \n",
            "3 3 3 \n",
            "4 4 4 4 \n",
            "5 5 5 5 5 \n"
          ]
        }
      ]
    },
    {
      "cell_type": "code",
      "source": [],
      "metadata": {
        "id": "bkHsi48jImBc"
      },
      "execution_count": null,
      "outputs": []
    },
    {
      "cell_type": "markdown",
      "source": [
        "rectangle"
      ],
      "metadata": {
        "id": "wR2Dq1OybgkS"
      }
    },
    {
      "cell_type": "code",
      "source": [
        "for i in range(5):\n",
        "    for j in range(5):\n",
        "        if i>0 and i<4:\n",
        "            if j==0 or j==4:\n",
        "                print(\"*\",end=\" \")\n",
        "            else:\n",
        "                print( \" \",end=\" \")\n",
        "        else:\n",
        "            print(\"*\",end=\" \")\n",
        "\n",
        "\n",
        "\n",
        "    print()"
      ],
      "metadata": {
        "colab": {
          "base_uri": "https://localhost:8080/"
        },
        "id": "7NOZWs2jolke",
        "outputId": "8f19659f-6ac0-4f48-c2fb-d3ff5c968812"
      },
      "execution_count": null,
      "outputs": [
        {
          "output_type": "stream",
          "name": "stdout",
          "text": [
            "* * * * * \n",
            "*       * \n",
            "*       * \n",
            "*       * \n",
            "* * * * * \n"
          ]
        }
      ]
    },
    {
      "cell_type": "markdown",
      "source": [
        "Rectangle with two diagonals"
      ],
      "metadata": {
        "id": "SrzHmZuEb4Yz"
      }
    },
    {
      "cell_type": "code",
      "source": [
        "n=int(input())\n",
        "\n",
        "for i in range(n):\n",
        "    for j in range(n):\n",
        "        if i==0 or i==n-1 or j==0 or j==n-1 or i==j or i+j==n-1:\n",
        "\n",
        "            print(\"*\",end=\" \")\n",
        "\n",
        "        else:\n",
        "            print(\" \",end=\" \")\n",
        "\n",
        "\n",
        "\n",
        "    print()"
      ],
      "metadata": {
        "colab": {
          "base_uri": "https://localhost:8080/"
        },
        "id": "TICJ3X1srcMX",
        "outputId": "3ce2971a-7770-45e8-a983-fe9f451506cb"
      },
      "execution_count": null,
      "outputs": [
        {
          "output_type": "stream",
          "name": "stdout",
          "text": [
            "11\n",
            "* * * * * * * * * * * \n",
            "* *               * * \n",
            "*   *           *   * \n",
            "*     *       *     * \n",
            "*       *   *       * \n",
            "*         *         * \n",
            "*       *   *       * \n",
            "*     *       *     * \n",
            "*   *           *   * \n",
            "* *               * * \n",
            "* * * * * * * * * * * \n"
          ]
        }
      ]
    },
    {
      "cell_type": "markdown",
      "source": [
        "1 2 3 4\n",
        "5 6 7 8\n",
        "9 10 11 12\n",
        "13 14 15 16"
      ],
      "metadata": {
        "id": "O3DtChPwcFag"
      }
    },
    {
      "cell_type": "code",
      "source": [
        "n=int(input())\n",
        "m=int(input())\n",
        "\n",
        "x=0\n",
        "for i in range(n):\n",
        "    for j in range(m):\n",
        "        x+=1\n",
        "        print(x,end=\"            \")\n",
        "    print(\"\\n\")"
      ],
      "metadata": {
        "colab": {
          "base_uri": "https://localhost:8080/"
        },
        "id": "D6alEDpJDrzq",
        "outputId": "a3e6a364-6fca-49af-ed83-d03fe42e018e"
      },
      "execution_count": null,
      "outputs": [
        {
          "output_type": "stream",
          "name": "stdout",
          "text": [
            "6\n",
            "7\n",
            "1            2            3            4            5            6            7            \n",
            "\n",
            "8            9            10            11            12            13            14            \n",
            "\n",
            "15            16            17            18            19            20            21            \n",
            "\n",
            "22            23            24            25            26            27            28            \n",
            "\n",
            "29            30            31            32            33            34            35            \n",
            "\n",
            "36            37            38            39            40            41            42            \n",
            "\n"
          ]
        }
      ]
    },
    {
      "cell_type": "markdown",
      "source": [
        "Write a pgm to read a string from user and implement the logic to remove the characters which are at the odd  numbers of the index"
      ],
      "metadata": {
        "id": "GP9CyPnvJUc9"
      }
    },
    {
      "cell_type": "code",
      "source": [
        "st=input(\"Enter the string: \")\n",
        "\n",
        "y=''\n",
        "for i in range(0,len(st),2):\n",
        "    y=y+st[i]\n",
        "\n",
        "print(y)"
      ],
      "metadata": {
        "colab": {
          "base_uri": "https://localhost:8080/"
        },
        "id": "p5KFXe_XJYKf",
        "outputId": "382c09b8-e508-4f33-b795-05b650e85486"
      },
      "execution_count": null,
      "outputs": [
        {
          "output_type": "stream",
          "name": "stdout",
          "text": [
            "Enter the string: bghjguy\n",
            "bhgy\n"
          ]
        }
      ]
    },
    {
      "cell_type": "markdown",
      "source": [
        "Write a pgm to swap 2 nos using a third variable"
      ],
      "metadata": {
        "id": "eTX9eOg6JZxx"
      }
    },
    {
      "cell_type": "code",
      "source": [
        "a=int(input())\n",
        "b=int(input())\n",
        "x=a\n",
        "a=b\n",
        "b=x\n",
        "\n",
        "print(a,b)"
      ],
      "metadata": {
        "id": "y3veBRMzMmAP"
      },
      "execution_count": null,
      "outputs": []
    },
    {
      "cell_type": "code",
      "source": [
        "a=int(input())\n",
        "b=int(input())\n",
        "\n",
        "a=a+b\n",
        "b=a-b\n",
        "a=a-b\n",
        "\n",
        "print(a,b)"
      ],
      "metadata": {
        "colab": {
          "base_uri": "https://localhost:8080/"
        },
        "id": "TSkySB6lO1xM",
        "outputId": "a8a8f582-d7ff-499b-ee09-872445872188"
      },
      "execution_count": null,
      "outputs": [
        {
          "output_type": "stream",
          "name": "stdout",
          "text": [
            "7\n",
            "10\n",
            "10 7\n"
          ]
        }
      ]
    },
    {
      "cell_type": "markdown",
      "source": [
        "## Collections"
      ],
      "metadata": {
        "id": "mLXZgD3RTCE9"
      }
    },
    {
      "cell_type": "code",
      "source": [
        "l1=[1,2,3,4,2,3,7]\n",
        "print(type(l1))\n",
        "print(type(l1[3]))\n",
        "print(len(l1))\n",
        "print(l1[0:5])\n",
        "print(l1[-3:])"
      ],
      "metadata": {
        "id": "psPWKybSPaQ9",
        "colab": {
          "base_uri": "https://localhost:8080/"
        },
        "outputId": "78a6c27d-46fa-4b17-e673-57f35ce3266f"
      },
      "execution_count": null,
      "outputs": [
        {
          "output_type": "stream",
          "name": "stdout",
          "text": [
            "<class 'list'>\n",
            "<class 'int'>\n",
            "7\n",
            "[1, 2, 3, 4, 2]\n",
            "[2, 3, 7]\n"
          ]
        }
      ]
    },
    {
      "cell_type": "code",
      "source": [
        "li=[\"cat\",\"dog\",\"pig\",\"duck\"]\n",
        "li[0:3]=[]\n",
        "print(li)\n",
        "\n",
        "li=[\"cat\",\"dog\",\"pig\",\"duck\"]\n",
        "li[0:3]=[\"camel\"]\n",
        "print(li)\n",
        "\n",
        "li=[\"cat\",\"dog\",\"pig\",\"duck\"]\n",
        "li[1:2]=[\"elephant\",\"monkey\",\"crow\",\"eagle\"]\n",
        "print(li)"
      ],
      "metadata": {
        "colab": {
          "base_uri": "https://localhost:8080/"
        },
        "id": "MjfHxR7aS5Fp",
        "outputId": "58f691ed-ec38-4fc7-ea8f-86da28d2a642"
      },
      "execution_count": null,
      "outputs": [
        {
          "output_type": "stream",
          "name": "stdout",
          "text": [
            "['duck']\n",
            "['camel', 'duck']\n",
            "['cat', 'elephant', 'monkey', 'crow', 'eagle', 'pig', 'duck']\n"
          ]
        }
      ]
    },
    {
      "cell_type": "markdown",
      "source": [
        "list - append, insert, extend"
      ],
      "metadata": {
        "id": "q23nueXPX5n-"
      }
    },
    {
      "cell_type": "code",
      "source": [
        "li=[\"cat\",\"dog\",\"pig\",\"duck\"]\n",
        "li.insert(2,\"camel\")\n",
        "print(li)\n",
        "\n",
        "lj=[\"cow\",\"parrot\"]\n",
        "li.extend(lj)\n",
        "print(li)"
      ],
      "metadata": {
        "colab": {
          "base_uri": "https://localhost:8080/"
        },
        "id": "6EIhuwwXVmF8",
        "outputId": "c8b4f615-49f6-4f53-ae81-5c9367afa49f"
      },
      "execution_count": null,
      "outputs": [
        {
          "output_type": "stream",
          "name": "stdout",
          "text": [
            "['cat', 'dog', 'camel', 'pig', 'duck']\n",
            "['cat', 'dog', 'camel', 'pig', 'duck', 'cow', 'parrot']\n"
          ]
        }
      ]
    },
    {
      "cell_type": "markdown",
      "source": [
        "list- remove, pop, clear, del"
      ],
      "metadata": {
        "id": "OLleUwsGZdOI"
      }
    },
    {
      "cell_type": "code",
      "source": [
        "li=[\"cat\",\"dog\",\"pig\",\"duck\"]\n",
        "li.remove(\"dog\")\n",
        "print(li)\n",
        "\n",
        "li=[\"cat\",\"dog\",\"pig\",\"duck\"]\n",
        "li.pop(2)\n",
        "print(li)\n",
        "\n",
        "li=[\"cat\",\"dog\",\"pig\",\"duck\"]\n",
        "li.clear()\n",
        "print(li)\n",
        "\n",
        "li=[\"cat\",\"dog\",\"pig\",\"duck\"]\n",
        "del(li[2])\n",
        "print(li)\n",
        "del(li)\n",
        "print(li)\n"
      ],
      "metadata": {
        "colab": {
          "base_uri": "https://localhost:8080/",
          "height": 245
        },
        "id": "39_DQ8kXZcnn",
        "outputId": "48c6cd04-823e-4930-c447-6ccdecaaaa55"
      },
      "execution_count": null,
      "outputs": [
        {
          "output_type": "stream",
          "name": "stdout",
          "text": [
            "['cat', 'pig', 'duck']\n",
            "['cat', 'dog', 'duck']\n",
            "[]\n",
            "['cat', 'dog', 'duck']\n"
          ]
        },
        {
          "output_type": "error",
          "ename": "NameError",
          "evalue": "name 'li' is not defined",
          "traceback": [
            "\u001b[0;31m---------------------------------------------------------------------------\u001b[0m",
            "\u001b[0;31mNameError\u001b[0m                                 Traceback (most recent call last)",
            "\u001b[0;32m<ipython-input-37-1734d44ca16c>\u001b[0m in \u001b[0;36m<cell line: 17>\u001b[0;34m()\u001b[0m\n\u001b[1;32m     15\u001b[0m \u001b[0mprint\u001b[0m\u001b[0;34m(\u001b[0m\u001b[0mli\u001b[0m\u001b[0;34m)\u001b[0m\u001b[0;34m\u001b[0m\u001b[0;34m\u001b[0m\u001b[0m\n\u001b[1;32m     16\u001b[0m \u001b[0;32mdel\u001b[0m\u001b[0;34m(\u001b[0m\u001b[0mli\u001b[0m\u001b[0;34m)\u001b[0m\u001b[0;34m\u001b[0m\u001b[0;34m\u001b[0m\u001b[0m\n\u001b[0;32m---> 17\u001b[0;31m \u001b[0mprint\u001b[0m\u001b[0;34m(\u001b[0m\u001b[0mli\u001b[0m\u001b[0;34m)\u001b[0m\u001b[0;34m\u001b[0m\u001b[0;34m\u001b[0m\u001b[0m\n\u001b[0m",
            "\u001b[0;31mNameError\u001b[0m: name 'li' is not defined"
          ]
        }
      ]
    },
    {
      "cell_type": "markdown",
      "source": [
        "in"
      ],
      "metadata": {
        "id": "q8mWF82MbmQS"
      }
    },
    {
      "cell_type": "code",
      "source": [
        "li=[\"cat\",\"dog\",\"pig\",\"duck\"]\n",
        "if \"pig\" in li:\n",
        "    print(\"Exists\")"
      ],
      "metadata": {
        "colab": {
          "base_uri": "https://localhost:8080/"
        },
        "id": "1gn4PRpfZ_66",
        "outputId": "d3a23fde-3c54-41f4-a96e-e07204b370bd"
      },
      "execution_count": null,
      "outputs": [
        {
          "output_type": "stream",
          "name": "stdout",
          "text": [
            "Exists\n"
          ]
        }
      ]
    },
    {
      "cell_type": "code",
      "source": [
        "l1=[\"apple\"]\n",
        "print(l1)"
      ],
      "metadata": {
        "colab": {
          "base_uri": "https://localhost:8080/"
        },
        "id": "tCbiQyeWa8dk",
        "outputId": "877c2471-ed98-4ff1-c262-557c32cfd62e"
      },
      "execution_count": null,
      "outputs": [
        {
          "output_type": "stream",
          "name": "stdout",
          "text": [
            "['apple']\n"
          ]
        }
      ]
    },
    {
      "cell_type": "code",
      "source": [
        "l1=[\"apple\",\"banana\",\"cherry\",\"mango\"]\n",
        "l2=[10,20,30,40]\n",
        "l3=[True, False]\n",
        "l4=list((\"Jack\"))\n",
        "\n",
        "l6=list([\"Jack\"])\n",
        "l5=list([\"Jack\",\"John\"])\n",
        "\n",
        "\n",
        "print(l4)\n",
        "print(l6)\n",
        "print(l5)\n",
        "print(l1[0])\n",
        "print(l1[0:4])\n",
        "print(l1[:4])\n",
        "print(l1[0:])\n",
        "print(l1[:])\n",
        "print(l1[-4:-1])\n",
        "\n",
        "print(l1[-1:-4])\n",
        "x=len(l1)\n",
        "print(x)\n",
        "print(type(l1))\n",
        "print(type(l1[0]))\n",
        "\n",
        "if \"apple\" in l1:\n",
        "    print(\"Exists\")\n",
        "\n",
        "l1[1]=\"Kiwi\"\n",
        "print(l1)\n",
        "l1[1:3]=[\"Pineapple\",\"Dates\",\"x\"]\n",
        "print(l1)\n",
        "\n"
      ],
      "metadata": {
        "colab": {
          "base_uri": "https://localhost:8080/"
        },
        "id": "IB21diK8eOSR",
        "outputId": "99c2a5ef-bbc6-4670-b584-aa02f2f67df3"
      },
      "execution_count": null,
      "outputs": [
        {
          "output_type": "stream",
          "name": "stdout",
          "text": [
            "['J', 'a', 'c', 'k']\n",
            "['Jack']\n",
            "['Jack', 'John']\n",
            "apple\n",
            "['apple', 'banana', 'cherry', 'mango']\n",
            "['apple', 'banana', 'cherry', 'mango']\n",
            "['apple', 'banana', 'cherry', 'mango']\n",
            "['apple', 'banana', 'cherry', 'mango']\n",
            "['apple', 'banana', 'cherry']\n",
            "[]\n",
            "4\n",
            "<class 'list'>\n",
            "<class 'str'>\n",
            "Exists\n",
            "['apple', 'Kiwi', 'cherry', 'mango']\n",
            "['apple', 'Pineapple', 'Dates', 'x', 'mango']\n"
          ]
        }
      ]
    },
    {
      "cell_type": "code",
      "source": [
        "\n",
        "lst=[\"apple\",\"banana\",\"cherry\"]\n",
        "lst[1:2]=[\"blackcurrant\",\"watermelon\"]\n",
        "print(lst)\n",
        "\n",
        "lst=[\"apple\",\"banana\",\"cherry\"]\n",
        "lst.insert(2,\"watermelon\")\n",
        "print(lst)"
      ],
      "metadata": {
        "id": "QDIwbZdnfYra",
        "colab": {
          "base_uri": "https://localhost:8080/"
        },
        "outputId": "9a6cea89-e479-439d-d3de-e913645f0306",
        "cellView": "code"
      },
      "execution_count": null,
      "outputs": [
        {
          "output_type": "stream",
          "name": "stdout",
          "text": [
            "['apple', 'blackcurrant', 'watermelon', 'cherry']\n",
            "['apple', 'banana', 'watermelon', 'cherry']\n"
          ]
        }
      ]
    },
    {
      "cell_type": "code",
      "source": [
        "for i in lst:\n",
        "    print(i)\n",
        "\n",
        "print(\"\\n\")\n",
        "for i in range(len(lst)):\n",
        "    print(lst[i])"
      ],
      "metadata": {
        "id": "FT_TQX8QkX57",
        "colab": {
          "base_uri": "https://localhost:8080/"
        },
        "outputId": "951ae7ce-0b33-4ebf-9153-b37e5313b002"
      },
      "execution_count": null,
      "outputs": [
        {
          "output_type": "stream",
          "name": "stdout",
          "text": [
            "apple\n",
            "banana\n",
            "watermelon\n",
            "cherry\n",
            "\n",
            "\n",
            "apple\n",
            "banana\n",
            "watermelon\n",
            "cherry\n"
          ]
        }
      ]
    },
    {
      "cell_type": "code",
      "source": [
        "i=0\n",
        "while i<len(lst):\n",
        "    print(lst[i])\n",
        "    i+=1"
      ],
      "metadata": {
        "colab": {
          "base_uri": "https://localhost:8080/"
        },
        "id": "kTEoZOKUukCE",
        "outputId": "3f030b7f-c038-4b3b-ff0d-81a786721bb8"
      },
      "execution_count": null,
      "outputs": [
        {
          "output_type": "stream",
          "name": "stdout",
          "text": [
            "apple\n",
            "banana\n",
            "watermelon\n",
            "cherry\n"
          ]
        }
      ]
    },
    {
      "cell_type": "markdown",
      "source": [
        "list comprehensioln\n",
        "\n",
        "\n",
        "\n",
        "```\n",
        "# [expression for item in iterable   ]\n",
        "```\n",
        "\n"
      ],
      "metadata": {
        "id": "5uqgb3zwvEXf"
      }
    },
    {
      "cell_type": "code",
      "source": [],
      "metadata": {
        "id": "CBRf_qgIwb6H"
      },
      "execution_count": null,
      "outputs": []
    },
    {
      "cell_type": "code",
      "source": [
        "[lst[i] for i in range(len(lst)) if lst[i]==\"apple\"]"
      ],
      "metadata": {
        "colab": {
          "base_uri": "https://localhost:8080/"
        },
        "id": "zsNJRwPkv5Eo",
        "outputId": "dcc5ef1d-13ff-4b79-eba5-1c45a8c170ed"
      },
      "execution_count": null,
      "outputs": [
        {
          "output_type": "execute_result",
          "data": {
            "text/plain": [
              "['apple']"
            ]
          },
          "metadata": {},
          "execution_count": 67
        }
      ]
    },
    {
      "cell_type": "code",
      "source": [
        "fruits=['apple','banana','kiwi','orange']\n",
        "newlst=[]\n",
        "\n",
        "for i in fruits:\n",
        "    if \"a\" in i:\n",
        "        newlst.append(i)\n",
        "print(newlst)"
      ],
      "metadata": {
        "colab": {
          "base_uri": "https://localhost:8080/"
        },
        "id": "hZMUjkNbwHY9",
        "outputId": "8d32cce9-8bf9-4f6a-e6af-30027c6eb859"
      },
      "execution_count": null,
      "outputs": [
        {
          "output_type": "stream",
          "name": "stdout",
          "text": [
            "['apple', 'banana', 'orange']\n"
          ]
        }
      ]
    },
    {
      "cell_type": "code",
      "source": [
        "newlst1= [x for x in fruits if \"a\" in x]\n",
        "print(newlst1)"
      ],
      "metadata": {
        "colab": {
          "base_uri": "https://localhost:8080/"
        },
        "id": "LREdiO3PxgiG",
        "outputId": "5ad96306-e482-4a76-8087-e39ecb8673a6"
      },
      "execution_count": null,
      "outputs": [
        {
          "output_type": "stream",
          "name": "stdout",
          "text": [
            "['apple', 'banana', 'orange']\n"
          ]
        }
      ]
    },
    {
      "cell_type": "markdown",
      "source": [
        "Sort list"
      ],
      "metadata": {
        "id": "OI90jKApx8Ko"
      }
    },
    {
      "cell_type": "code",
      "source": [
        "lst2=[\"orange\",\"mango\", \"banana\", \"kiwi\"]\n",
        "lst2.sort()\n",
        "print(lst2)"
      ],
      "metadata": {
        "colab": {
          "base_uri": "https://localhost:8080/"
        },
        "id": "7ECONYkvzIwV",
        "outputId": "c86867fe-4898-48ed-8468-0f832cf8f47d"
      },
      "execution_count": null,
      "outputs": [
        {
          "output_type": "stream",
          "name": "stdout",
          "text": [
            "['banana', 'kiwi', 'mango', 'orange']\n"
          ]
        }
      ]
    },
    {
      "cell_type": "markdown",
      "source": [
        "Customized Sort: Sorting based on how close the number is to 50"
      ],
      "metadata": {
        "id": "CSEjAUGn1NG6"
      }
    },
    {
      "cell_type": "code",
      "source": [
        "\n",
        "\n",
        "def fun(n):\n",
        "    return abs(n-50)\n",
        "\n",
        "lst3=[100,50,65,82,23]\n",
        "lst3.sort(key=fun)\n",
        "print(lst3)\n",
        "\n",
        "\n",
        "\n",
        "\n",
        "\n",
        "\n",
        "\n",
        "\n",
        "\n",
        "\n",
        "\n"
      ],
      "metadata": {
        "colab": {
          "base_uri": "https://localhost:8080/"
        },
        "id": "Qy8LF6guzWw-",
        "outputId": "5b953f5e-56c6-4923-d90e-ec1260c19c88"
      },
      "execution_count": null,
      "outputs": [
        {
          "output_type": "stream",
          "name": "stdout",
          "text": [
            "[50, 65, 23, 82, 100]\n"
          ]
        }
      ]
    },
    {
      "cell_type": "code",
      "source": [
        "\n",
        "lst3=[100,65,50,21,48]\n",
        "\n",
        "y = defaultdict(int)\n",
        "\n",
        "for i in lst3:\n",
        "    y[i]=abs(i-50)\n",
        "\n",
        "for key,value in y.items():\n",
        "    print(key,value)\n",
        "\n",
        "print(\"\\n\")\n",
        "\n",
        "\n",
        "sorted((value,key) for (key,value) in y.items())\n",
        "for key,value in y.items():\n",
        "    print(key,value)"
      ],
      "metadata": {
        "colab": {
          "base_uri": "https://localhost:8080/"
        },
        "id": "FQfO9r4G0XR6",
        "outputId": "23b76fa9-01e2-4b7a-a260-e50eff6801a4"
      },
      "execution_count": null,
      "outputs": [
        {
          "output_type": "stream",
          "name": "stdout",
          "text": [
            "100 50\n",
            "65 15\n",
            "50 0\n",
            "21 29\n",
            "48 2\n",
            "\n",
            "\n",
            "100 50\n",
            "65 15\n",
            "50 0\n",
            "21 29\n",
            "48 2\n"
          ]
        }
      ]
    },
    {
      "cell_type": "markdown",
      "source": [
        "write  a pgm to swap first and last eleeent of a list\n",
        "\n",
        "\n",
        "\n"
      ],
      "metadata": {
        "id": "1_IrS29z5Ipq"
      }
    },
    {
      "cell_type": "code",
      "source": [
        "lst3=[100,65,50,21,48]\n",
        "\n",
        "sum=0\n",
        "for i in lst3:\n",
        "    sum+=i\n",
        "\n",
        "print(sum,sum/len(lst3))"
      ],
      "metadata": {
        "colab": {
          "base_uri": "https://localhost:8080/"
        },
        "id": "-XxvQT-15E2A",
        "outputId": "9e780f38-fd3d-41f2-d7b7-7c3b69599ef0"
      },
      "execution_count": null,
      "outputs": [
        {
          "output_type": "stream",
          "name": "stdout",
          "text": [
            "284 56.8\n"
          ]
        }
      ]
    },
    {
      "cell_type": "markdown",
      "source": [
        "Write a pgm to print the first and last element in a list"
      ],
      "metadata": {
        "id": "wocmRBqA8ghX"
      }
    },
    {
      "cell_type": "code",
      "source": [
        "lst3=[100,65,50,21,48]\n",
        "\n",
        "print(lst3[0],lst3[len(lst3)-1])\n",
        "\n",
        "min=lst3[0]\n",
        "max=lst3[0]\n",
        "for i in lst3:\n",
        "    if min>i:\n",
        "        min=i\n",
        "    if max<i:\n",
        "        max=i\n",
        "\n",
        "print(min,max)"
      ],
      "metadata": {
        "colab": {
          "base_uri": "https://localhost:8080/"
        },
        "id": "vp6XXAXp-IL7",
        "outputId": "2152030e-8756-4125-8cd3-cb2b57d282d4"
      },
      "execution_count": null,
      "outputs": [
        {
          "output_type": "stream",
          "name": "stdout",
          "text": [
            "100 48\n",
            "21 100\n"
          ]
        }
      ]
    },
    {
      "cell_type": "markdown",
      "source": [
        "\n",
        "Count the number of occurences of a given item in the list\n"
      ],
      "metadata": {
        "id": "s3tJAjhe-QG6"
      }
    },
    {
      "cell_type": "code",
      "source": [
        "lst=[10,20,40,40,10,90,70,40]\n",
        "k=40\n",
        "count=0\n",
        "for i in lst:\n",
        "    if i==k:\n",
        "        count+=1\n",
        "print(count)"
      ],
      "metadata": {
        "id": "Gz_cmp7rS3SP"
      },
      "execution_count": null,
      "outputs": []
    },
    {
      "cell_type": "code",
      "source": [
        "lst=[10,20,40,40,10,90,70,40]\n",
        "k=40\n",
        "\n",
        "def count_occ(lst, x):\n",
        "    count=0\n",
        "    for i in lst:\n",
        "        if i==x:\n",
        "            count+=1\n",
        "\n",
        "    return count\n",
        "\n",
        "print(count_occ(lst,k))\n",
        "\n"
      ],
      "metadata": {
        "colab": {
          "base_uri": "https://localhost:8080/"
        },
        "id": "CeQg9-24TTkJ",
        "outputId": "3e5969d8-6eaa-470c-e59f-89e87cedcbfe"
      },
      "execution_count": null,
      "outputs": [
        {
          "output_type": "stream",
          "name": "stdout",
          "text": [
            "3\n"
          ]
        }
      ]
    },
    {
      "cell_type": "markdown",
      "source": [
        "Write a pgm to count the unique values in a list"
      ],
      "metadata": {
        "id": "aUcbscMFQ--z"
      }
    },
    {
      "cell_type": "code",
      "source": [
        "lst=[10,20,40,40,10,90,70,40]\n",
        "lst1=[]\n",
        "for i in lst:\n",
        "    if i not in lst1:\n",
        "        lst1.append(i)\n",
        "\n",
        "print(lst1)\n",
        "print(len(lst1))"
      ],
      "metadata": {
        "colab": {
          "base_uri": "https://localhost:8080/"
        },
        "id": "dV6ixCpKTxEM",
        "outputId": "7d87f50c-7b3c-44cb-fffd-d4fcc84d5b38"
      },
      "execution_count": null,
      "outputs": [
        {
          "output_type": "stream",
          "name": "stdout",
          "text": [
            "[10, 20, 40, 90, 70]\n",
            "5\n"
          ]
        }
      ]
    },
    {
      "cell_type": "code",
      "source": [
        "lst=[10,20,40,40,10,90,70,40]\n",
        "st=set(lst)\n",
        "print(st)\n",
        "print(len(st))"
      ],
      "metadata": {
        "colab": {
          "base_uri": "https://localhost:8080/"
        },
        "id": "jPhS30ojr8Ue",
        "outputId": "3bdfc69d-e81f-479a-fd86-c03ad3fa877f"
      },
      "execution_count": null,
      "outputs": [
        {
          "output_type": "stream",
          "name": "stdout",
          "text": [
            "{70, 40, 10, 20, 90}\n",
            "5\n"
          ]
        }
      ]
    },
    {
      "cell_type": "markdown",
      "source": [
        "Find out the duplicate removal list product using list comprehension"
      ],
      "metadata": {
        "id": "AslwuAKERHhu"
      }
    },
    {
      "cell_type": "code",
      "source": [
        "lst=[10,20,40,40,10,90,70,40]\n",
        "lst1=[]\n",
        "for i in lst:\n",
        "    if i not in lst1:\n",
        "        lst1.append(i)\n",
        "\n",
        "prd=1\n",
        "for i in lst1:\n",
        "    prd*=i\n",
        "\n",
        "print(lst1)\n",
        "print(prd)"
      ],
      "metadata": {
        "colab": {
          "base_uri": "https://localhost:8080/"
        },
        "id": "xPvpiFbZabsg",
        "outputId": "1da79a62-d01b-40cf-ec1c-b82999e5d92d"
      },
      "execution_count": null,
      "outputs": [
        {
          "output_type": "stream",
          "name": "stdout",
          "text": [
            "[10, 20, 40, 90, 70]\n",
            "50400000\n"
          ]
        }
      ]
    },
    {
      "cell_type": "markdown",
      "source": [
        "Write a pgm to extract elements with a frequency greater than k"
      ],
      "metadata": {
        "id": "T_Y3h1w1RbNx"
      }
    },
    {
      "cell_type": "code",
      "source": [
        "lst=[10,20,40,40,10,90,70,40]\n",
        "lst1=[]\n",
        "k=1\n",
        "\n",
        "from collections import defaultdict\n",
        "m=defaultdict(int)\n",
        "\n",
        "for i in lst:\n",
        "    m[i]+=1\n",
        "\n",
        "print(m.items())\n",
        "for key,value in m.items():\n",
        "    if value>k:\n",
        "        lst1.append(key)\n",
        "\n",
        "print(lst1)"
      ],
      "metadata": {
        "colab": {
          "base_uri": "https://localhost:8080/"
        },
        "id": "yY-1atBTUIP6",
        "outputId": "2f2d5d4b-28bc-4030-c3e7-d49c0bac1789"
      },
      "execution_count": null,
      "outputs": [
        {
          "output_type": "stream",
          "name": "stdout",
          "text": [
            "dict_items([(10, 2), (20, 1), (40, 3), (90, 1), (70, 1)])\n",
            "[10, 40]\n"
          ]
        }
      ]
    },
    {
      "cell_type": "markdown",
      "source": [
        "Write a pgm to test if a list contains elements in a range"
      ],
      "metadata": {
        "id": "2_6g1jvgRjMG"
      }
    },
    {
      "cell_type": "code",
      "source": [
        "lst=[10,20,40,40,10,90,70,40]\n",
        "beg=30\n",
        "end=120\n",
        "\n",
        "for i in lst:\n",
        "    if i<30 or i>120:\n",
        "        print(\"List does not contain elements in the given range\")\n",
        "        break\n"
      ],
      "metadata": {
        "colab": {
          "base_uri": "https://localhost:8080/"
        },
        "id": "Tm73fvj8VR1f",
        "outputId": "74ab5f35-842d-4ca3-e8b0-789f8c6d2a45"
      },
      "execution_count": null,
      "outputs": [
        {
          "output_type": "stream",
          "name": "stdout",
          "text": [
            "List does not contain elements in the given range\n"
          ]
        }
      ]
    },
    {
      "cell_type": "markdown",
      "source": [
        "Write a pgm to demonstrate list intersection and union"
      ],
      "metadata": {
        "id": "zP7Lw2fYRvM8"
      }
    },
    {
      "cell_type": "code",
      "source": [
        "lst1=[10,20,40,40,10,90,70,40]\n",
        "lst2=[10,30,15,75,60,20,40]\n",
        "\n",
        "lst3=lst1+lst2\n",
        "lst4=lst\n",
        "print(lst3)"
      ],
      "metadata": {
        "colab": {
          "base_uri": "https://localhost:8080/"
        },
        "id": "iM7Ee9CmV4W7",
        "outputId": "361dbb35-ea68-4480-ceda-586c3bb9acf0"
      },
      "execution_count": null,
      "outputs": [
        {
          "output_type": "stream",
          "name": "stdout",
          "text": [
            "[10, 20, 40, 40, 10, 90, 70, 40, 10, 30, 15, 75, 60, 20, 40]\n"
          ]
        }
      ]
    },
    {
      "cell_type": "markdown",
      "source": [
        "Write a pgm to merge two sorted lists into a single sorted list"
      ],
      "metadata": {
        "id": "5MKxoznhR1CT"
      }
    },
    {
      "cell_type": "code",
      "source": [
        "lst1=[10,20,40,40,10,90,70,40]\n",
        "lst2=[10,30,15,75,60,20,40]\n",
        "\n",
        "lst1.sort()\n",
        "lst2.sort()\n",
        "\n",
        "lst3=lst1+lst2\n",
        "\n",
        "lst3.sort()\n",
        "print(lst3)"
      ],
      "metadata": {
        "colab": {
          "base_uri": "https://localhost:8080/"
        },
        "id": "898vOwT2WZyk",
        "outputId": "7ab538b9-5c54-478d-d478-e3c514dcea9e"
      },
      "execution_count": null,
      "outputs": [
        {
          "output_type": "stream",
          "name": "stdout",
          "text": [
            "[10, 10, 10, 15, 20, 20, 30, 40, 40, 40, 40, 60, 70, 75, 90]\n"
          ]
        }
      ]
    },
    {
      "cell_type": "markdown",
      "source": [
        "Find the largest subarray sum of a given list"
      ],
      "metadata": {
        "id": "vg-4O9b-R9kC"
      }
    },
    {
      "cell_type": "code",
      "source": [
        "lst1=[10,20,-40,40,10,-90,-70,40]\n",
        "sum=0\n",
        "for i in lst1:\n",
        "    if i<0:\n",
        "        continue\n",
        "    sum+=i\n",
        "\n",
        "print(sum)\n"
      ],
      "metadata": {
        "colab": {
          "base_uri": "https://localhost:8080/"
        },
        "collapsed": true,
        "id": "-z_G8e7UWpjX",
        "outputId": "11124394-ffae-4d01-ae6f-cf09069f7ca6"
      },
      "execution_count": null,
      "outputs": [
        {
          "output_type": "stream",
          "name": "stdout",
          "text": [
            "120\n"
          ]
        }
      ]
    },
    {
      "cell_type": "code",
      "source": [
        "lst=[10,20,-40,40,10,-90,-70,40,10,20,50,-70,80]\n",
        "sum=0\n",
        "lst1=[]\n",
        "lst2=[]\n",
        "lst3=[]\n",
        "for i in range(len(lst)):\n",
        "\n",
        "    if lst[i]<0 or i==len(lst)-1:\n",
        "        lst3.append(lst2)\n",
        "        lst1.append(sum)\n",
        "        lst2=[]\n",
        "        sum=0\n",
        "        continue\n",
        "\n",
        "    lst2.append(lst[i])\n",
        "    sum+=lst[i]\n",
        "\n",
        "print(lst1)\n",
        "print(lst3)\n",
        "print(max(lst3))\n",
        "print(max(lst1))\n",
        "\n",
        "\n"
      ],
      "metadata": {
        "colab": {
          "base_uri": "https://localhost:8080/"
        },
        "id": "9c2Z1kOMrli2",
        "outputId": "06dd38c7-fa3f-4a6b-e5b3-3396e597cca2"
      },
      "execution_count": null,
      "outputs": [
        {
          "output_type": "stream",
          "name": "stdout",
          "text": [
            "[30, 50, 0, 120, 0]\n",
            "[[10, 20], [40, 10], [], [40, 10, 20, 50], []]\n",
            "[40, 10, 20, 50]\n",
            "120\n"
          ]
        }
      ]
    },
    {
      "cell_type": "code",
      "source": [
        "lst=[10,20,-40,40,10,-90,-70,40,10,20,50,-70,80]\n",
        "sum=0\n",
        "lst1=[]\n",
        "lst2=[]\n",
        "lst3=[]\n",
        "for i in range(len(lst)-1):\n",
        "    lst1=[]\n",
        "    lst1.append(lst[i])\n",
        "    for j in range(i+1,len(lst)):\n",
        "        lst1.append(lst[j])\n",
        "\n",
        "        for k in range(len(lst)-1,j,-1):\n",
        "            lst1.append(lst[k])\n",
        "\n",
        "    lst2.append(lst1)\n",
        "\n",
        "print(lst2,\"\\n\")\n",
        "print(max(lst2))"
      ],
      "metadata": {
        "colab": {
          "base_uri": "https://localhost:8080/"
        },
        "id": "Izbah_Q9wAbq",
        "outputId": "224ada78-7dfb-40b6-d8f4-268fd18576a4"
      },
      "execution_count": null,
      "outputs": [
        {
          "output_type": "stream",
          "name": "stdout",
          "text": [
            "[[10, 20, 80, -70, 50, 20, 10, 40, -70, -90, 10, 40, -40, -40, 80, -70, 50, 20, 10, 40, -70, -90, 10, 40, 40, 80, -70, 50, 20, 10, 40, -70, -90, 10, 10, 80, -70, 50, 20, 10, 40, -70, -90, -90, 80, -70, 50, 20, 10, 40, -70, -70, 80, -70, 50, 20, 10, 40, 40, 80, -70, 50, 20, 10, 10, 80, -70, 50, 20, 20, 80, -70, 50, 50, 80, -70, -70, 80, 80], [20, -40, 80, -70, 50, 20, 10, 40, -70, -90, 10, 40, 40, 80, -70, 50, 20, 10, 40, -70, -90, 10, 10, 80, -70, 50, 20, 10, 40, -70, -90, -90, 80, -70, 50, 20, 10, 40, -70, -70, 80, -70, 50, 20, 10, 40, 40, 80, -70, 50, 20, 10, 10, 80, -70, 50, 20, 20, 80, -70, 50, 50, 80, -70, -70, 80, 80], [-40, 40, 80, -70, 50, 20, 10, 40, -70, -90, 10, 10, 80, -70, 50, 20, 10, 40, -70, -90, -90, 80, -70, 50, 20, 10, 40, -70, -70, 80, -70, 50, 20, 10, 40, 40, 80, -70, 50, 20, 10, 10, 80, -70, 50, 20, 20, 80, -70, 50, 50, 80, -70, -70, 80, 80], [40, 10, 80, -70, 50, 20, 10, 40, -70, -90, -90, 80, -70, 50, 20, 10, 40, -70, -70, 80, -70, 50, 20, 10, 40, 40, 80, -70, 50, 20, 10, 10, 80, -70, 50, 20, 20, 80, -70, 50, 50, 80, -70, -70, 80, 80], [10, -90, 80, -70, 50, 20, 10, 40, -70, -70, 80, -70, 50, 20, 10, 40, 40, 80, -70, 50, 20, 10, 10, 80, -70, 50, 20, 20, 80, -70, 50, 50, 80, -70, -70, 80, 80], [-90, -70, 80, -70, 50, 20, 10, 40, 40, 80, -70, 50, 20, 10, 10, 80, -70, 50, 20, 20, 80, -70, 50, 50, 80, -70, -70, 80, 80], [-70, 40, 80, -70, 50, 20, 10, 10, 80, -70, 50, 20, 20, 80, -70, 50, 50, 80, -70, -70, 80, 80], [40, 10, 80, -70, 50, 20, 20, 80, -70, 50, 50, 80, -70, -70, 80, 80], [10, 20, 80, -70, 50, 50, 80, -70, -70, 80, 80], [20, 50, 80, -70, -70, 80, 80], [50, -70, 80, 80], [-70, 80]] \n",
            "\n",
            "[50, -70, 80, 80]\n"
          ]
        }
      ]
    },
    {
      "cell_type": "markdown",
      "source": [
        "Write a pgm to partition a list around a given value such that all elements less than the given value come before it and all elements greater than the given value come after it"
      ],
      "metadata": {
        "id": "rmPPumStSEdH"
      }
    },
    {
      "cell_type": "code",
      "source": [
        "lst1=[10,20,40,40,10,90,70,40]\n",
        "k=45\n",
        "lst3=[]\n",
        "lst3.append(k)\n",
        "\n",
        "\n",
        "for i in lst1:\n",
        "    if i<k:\n",
        "        lst3=[i]+lst3\n",
        "    else:\n",
        "        lst3.append(i)\n",
        "\n",
        "print(lst3)"
      ],
      "metadata": {
        "colab": {
          "base_uri": "https://localhost:8080/"
        },
        "id": "q5oE2_xCXYN_",
        "outputId": "dfbec1e9-e66c-412f-8152-05839e4fd4f7"
      },
      "execution_count": null,
      "outputs": [
        {
          "output_type": "stream",
          "name": "stdout",
          "text": [
            "[40, 10, 40, 40, 20, 10, 45, 90, 70]\n"
          ]
        }
      ]
    },
    {
      "cell_type": "markdown",
      "source": [
        "Find the peak element in a list of integers. Peak element is an element that is greater than or equal to its neighbours"
      ],
      "metadata": {
        "id": "XQUL63XvSW3o"
      }
    },
    {
      "cell_type": "code",
      "source": [
        "lst=[20,10,20,40,40,10,90,70,40,60]\n",
        "lst1=[]\n",
        "if lst[0]>=lst[1]:\n",
        "    lst1.append(lst[0])\n",
        "if lst[len(lst)-1]>=lst[len(lst)-2]:\n",
        "    lst1.append(lst[len(lst)-1])\n",
        "\n",
        "for i in range(1,len(lst)-1):\n",
        "    if lst[i]>=lst[i-1] and lst[i]>=lst[i+1]:\n",
        "        lst1.append(lst[i])\n",
        "\n",
        "print(lst1)"
      ],
      "metadata": {
        "colab": {
          "base_uri": "https://localhost:8080/"
        },
        "id": "epasbfr2Yb1X",
        "outputId": "7f74e5a9-f9f9-4f9d-9536-96649e337457"
      },
      "execution_count": null,
      "outputs": [
        {
          "output_type": "stream",
          "name": "stdout",
          "text": [
            "[20, 60, 40, 40, 90]\n"
          ]
        }
      ]
    },
    {
      "cell_type": "code",
      "source": [],
      "metadata": {
        "id": "THjBnCJwZ2ci"
      },
      "execution_count": null,
      "outputs": []
    }
  ]
}