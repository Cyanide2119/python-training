{
  "nbformat": 4,
  "nbformat_minor": 0,
  "metadata": {
    "colab": {
      "provenance": [],
      "authorship_tag": "ABX9TyMDgaCf0pFw/40s6x+XQq/Z",
      "include_colab_link": true
    },
    "kernelspec": {
      "name": "python3",
      "display_name": "Python 3"
    },
    "language_info": {
      "name": "python"
    }
  },
  "cells": [
    {
      "cell_type": "markdown",
      "metadata": {
        "id": "view-in-github",
        "colab_type": "text"
      },
      "source": [
        "<a href=\"https://colab.research.google.com/github/Cyanide2119/python-training/blob/main/Python7a.ipynb\" target=\"_parent\"><img src=\"https://colab.research.google.com/assets/colab-badge.svg\" alt=\"Open In Colab\"/></a>"
      ]
    },
    {
      "cell_type": "markdown",
      "source": [
        "# Sorting algorithms"
      ],
      "metadata": {
        "id": "TXciiRNZWKcn"
      }
    },
    {
      "cell_type": "markdown",
      "source": [
        "## Selection sort"
      ],
      "metadata": {
        "id": "oq8ewRnq44kp"
      }
    },
    {
      "cell_type": "code",
      "source": [
        "def selection_sort(arr):\n",
        "    n=len(arr)\n",
        "    for i in range(0,n):\n",
        "        min_idx=i\n",
        "        for j in range(i+1,n):\n",
        "            if arr[j]<arr[min_idx]:\n",
        "                min_idx=j\n",
        "        arr[i],arr[min_idx]=arr[min_idx],arr[i]\n",
        "\n",
        "arr=[64,25,12,22,11]\n",
        "selection_sort(arr)\n",
        "print(arr)"
      ],
      "metadata": {
        "colab": {
          "base_uri": "https://localhost:8080/"
        },
        "id": "hRa6rMsZWTIU",
        "outputId": "1aebe797-4c42-42b7-d93c-928eab63200e"
      },
      "execution_count": null,
      "outputs": [
        {
          "output_type": "stream",
          "name": "stdout",
          "text": [
            "[11, 12, 22, 25, 64]\n"
          ]
        }
      ]
    },
    {
      "cell_type": "markdown",
      "source": [
        "Selection sort repeatedly finds the minimum element from the unsorted part and then swaps with first unsorted element(O(n^2))"
      ],
      "metadata": {
        "id": "JWdN4YNSaNr2"
      }
    },
    {
      "cell_type": "markdown",
      "source": [
        "## Insertion sort"
      ],
      "metadata": {
        "id": "-Jj_W8bq40Q-"
      }
    },
    {
      "cell_type": "code",
      "source": [
        "#insertion sort\n",
        "def insertionsort(arr):\n",
        "    for i in range(1,len(arr)):\n",
        "        key=arr[i]\n",
        "        j=i-1\n",
        "        while j>=0 and key<arr[j]:\n",
        "            arr[j+1]=arr[j]\n",
        "            j-=1\n",
        "        arr[j+1]=key\n",
        "arr=[12,11,13,5,6]\n",
        "insertionsort(arr)\n",
        "print(arr)"
      ],
      "metadata": {
        "colab": {
          "base_uri": "https://localhost:8080/"
        },
        "id": "Fgx7dWL1hIRT",
        "outputId": "1cff0601-3030-4946-bf3b-49782d26d241"
      },
      "execution_count": null,
      "outputs": [
        {
          "output_type": "stream",
          "name": "stdout",
          "text": [
            "[5, 6, 11, 12, 13]\n"
          ]
        }
      ]
    },
    {
      "cell_type": "markdown",
      "source": [
        "## Merge Sort\n"
      ],
      "metadata": {
        "id": "ng-01SPQhkIJ"
      }
    },
    {
      "cell_type": "code",
      "source": [
        "def mergesort(arr):\n",
        "    if len(arr)>1:\n",
        "        mid=len(arr)//2\n",
        "        sub_array1=arr[: mid]\n",
        "        sub_array2=arr[mid :]\n",
        "\n",
        "        mergesort(sub_array1)\n",
        "        mergesort(sub_array2)\n",
        "\n",
        "        i=j=k=0\n",
        "\n",
        "        while i<len(sub_array1) and j<len(sub_array2):\n",
        "            if sub_array1[i]<sub_array2[j]:\n",
        "                arr[k]=sub_array1[i]\n",
        "                i+=1\n",
        "\n",
        "            else:\n",
        "                arr[k]=sub_array2[j]\n",
        "                j+=1\n",
        "\n",
        "            k+=1\n",
        "\n",
        "        while i<len(sub_array1):\n",
        "            arr[k]=sub_array1[i]\n",
        "            i+=1\n",
        "            k+=1\n",
        "\n",
        "        while j<len(sub_array2):\n",
        "            arr[k]=sub_array2[j]\n",
        "            j+=1\n",
        "            k+=1\n",
        "\n",
        "\n",
        "arr=[11,3,8,4,98,31,45,21,67,23,33,62]\n",
        "mergesort(arr)\n",
        "print(arr)"
      ],
      "metadata": {
        "colab": {
          "base_uri": "https://localhost:8080/"
        },
        "id": "H7RoSruI4uDP",
        "outputId": "24501f2a-8bda-47e2-80f6-45d30c2f27b7"
      },
      "execution_count": null,
      "outputs": [
        {
          "output_type": "stream",
          "name": "stdout",
          "text": [
            "[3, 4, 8, 11, 21, 23, 31, 33, 45, 62, 67, 98]\n"
          ]
        }
      ]
    },
    {
      "cell_type": "markdown",
      "source": [
        "## Quicksort"
      ],
      "metadata": {
        "id": "7mbaAEiBWAqi"
      }
    },
    {
      "cell_type": "code",
      "source": [
        "def quicksort(arr):\n",
        "    if len(arr)<=1:\n",
        "        return arr\n",
        "    pivot=arr[len(arr)//2]\n",
        "    left=[x for x in arr if x<pivot]\n",
        "    middle=[x for x in arr if x==pivot]\n",
        "    right=[x for x in arr if x>pivot]\n",
        "\n",
        "    return quicksort(left)+middle+quicksort(right)\n",
        "\n",
        "arr=[13,56,11,9,45,21,34,39]\n",
        "\n",
        "sorted_arr=quicksort(arr)\n",
        "print(sorted_arr)"
      ],
      "metadata": {
        "colab": {
          "base_uri": "https://localhost:8080/"
        },
        "id": "merOl57zA5Ss",
        "outputId": "b1680dec-2dd7-43b2-ed84-d7fe3ae5aeea"
      },
      "execution_count": null,
      "outputs": [
        {
          "output_type": "stream",
          "name": "stdout",
          "text": [
            "[9, 11, 13, 21, 34, 39, 45, 56]\n"
          ]
        }
      ]
    },
    {
      "cell_type": "markdown",
      "source": [
        "## Error Handling"
      ],
      "metadata": {
        "id": "aYmDgUrkWFTg"
      }
    },
    {
      "cell_type": "code",
      "source": [
        "'''\n",
        "\n",
        "try:\n",
        "    #Code that may raise an exception\n",
        "    #...\n",
        "\n",
        "\n",
        "except ExceptionType1:\n",
        "    #Exception handling code for ExceptionType\n",
        "\n"
      ],
      "metadata": {
        "id": "byn4izSUKu_X"
      },
      "execution_count": null,
      "outputs": []
    },
    {
      "cell_type": "code",
      "source": [
        "try:\n",
        "    num1=int(input(\"Enter the first number: \"))\n",
        "    num2=int(input(\"Enter the second number: \"))\n",
        "    result=num1/num2\n",
        "    print(\"Result:\",result)\n",
        "\n",
        "except ValueError:\n",
        "    print(\"Invalid input. Please enter numeric values\")\n",
        "\n",
        "except ZeroDivisionError:\n",
        "    print(\"Error: Cannot divide by zero\")\n",
        "\n",
        "else:\n",
        "    print(\"No exception occurred\")\n",
        "\n",
        "finally:\n",
        "    print(\"End of program\")"
      ],
      "metadata": {
        "colab": {
          "base_uri": "https://localhost:8080/"
        },
        "id": "Pp7FUMlmU6a5",
        "outputId": "131d3214-b3fb-4df2-fa85-30405a3e16e0"
      },
      "execution_count": null,
      "outputs": [
        {
          "output_type": "stream",
          "name": "stdout",
          "text": [
            "Enter the first number: 6\n",
            "Enter the second number: 0\n",
            "Error: Cannot divide by zero\n",
            "End of program\n"
          ]
        }
      ]
    },
    {
      "cell_type": "code",
      "source": [
        "def convert_to_integer(string):\n",
        "    try:\n",
        "        number=int(string)\n",
        "        print(\"Integer value:\",number)\n",
        "    except ValueError:\n",
        "        print(\"Error: Invalid integer format\")\n",
        "\n",
        "def main():\n",
        "    string=input(\"Enter a string to convert to integer:\")\n",
        "    convert_to_integer(string)\n",
        "\n",
        "\n",
        "if __name__==\"__main__\":\n",
        "    main()\n"
      ],
      "metadata": {
        "colab": {
          "base_uri": "https://localhost:8080/"
        },
        "id": "IH8Y0CEJVzXG",
        "outputId": "05aac6c4-c9e4-48ac-fc58-d25a7f8ed373"
      },
      "execution_count": null,
      "outputs": [
        {
          "output_type": "stream",
          "name": "stdout",
          "text": [
            "Enter a string to convert to integer:jgjnsalg sr\n",
            "Error: Invalid integer format\n"
          ]
        }
      ]
    },
    {
      "cell_type": "code",
      "source": [
        "def get_positive_integer():\n",
        "    while True:\n",
        "        try:\n",
        "            number=int(input(\"Enter a positive integer: \"))\n",
        "            if number<=0:\n",
        "                raise ValueError(\"Not a positive integer\")\n",
        "            return number\n",
        "        except ValueError as e:\n",
        "            print(\"Error:\",e)\n",
        "\n",
        "positive_integer=get_positive_integer()\n",
        "print(\"You entered:\",positive_integer)"
      ],
      "metadata": {
        "id": "AqL-JeBLW93K",
        "colab": {
          "base_uri": "https://localhost:8080/"
        },
        "outputId": "34dea68d-24b5-4ebd-8de4-62f5728eaff5"
      },
      "execution_count": 9,
      "outputs": [
        {
          "output_type": "stream",
          "name": "stdout",
          "text": [
            "Entere a positive integer: -9\n",
            "Error: Not a positive integer\n",
            "Entere a positive integer: -0\n",
            "Error: Not a positive integer\n",
            "Entere a positive integer: 5\n",
            "You entered: 5\n"
          ]
        }
      ]
    },
    {
      "cell_type": "code",
      "source": [
        "class MyCustomError(Exception):\n",
        "    def __init__(self,message):\n",
        "        self.message=message\n",
        "\n",
        "try:\n",
        "    raise MyCustomError(\"This is a custom error message\")\n",
        "\n",
        "except MyCustomError as e:\n",
        "    print(\"Custom error caught:\",e.message)\n",
        ""
      ],
      "metadata": {
        "colab": {
          "base_uri": "https://localhost:8080/"
        },
        "id": "huIjHwpM_vr9",
        "outputId": "2e0d6ac8-b9a7-49c0-90f9-d0905040de30"
      },
      "execution_count": 5,
      "outputs": [
        {
          "output_type": "stream",
          "name": "stdout",
          "text": [
            "Custom error caught: This is a custom error message\n"
          ]
        }
      ]
    },
    {
      "cell_type": "code",
      "source": [
        "def access_list_element(lst, index):\n",
        "    try:\n",
        "        value=lst[index]\n",
        "        print(\"Value at index\", index,\"is:\",value)\n",
        "\n",
        "    except IndexError:\n",
        "        print(\"Error: Index out of range!\")\n",
        "\n",
        "my_list=[1,2,3,4,5]\n",
        "index=int(input(\"Enter an index to access: \"))\n",
        "access_list_element(my_list,index)"
      ],
      "metadata": {
        "colab": {
          "base_uri": "https://localhost:8080/"
        },
        "id": "0S0FG48mA2VB",
        "outputId": "b598f2c8-2526-48fe-8994-71efdf77430b"
      },
      "execution_count": 7,
      "outputs": [
        {
          "output_type": "stream",
          "name": "stdout",
          "text": [
            "Enter an index to access: 7\n",
            "Error: Index out of range!\n"
          ]
        }
      ]
    },
    {
      "cell_type": "code",
      "source": [
        "try:\n",
        "    file=open(\"nonexistentfile.txt\",\"r\")\n",
        "    content=file.read()\n",
        "    file.close()\n",
        "\n",
        "except FileNotFoundError:\n",
        "    print(\"File not found!\")\n"
      ],
      "metadata": {
        "colab": {
          "base_uri": "https://localhost:8080/"
        },
        "id": "u-IWUCUQCrJS",
        "outputId": "11ae23b9-4bc5-410f-81c4-1bc3233bcb89"
      },
      "execution_count": 11,
      "outputs": [
        {
          "output_type": "stream",
          "name": "stdout",
          "text": [
            "File not found!\n"
          ]
        }
      ]
    },
    {
      "cell_type": "code",
      "source": [
        "#key error\n",
        "def access_dictionary_value(dictionary,key):\n",
        "    try:\n",
        "        value=dictionary[key]\n",
        "        print(\"Value for key\",key,\"is:\",value)\n",
        "\n",
        "    except KeyError:\n",
        "        print(\"Error: Key not found!\")\n",
        "\n",
        "my_dict={'a':1,'b':2,'c':3}\n",
        "key=input(\"Enter a key to access:\")\n",
        "access_dictionary_value(my_dict,key)"
      ],
      "metadata": {
        "colab": {
          "base_uri": "https://localhost:8080/"
        },
        "id": "QzR19lJGDrEE",
        "outputId": "23bc411c-1941-4440-96b8-0d85bb9f1051"
      },
      "execution_count": 13,
      "outputs": [
        {
          "output_type": "stream",
          "name": "stdout",
          "text": [
            "Enter a key to access:d\n",
            "Error: Key not found!\n"
          ]
        }
      ]
    },
    {
      "cell_type": "code",
      "source": [],
      "metadata": {
        "id": "kTO2sPchEuhZ"
      },
      "execution_count": null,
      "outputs": []
    }
  ]
}