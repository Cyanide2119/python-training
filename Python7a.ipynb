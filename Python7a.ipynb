{
  "nbformat": 4,
  "nbformat_minor": 0,
  "metadata": {
    "colab": {
      "provenance": [],
      "authorship_tag": "ABX9TyNPiLwvIjCEK26o0ytSooJ5",
      "include_colab_link": true
    },
    "kernelspec": {
      "name": "python3",
      "display_name": "Python 3"
    },
    "language_info": {
      "name": "python"
    }
  },
  "cells": [
    {
      "cell_type": "markdown",
      "metadata": {
        "id": "view-in-github",
        "colab_type": "text"
      },
      "source": [
        "<a href=\"https://colab.research.google.com/github/Cyanide2119/python-training/blob/main/Python7a.ipynb\" target=\"_parent\"><img src=\"https://colab.research.google.com/assets/colab-badge.svg\" alt=\"Open In Colab\"/></a>"
      ]
    },
    {
      "cell_type": "markdown",
      "source": [
        "# Sorting algorithms"
      ],
      "metadata": {
        "id": "TXciiRNZWKcn"
      }
    },
    {
      "cell_type": "markdown",
      "source": [
        "## Selection sort"
      ],
      "metadata": {
        "id": "oq8ewRnq44kp"
      }
    },
    {
      "cell_type": "code",
      "source": [
        "def selection_sort(arr):\n",
        "    n=len(arr)\n",
        "    for i in range(0,n):\n",
        "        min_idx=i\n",
        "        for j in range(i+1,n):\n",
        "            if arr[j]<arr[min_idx]:\n",
        "                min_idx=j\n",
        "        arr[i],arr[min_idx]=arr[min_idx],arr[i]\n",
        "\n",
        "arr=[64,25,12,22,11]\n",
        "selection_sort(arr)\n",
        "print(arr)"
      ],
      "metadata": {
        "colab": {
          "base_uri": "https://localhost:8080/"
        },
        "id": "hRa6rMsZWTIU",
        "outputId": "1aebe797-4c42-42b7-d93c-928eab63200e"
      },
      "execution_count": null,
      "outputs": [
        {
          "output_type": "stream",
          "name": "stdout",
          "text": [
            "[11, 12, 22, 25, 64]\n"
          ]
        }
      ]
    },
    {
      "cell_type": "markdown",
      "source": [
        "Selection sort repeatedly finds the minimum element from the unsorted part and then swaps with first unsorted element(O(n^2))"
      ],
      "metadata": {
        "id": "JWdN4YNSaNr2"
      }
    },
    {
      "cell_type": "markdown",
      "source": [
        "## Insertion sort"
      ],
      "metadata": {
        "id": "-Jj_W8bq40Q-"
      }
    },
    {
      "cell_type": "code",
      "source": [
        "#insertion sort\n",
        "def insertionsort(arr):\n",
        "    for i in range(1,len(arr)):\n",
        "        key=arr[i]\n",
        "        j=i-1\n",
        "        while j>=0 and key<arr[j]:\n",
        "            arr[j+1]=arr[j]\n",
        "            j-=1\n",
        "        arr[j+1]=key\n",
        "arr=[12,11,13,5,6]\n",
        "insertionsort(arr)\n",
        "print(arr)"
      ],
      "metadata": {
        "colab": {
          "base_uri": "https://localhost:8080/"
        },
        "id": "Fgx7dWL1hIRT",
        "outputId": "1cff0601-3030-4946-bf3b-49782d26d241"
      },
      "execution_count": null,
      "outputs": [
        {
          "output_type": "stream",
          "name": "stdout",
          "text": [
            "[5, 6, 11, 12, 13]\n"
          ]
        }
      ]
    },
    {
      "cell_type": "markdown",
      "source": [
        "## Merge Sort\n"
      ],
      "metadata": {
        "id": "ng-01SPQhkIJ"
      }
    },
    {
      "cell_type": "code",
      "source": [
        "def mergesort(arr):\n",
        "    if len(arr)>1:\n",
        "        mid=len(arr)//2\n",
        "        sub_array1=arr[: mid]\n",
        "        sub_array2=arr[mid :]\n",
        "\n",
        "        mergesort(sub_array1)\n",
        "        mergesort(sub_array2)\n",
        "\n",
        "        i=j=k=0\n",
        "\n",
        "        while i<len(sub_array1) and j<len(sub_array2):\n",
        "            if sub_array1[i]<sub_array2[j]:\n",
        "                arr[k]=sub_array1[i]\n",
        "                i+=1\n",
        "\n",
        "            else:\n",
        "                arr[k]=sub_array2[j]\n",
        "                j+=1\n",
        "\n",
        "            k+=1\n",
        "\n",
        "        while i<len(sub_array1):\n",
        "            arr[k]=sub_array1[i]\n",
        "            i+=1\n",
        "            k+=1\n",
        "\n",
        "        while j<len(sub_array2):\n",
        "            arr[k]=sub_array2[j]\n",
        "            j+=1\n",
        "            k+=1\n",
        "\n",
        "\n",
        "\n",
        "\n",
        "\n",
        "\n",
        "\n",
        "\n",
        "\n",
        "\n",
        "\n",
        "\n",
        "arr=[11,3,8,4,98,31,45,21,67,23,33,62]\n",
        "mergesort(arr)\n",
        "print(arr)"
      ],
      "metadata": {
        "colab": {
          "base_uri": "https://localhost:8080/"
        },
        "id": "H7RoSruI4uDP",
        "outputId": "24501f2a-8bda-47e2-80f6-45d30c2f27b7"
      },
      "execution_count": 7,
      "outputs": [
        {
          "output_type": "stream",
          "name": "stdout",
          "text": [
            "[3, 4, 8, 11, 21, 23, 31, 33, 45, 62, 67, 98]\n"
          ]
        }
      ]
    },
    {
      "cell_type": "markdown",
      "source": [
        "## Quicksort"
      ],
      "metadata": {
        "id": "7mbaAEiBWAqi"
      }
    },
    {
      "cell_type": "code",
      "source": [
        "def quicksort(arr):\n",
        "    if len(arr)<=1:\n",
        "        return arr\n",
        "    pivot=arr[len(arr)//2]\n",
        "    left=[x for x in arr if x<pivot]\n",
        "    middle=[x for x in arr if x==pivot]\n",
        "    right=[x for x in arr if x>pivot]\n",
        "\n",
        "    return quicksort(left)+middle+quicksort(right)\n",
        "\n",
        "arr=[13,56,11,9,45,21,34,39]\n",
        "\n",
        "sorted_arr=quicksort(arr)\n",
        "print(sorted_arr)"
      ],
      "metadata": {
        "colab": {
          "base_uri": "https://localhost:8080/"
        },
        "id": "merOl57zA5Ss",
        "outputId": "b1680dec-2dd7-43b2-ed84-d7fe3ae5aeea"
      },
      "execution_count": 8,
      "outputs": [
        {
          "output_type": "stream",
          "name": "stdout",
          "text": [
            "[9, 11, 13, 21, 34, 39, 45, 56]\n"
          ]
        }
      ]
    },
    {
      "cell_type": "markdown",
      "source": [
        "## Errors"
      ],
      "metadata": {
        "id": "aYmDgUrkWFTg"
      }
    },
    {
      "cell_type": "code",
      "source": [
        "'''\n",
        "\n",
        "try:\n",
        "    #Code that may raise an exception\n",
        "    #...\n",
        "\n",
        "\n",
        "except ExceptionType1:\n",
        "    #Exception handling code for ExceptionType\n",
        "\n",
        ""
      ],
      "metadata": {
        "id": "byn4izSUKu_X"
      },
      "execution_count": null,
      "outputs": []
    },
    {
      "cell_type": "code",
      "source": [
        "try:\n",
        "    num1=int(input(\"Enter the first number: \"))\n",
        "    num2=int(input(\"Enter the second number: \"))\n",
        "    result=num1/num2\n",
        "    print(\"Result:\",result)\n",
        "\n",
        "except ValueError:\n",
        "    print(\"Invalid input. Please enter numeric values\")\n",
        "\n",
        "except ZeroDivisionError:\n",
        "    print(\"Error: Cannot divide by zero\")\n",
        "\n",
        "else:\n",
        "    print(\"No exception occurred\")\n",
        "\n",
        "finally:\n",
        "    print(\"End of program\")"
      ],
      "metadata": {
        "colab": {
          "base_uri": "https://localhost:8080/"
        },
        "id": "Pp7FUMlmU6a5",
        "outputId": "131d3214-b3fb-4df2-fa85-30405a3e16e0"
      },
      "execution_count": 12,
      "outputs": [
        {
          "output_type": "stream",
          "name": "stdout",
          "text": [
            "Enter the first number: 6\n",
            "Enter the second number: 0\n",
            "Error: Cannot divide by zero\n",
            "End of program\n"
          ]
        }
      ]
    },
    {
      "cell_type": "code",
      "source": [
        "def convert_to_integer(string):\n",
        "    try:\n",
        "        number=int(string)\n",
        "        print(\"Integer value:\",number)\n",
        "    except ValueError:\n",
        "        print(\"Error: Invalid integer format\")\n",
        "\n",
        "def main():\n",
        "    string=input(\"Enter a string to convert to integer:\")\n",
        "    convert_to_integer(string)\n",
        "\n",
        "\n",
        "if __name__==\"__main__\":\n",
        "    main()\n"
      ],
      "metadata": {
        "colab": {
          "base_uri": "https://localhost:8080/"
        },
        "id": "IH8Y0CEJVzXG",
        "outputId": "05aac6c4-c9e4-48ac-fc58-d25a7f8ed373"
      },
      "execution_count": 14,
      "outputs": [
        {
          "output_type": "stream",
          "name": "stdout",
          "text": [
            "Enter a string to convert to integer:jgjnsalg sr\n",
            "Error: Invalid integer format\n"
          ]
        }
      ]
    },
    {
      "cell_type": "code",
      "source": [],
      "metadata": {
        "id": "AqL-JeBLW93K"
      },
      "execution_count": null,
      "outputs": []
    }
  ]
}