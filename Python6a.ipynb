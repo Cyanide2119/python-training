{
  "nbformat": 4,
  "nbformat_minor": 0,
  "metadata": {
    "colab": {
      "provenance": [],
      "authorship_tag": "ABX9TyN7yYE8ah1lMSwjountkMwK",
      "include_colab_link": true
    },
    "kernelspec": {
      "name": "python3",
      "display_name": "Python 3"
    },
    "language_info": {
      "name": "python"
    }
  },
  "cells": [
    {
      "cell_type": "markdown",
      "metadata": {
        "id": "view-in-github",
        "colab_type": "text"
      },
      "source": [
        "<a href=\"https://colab.research.google.com/github/Cyanide2119/python-training/blob/main/Python6a.ipynb\" target=\"_parent\"><img src=\"https://colab.research.google.com/assets/colab-badge.svg\" alt=\"Open In Colab\"/></a>"
      ]
    },
    {
      "cell_type": "markdown",
      "source": [
        "## Given an array of n numbers and another number x. The task is to check whether or not there exists two elements in the array whose exact sum is x."
      ],
      "metadata": {
        "id": "d2cGO44_sCIb"
      }
    },
    {
      "cell_type": "code",
      "source": [
        "#Two loops\n",
        "\n",
        "n=int(input(\"Enter the size of array: \"))\n",
        "lst=[]\n",
        "print(\"Enter the elements\\n\")\n",
        "for i in range(n):\n",
        "    lst.append(int(input()))\n",
        "\n",
        "print(lst)\n",
        "\n",
        "x=int(input(\"Enter the element:\"))\n",
        "\n",
        "for i in range(n-1):\n",
        "    for j in range(i+1,n):\n",
        "        if lst[i]+lst[j]==x:\n",
        "            print([lst[i],lst[j]])\n",
        "\n",
        "\n"
      ],
      "metadata": {
        "colab": {
          "base_uri": "https://localhost:8080/"
        },
        "id": "Ftf9KcSD4LH6",
        "outputId": "dbd0a4cf-de9a-4214-b470-81c694c695f4"
      },
      "execution_count": null,
      "outputs": [
        {
          "output_type": "stream",
          "name": "stdout",
          "text": [
            "Enter the size of array: 5\n",
            "Enter the elements\n",
            "\n",
            "2\n",
            "4\n",
            "1\n",
            "6\n",
            "5\n",
            "[2, 4, 1, 6, 5]\n",
            "Enter the element:6\n",
            "[2, 4]\n",
            "[1, 5]\n"
          ]
        }
      ]
    },
    {
      "cell_type": "code",
      "source": [
        "\n",
        "n=int(input(\"Enter the size of array: \"))\n",
        "lst=[]\n",
        "print(\"Enter the elements\\n\")\n",
        "for i in range(n):\n",
        "    lst.append(int(input()))\n",
        "\n",
        "print(lst)\n",
        "\n",
        "x=int(input(\"Enter the element:\"))\n",
        "\n",
        "lst1=[]\n",
        "for i in lst:\n",
        "    lst1.append(x-i)\n",
        "\n",
        "for i in range(n):\n",
        "    if lst[i]\n"
      ],
      "metadata": {
        "id": "QhYSTu7N4qOt"
      },
      "execution_count": null,
      "outputs": []
    },
    {
      "cell_type": "code",
      "source": [
        "#Two pointer approach\n",
        "\n",
        "\"\"\"\n",
        "n=int(input(\"Enter the size of array: \"))\n",
        "lst=[]\n",
        "print(\"Enter the elements\\n\")\n",
        "for i in range(n):\n",
        "    lst.append(int(input()))\n",
        "\n",
        "print(lst)\n",
        "\n",
        "\"\"\"\n",
        "\n",
        "\n",
        "lst=[2,4,5,6,8,1]\n",
        "\n",
        "x=int(input(\"Enter the element:\"))\n",
        "\n",
        "lst.sort()\n",
        "\n",
        "l=0\n",
        "r=len(lst)-1\n",
        "\n",
        "while(l<r):\n",
        "    if lst[l]+lst[r]==x:\n",
        "        print(lst[l],lst[r])\n",
        "        break\n",
        "\n",
        "    elif lst[i]+lst[r]>x:\n",
        "        r-=1\n",
        "    else:\n",
        "        l+=1\n",
        "\n"
      ],
      "metadata": {
        "colab": {
          "base_uri": "https://localhost:8080/"
        },
        "id": "Zy8RgvpyKCM1",
        "outputId": "08b7612d-38fb-4801-9291-722167799536"
      },
      "execution_count": null,
      "outputs": [
        {
          "output_type": "stream",
          "name": "stdout",
          "text": [
            "Enter the element:9\n",
            "1 8\n"
          ]
        }
      ]
    },
    {
      "cell_type": "markdown",
      "source": [
        "##Cheat sheet for Time Complexity\n",
        "\n",
        "* When your calculation is not dependent of the input size, it is a constant time complexity(O(1)).\n",
        "* When the input size is reduced by half, maybe when iterating, handling recursion or whatsoever it is a logarithmic time complexity(O(log(n))).\n",
        "* When you have a single loop within your algorithm, it is linear time complexity.\n",
        "\n",
        "* When you have nested loops within your algorithm, meaining a loop in a loop, it quadratic time complexity.\n",
        "\n",
        "* When the growth rate doubles with each addition to the input, it is exponential time complexity."
      ],
      "metadata": {
        "id": "FlEXnjQEL-ur"
      }
    },
    {
      "cell_type": "code",
      "source": [
        "def access_element(arr, index):\n",
        "    return arr[index]\n",
        "\n",
        "arr = [10,20,30,40,50]\n",
        "index = 2\n",
        "result = access_element(arr, index)\n",
        "\n",
        "print(f\"Element at index {index} is {result}\")\n"
      ],
      "metadata": {
        "id": "8hSySV9BRHxs",
        "colab": {
          "base_uri": "https://localhost:8080/"
        },
        "outputId": "33e0a8f6-d1d0-4391-ceeb-8638393b941c"
      },
      "execution_count": null,
      "outputs": [
        {
          "output_type": "stream",
          "name": "stdout",
          "text": [
            "Element at index 2 is 30\n"
          ]
        }
      ]
    },
    {
      "cell_type": "code",
      "source": [
        "#binary search\n",
        "\n",
        "arr = [10,20,30,40,50]\n",
        "x=20\n",
        "\n",
        "l=0\n",
        "r=len(arr)-1\n",
        "while l<=r:\n",
        "    m=(l+r)//2\n",
        "    if arr[m]==x:\n",
        "        print(m)\n",
        "        break\n",
        "\n",
        "    elif arr[m]>x:\n",
        "        r=m-1\n",
        "    else:\n",
        "        l=m+1\n",
        "\n",
        "\n"
      ],
      "metadata": {
        "colab": {
          "base_uri": "https://localhost:8080/"
        },
        "id": "b_TFzTfJWgqE",
        "outputId": "b8e07929-eafc-4cea-b431-a9768c2f851b"
      },
      "execution_count": null,
      "outputs": [
        {
          "output_type": "stream",
          "name": "stdout",
          "text": [
            "1\n"
          ]
        }
      ]
    },
    {
      "cell_type": "code",
      "source": [
        "def bs(lst,h,l,x):\n",
        "    if l>h:\n",
        "        return -1\n",
        "\n",
        "    m=(l+h)//2\n",
        "\n",
        "    if lst[m]==x:\n",
        "        return m\n",
        "\n",
        "    if lst[m]>x:\n",
        "        return bs(lst,m,l,x)\n",
        "\n",
        "    return bs(lst,h,m,x)\n",
        "\n",
        "\n",
        "\n",
        "arr = [10,45,60,125,290,20,30,40,50]\n",
        "x=290\n",
        "\n",
        "arr.sort()\n",
        "\n",
        "print(arr)\n",
        "\n",
        "l=0\n",
        "h=len(arr)\n",
        "\n",
        "y=bs(arr,h,l,x)\n",
        "print(y)"
      ],
      "metadata": {
        "id": "0cQN5J-RaQ1i",
        "colab": {
          "base_uri": "https://localhost:8080/"
        },
        "outputId": "b3a1c818-2973-4a48-b32c-d5103223907f"
      },
      "execution_count": null,
      "outputs": [
        {
          "output_type": "stream",
          "name": "stdout",
          "text": [
            "[10, 20, 30, 40, 45, 50, 60, 125, 290]\n",
            "8\n"
          ]
        }
      ]
    },
    {
      "cell_type": "code",
      "source": [
        "arr = [10,45,60,125,290,20,30,40,50]\n",
        "\n",
        "for i in range(len(arr)-1):\n",
        "    for j in range(i+1,len(arr)):\n",
        "        if arr[i]>arr[j]:\n",
        "\n",
        "            x=arr[i]\n",
        "            arr[i]=arr[j]\n",
        "            arr[j]=x\n",
        "print(arr)"
      ],
      "metadata": {
        "colab": {
          "base_uri": "https://localhost:8080/"
        },
        "id": "uLCloREH08F7",
        "outputId": "954cd4f5-4884-4ae2-adf5-41b32e785771"
      },
      "execution_count": null,
      "outputs": [
        {
          "output_type": "stream",
          "name": "stdout",
          "text": [
            "[10, 20, 30, 40, 45, 50, 60, 125, 290]\n"
          ]
        }
      ]
    },
    {
      "cell_type": "code",
      "source": [
        "def fib(n,i,j):\n",
        "    if n==1:\n",
        "        return\n",
        "    print(j,end=\" \")\n",
        "\n",
        "    return fib(n-1,j,i+j)\n",
        "\n",
        "\n",
        "i=0\n",
        "j=1\n",
        "fib(20,i,j)"
      ],
      "metadata": {
        "colab": {
          "base_uri": "https://localhost:8080/"
        },
        "id": "beIKdFAPwnjx",
        "outputId": "9f7f933c-5bdc-4f01-bf34-6dca529e4788"
      },
      "execution_count": null,
      "outputs": [
        {
          "output_type": "stream",
          "name": "stdout",
          "text": [
            "1 1 2 3 5 8 13 21 34 55 89 144 233 377 610 987 1597 2584 4181 "
          ]
        }
      ]
    },
    {
      "cell_type": "code",
      "source": [],
      "metadata": {
        "id": "H19sjuUj69Jd"
      },
      "execution_count": null,
      "outputs": []
    }
  ]
}